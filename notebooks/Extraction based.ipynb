{
 "cells": [
  {
   "cell_type": "markdown",
   "id": "738af94f-13df-4a43-bfa6-62c6fbad05c0",
   "metadata": {},
   "source": [
    "# Extractive Baseline\n",
    "\n",
    "Data: PubMed"
   ]
  },
  {
   "cell_type": "code",
   "execution_count": 1,
   "id": "0d60ba08-098f-4633-972c-d7a8ae787419",
   "metadata": {},
   "outputs": [],
   "source": [
    "import gdown\n",
    "import json\n",
    "import numpy as np\n",
    "import pandas as pd\n",
    "from nltk.corpus import stopwords\n",
    "from nltk.tokenize import word_tokenize, sent_tokenize\n",
    "from tqdm.auto import tqdm\n",
    "tqdm.pandas()\n",
    "from datasets import load_metric\n",
    "metric = load_metric(\"rouge\")"
   ]
  },
  {
   "cell_type": "code",
   "execution_count": 2,
   "id": "0ff97285-59b3-426a-8889-fb7fad738327",
   "metadata": {},
   "outputs": [
    {
     "name": "stdout",
     "output_type": "stream",
     "text": [
      "File exists: ../csci-544-project/data/pubmed-dataset.zip\n"
     ]
    },
    {
     "data": {
      "text/plain": [
       "'../csci-544-project/data/pubmed-dataset.zip'"
      ]
     },
     "execution_count": 2,
     "metadata": {},
     "output_type": "execute_result"
    }
   ],
   "source": [
    "url = 'https://drive.google.com/u/0/uc?export=download&confirm=OaU2&id=1lvsqvsFi3W-pE1SqNZI0s8NR9rC1tsja'\n",
    "output = '../csci-544-project/data/pubmed-dataset.zip'\n",
    "gdown.cached_download(url, output, quiet=False)"
   ]
  },
  {
   "cell_type": "code",
   "execution_count": 3,
   "id": "1d606bf7-cfd6-4455-859e-8b774134b565",
   "metadata": {},
   "outputs": [
    {
     "data": {
      "text/plain": [
       "['../csci-544-project/data/pubmed-dataset/',\n",
       " '../csci-544-project/data/__MACOSX/._pubmed-dataset',\n",
       " '../csci-544-project/data/pubmed-dataset/train.txt',\n",
       " '../csci-544-project/data/__MACOSX/pubmed-dataset/._train.txt',\n",
       " '../csci-544-project/data/pubmed-dataset/vocab',\n",
       " '../csci-544-project/data/__MACOSX/pubmed-dataset/._vocab',\n",
       " '../csci-544-project/data/pubmed-dataset/test.txt',\n",
       " '../csci-544-project/data/__MACOSX/pubmed-dataset/._test.txt',\n",
       " '../csci-544-project/data/pubmed-dataset/val.txt',\n",
       " '../csci-544-project/data/__MACOSX/pubmed-dataset/._val.txt']"
      ]
     },
     "execution_count": 3,
     "metadata": {},
     "output_type": "execute_result"
    }
   ],
   "source": [
    "gdown.extractall(output)"
   ]
  },
  {
   "cell_type": "code",
   "execution_count": 4,
   "id": "427e34d7-202e-43ff-801e-907df24d5a5f",
   "metadata": {},
   "outputs": [],
   "source": [
    "def read_pubmed(path: str) -> pd.DataFrame:\n",
    "    with open(path, 'r') as json_file:\n",
    "        json_list = list(json_file)\n",
    "\n",
    "    # read jsonl\n",
    "    result = [json.loads(json_str) for json_str in json_list]\n",
    "\n",
    "    return pd.DataFrame(result)"
   ]
  },
  {
   "cell_type": "code",
   "execution_count": 5,
   "id": "a26edd3b-2e44-47f7-bf52-6011633f3cf4",
   "metadata": {},
   "outputs": [],
   "source": [
    "df_train = read_pubmed('../csci-544-project/data/pubmed-dataset/train.txt')\n",
    "df_test = read_pubmed('../csci-544-project/data/pubmed-dataset/test.txt')\n",
    "df_val = read_pubmed('../csci-544-project/data/pubmed-dataset/val.txt')"
   ]
  },
  {
   "cell_type": "code",
   "execution_count": 6,
   "id": "4fd8dcde-8ad6-4c71-a486-07e0ab8d8e55",
   "metadata": {},
   "outputs": [
    {
     "data": {
      "text/html": [
       "<div>\n",
       "<style scoped>\n",
       "    .dataframe tbody tr th:only-of-type {\n",
       "        vertical-align: middle;\n",
       "    }\n",
       "\n",
       "    .dataframe tbody tr th {\n",
       "        vertical-align: top;\n",
       "    }\n",
       "\n",
       "    .dataframe thead th {\n",
       "        text-align: right;\n",
       "    }\n",
       "</style>\n",
       "<table border=\"1\" class=\"dataframe\">\n",
       "  <thead>\n",
       "    <tr style=\"text-align: right;\">\n",
       "      <th></th>\n",
       "      <th>article_id</th>\n",
       "      <th>article_text</th>\n",
       "      <th>abstract_text</th>\n",
       "      <th>labels</th>\n",
       "      <th>section_names</th>\n",
       "      <th>sections</th>\n",
       "    </tr>\n",
       "  </thead>\n",
       "  <tbody>\n",
       "    <tr>\n",
       "      <th>0</th>\n",
       "      <td>PMC3872579</td>\n",
       "      <td>[a recent systematic analysis showed that in 2...</td>\n",
       "      <td>[&lt;S&gt; background : the present study was carrie...</td>\n",
       "      <td>None</td>\n",
       "      <td>[INTRODUCTION, MATERIALS AND METHODS, Particip...</td>\n",
       "      <td>[[a recent systematic analysis showed that in ...</td>\n",
       "    </tr>\n",
       "    <tr>\n",
       "      <th>1</th>\n",
       "      <td>PMC3770628</td>\n",
       "      <td>[it occurs in more than 50% of patients and ma...</td>\n",
       "      <td>[&lt;S&gt; backgroundanemia in patients with cancer ...</td>\n",
       "      <td>None</td>\n",
       "      <td>[Introduction, Patients and methods, Study des...</td>\n",
       "      <td>[[it occurs in more than 50% of patients and m...</td>\n",
       "    </tr>\n",
       "    <tr>\n",
       "      <th>2</th>\n",
       "      <td>PMC5330001</td>\n",
       "      <td>[tardive dystonia ( td ) , a rarer side effect...</td>\n",
       "      <td>[&lt;S&gt; tardive dystonia ( td ) is a serious side...</td>\n",
       "      <td>None</td>\n",
       "      <td>[INTRODUCTION, CASE REPORT, DISCUSSION, Declar...</td>\n",
       "      <td>[[tardive dystonia ( td ) , a rarer side effec...</td>\n",
       "    </tr>\n",
       "    <tr>\n",
       "      <th>3</th>\n",
       "      <td>PMC4386667</td>\n",
       "      <td>[lepidoptera include agricultural pests that ,...</td>\n",
       "      <td>[&lt;S&gt; many lepidopteran insects are agricultura...</td>\n",
       "      <td>None</td>\n",
       "      <td>[1. Introduction, 2. Insect Immunity, 3. Signa...</td>\n",
       "      <td>[[lepidoptera include agricultural pests that ...</td>\n",
       "    </tr>\n",
       "    <tr>\n",
       "      <th>4</th>\n",
       "      <td>PMC4307954</td>\n",
       "      <td>[syncope is caused by transient diffuse cerebr...</td>\n",
       "      <td>[&lt;S&gt; we present an unusual case of recurrent c...</td>\n",
       "      <td>None</td>\n",
       "      <td>[Introduction, Case report, Discussion, Confli...</td>\n",
       "      <td>[[syncope is caused by transient diffuse cereb...</td>\n",
       "    </tr>\n",
       "    <tr>\n",
       "      <th>...</th>\n",
       "      <td>...</td>\n",
       "      <td>...</td>\n",
       "      <td>...</td>\n",
       "      <td>...</td>\n",
       "      <td>...</td>\n",
       "      <td>...</td>\n",
       "    </tr>\n",
       "    <tr>\n",
       "      <th>119919</th>\n",
       "      <td>PMC3502213</td>\n",
       "      <td>[eukaryotic cells depend on vesicle - mediated...</td>\n",
       "      <td>[&lt;S&gt; long - distance trafficking of membranous...</td>\n",
       "      <td>None</td>\n",
       "      <td>[Introduction, Motor-Dependent Transport of Ra...</td>\n",
       "      <td>[[eukaryotic cells depend on vesicle - mediate...</td>\n",
       "    </tr>\n",
       "    <tr>\n",
       "      <th>119920</th>\n",
       "      <td>PMC3198562</td>\n",
       "      <td>[as regards the selection criteria of the post...</td>\n",
       "      <td>[&lt;S&gt; aims and objectives : to study the stress...</td>\n",
       "      <td>None</td>\n",
       "      <td>[INTRODUCTION, MATERIALS AND METHODS, Modeling...</td>\n",
       "      <td>[[fiber post systems are routinely used in res...</td>\n",
       "    </tr>\n",
       "    <tr>\n",
       "      <th>119921</th>\n",
       "      <td>PMC4436536</td>\n",
       "      <td>[in most of the peer review publications in th...</td>\n",
       "      <td>[&lt;S&gt; abstractbackgroundthe objective of this s...</td>\n",
       "      <td>None</td>\n",
       "      <td>[Introduction, Methods, Results, Discussion, L...</td>\n",
       "      <td>[[in most of the peer review publications in t...</td>\n",
       "    </tr>\n",
       "    <tr>\n",
       "      <th>119922</th>\n",
       "      <td>PMC4251613</td>\n",
       "      <td>[the reveal registry is a longitudinal registr...</td>\n",
       "      <td>[&lt;S&gt; background : patients with pulmonary arte...</td>\n",
       "      <td>None</td>\n",
       "      <td>[TRIAL REGISTRY:, Materials and Methods, REVEA...</td>\n",
       "      <td>[[], [the reveal registry is a longitudinal re...</td>\n",
       "    </tr>\n",
       "    <tr>\n",
       "      <th>119923</th>\n",
       "      <td>PMC3389695</td>\n",
       "      <td>[cerebral palsy is a nonprogressive central ne...</td>\n",
       "      <td>[&lt;S&gt; \\n objective . to determine &lt;/S&gt;, &lt;S&gt; if ...</td>\n",
       "      <td>None</td>\n",
       "      <td>[1. Introduction, 2. Method, 3. Results, 4. Di...</td>\n",
       "      <td>[[cerebral palsy is a nonprogressive central n...</td>\n",
       "    </tr>\n",
       "  </tbody>\n",
       "</table>\n",
       "<p>119924 rows × 6 columns</p>\n",
       "</div>"
      ],
      "text/plain": [
       "        article_id                                       article_text  \\\n",
       "0       PMC3872579  [a recent systematic analysis showed that in 2...   \n",
       "1       PMC3770628  [it occurs in more than 50% of patients and ma...   \n",
       "2       PMC5330001  [tardive dystonia ( td ) , a rarer side effect...   \n",
       "3       PMC4386667  [lepidoptera include agricultural pests that ,...   \n",
       "4       PMC4307954  [syncope is caused by transient diffuse cerebr...   \n",
       "...            ...                                                ...   \n",
       "119919  PMC3502213  [eukaryotic cells depend on vesicle - mediated...   \n",
       "119920  PMC3198562  [as regards the selection criteria of the post...   \n",
       "119921  PMC4436536  [in most of the peer review publications in th...   \n",
       "119922  PMC4251613  [the reveal registry is a longitudinal registr...   \n",
       "119923  PMC3389695  [cerebral palsy is a nonprogressive central ne...   \n",
       "\n",
       "                                            abstract_text labels  \\\n",
       "0       [<S> background : the present study was carrie...   None   \n",
       "1       [<S> backgroundanemia in patients with cancer ...   None   \n",
       "2       [<S> tardive dystonia ( td ) is a serious side...   None   \n",
       "3       [<S> many lepidopteran insects are agricultura...   None   \n",
       "4       [<S> we present an unusual case of recurrent c...   None   \n",
       "...                                                   ...    ...   \n",
       "119919  [<S> long - distance trafficking of membranous...   None   \n",
       "119920  [<S> aims and objectives : to study the stress...   None   \n",
       "119921  [<S> abstractbackgroundthe objective of this s...   None   \n",
       "119922  [<S> background : patients with pulmonary arte...   None   \n",
       "119923  [<S> \\n objective . to determine </S>, <S> if ...   None   \n",
       "\n",
       "                                            section_names  \\\n",
       "0       [INTRODUCTION, MATERIALS AND METHODS, Particip...   \n",
       "1       [Introduction, Patients and methods, Study des...   \n",
       "2       [INTRODUCTION, CASE REPORT, DISCUSSION, Declar...   \n",
       "3       [1. Introduction, 2. Insect Immunity, 3. Signa...   \n",
       "4       [Introduction, Case report, Discussion, Confli...   \n",
       "...                                                   ...   \n",
       "119919  [Introduction, Motor-Dependent Transport of Ra...   \n",
       "119920  [INTRODUCTION, MATERIALS AND METHODS, Modeling...   \n",
       "119921  [Introduction, Methods, Results, Discussion, L...   \n",
       "119922  [TRIAL REGISTRY:, Materials and Methods, REVEA...   \n",
       "119923  [1. Introduction, 2. Method, 3. Results, 4. Di...   \n",
       "\n",
       "                                                 sections  \n",
       "0       [[a recent systematic analysis showed that in ...  \n",
       "1       [[it occurs in more than 50% of patients and m...  \n",
       "2       [[tardive dystonia ( td ) , a rarer side effec...  \n",
       "3       [[lepidoptera include agricultural pests that ...  \n",
       "4       [[syncope is caused by transient diffuse cereb...  \n",
       "...                                                   ...  \n",
       "119919  [[eukaryotic cells depend on vesicle - mediate...  \n",
       "119920  [[fiber post systems are routinely used in res...  \n",
       "119921  [[in most of the peer review publications in t...  \n",
       "119922  [[], [the reveal registry is a longitudinal re...  \n",
       "119923  [[cerebral palsy is a nonprogressive central n...  \n",
       "\n",
       "[119924 rows x 6 columns]"
      ]
     },
     "execution_count": 6,
     "metadata": {},
     "output_type": "execute_result"
    }
   ],
   "source": [
    "df_train"
   ]
  },
  {
   "cell_type": "code",
   "execution_count": 7,
   "id": "23c5000a-4ee2-46df-839f-7c9ea72465c5",
   "metadata": {},
   "outputs": [],
   "source": [
    "def extractive_apply(row):\n",
    "    # print(row['article_id'])\n",
    "    sentences = row['article_text']\n",
    "    if not sentences or not sentences[0]:\n",
    "        return np.nan\n",
    "    elif len(sentences) < len(row['abstract_text']):\n",
    "        return np.nan\n",
    "    \n",
    "    \n",
    "    text = ' '.join(sentences)\n",
    "    stopWords = set(stopwords.words('english'))\n",
    "    words = word_tokenize(text)\n",
    "    target_len = len(row['abstract_text'])\n",
    "    \n",
    "    freqTable = dict()\n",
    "    for word in words:\n",
    "        word = word.lower()\n",
    "        if word in stopWords:\n",
    "            continue\n",
    "        if word in freqTable:\n",
    "            freqTable[word] += 1\n",
    "        else:\n",
    "            freqTable[word] = 1\n",
    "            \n",
    "    sentenceValue = dict()\n",
    "    for sentence in sentences:\n",
    "        for word, freq in freqTable.items():\n",
    "            if word in sentence.lower():\n",
    "                if sentence in sentenceValue:\n",
    "                    sentenceValue[sentence] += freq\n",
    "                else:\n",
    "                    sentenceValue[sentence] = freq\n",
    "    # print(len(sentences))\n",
    "    # print(sentenceValue.values())\n",
    "    try:\n",
    "        min_val = sorted(sentenceValue.values(), reverse=True)[target_len-1]\n",
    "    except IndexError: # this case # of sentenceValue < # of sentences, so just leave it 0\n",
    "        return np.nan\n",
    "    \n",
    "    summary = []\n",
    "    for sentence in sentences:\n",
    "        if len(summary) == target_len:\n",
    "            break\n",
    "        if (sentence in sentenceValue) and (sentenceValue[sentence] >= min_val):\n",
    "            if '<S> '+ sentence + ' </S>' not in summary:\n",
    "                summary += ['<S> '+ sentence + ' </S>']\n",
    "            \n",
    "    assert len(summary) == target_len, f\"summary_len={len(summary)}, target_len={target_len}\"\n",
    "    \n",
    "    return summary"
   ]
  },
  {
   "cell_type": "code",
   "execution_count": 8,
   "id": "0808c7bd-2639-4eb7-b922-59ca4caec4bd",
   "metadata": {},
   "outputs": [
    {
     "data": {
      "text/plain": [
       "article_id                                              PMC5238359\n",
       "article_text                                                    []\n",
       "abstract_text    [<S> highlightsinflammatory myofibroblastic tu...\n",
       "labels                                                        None\n",
       "section_names    [Conflicts of interest, Funding, Ethical appro...\n",
       "sections                                  [[], [], [], [], [], []]\n",
       "Name: 30263, dtype: object"
      ]
     },
     "execution_count": 8,
     "metadata": {},
     "output_type": "execute_result"
    }
   ],
   "source": [
    "df_train.iloc[30263]"
   ]
  },
  {
   "cell_type": "code",
   "execution_count": 9,
   "id": "6a87f6f8-33e3-4ecb-8798-c4a4d8e5dcf1",
   "metadata": {
    "tags": []
   },
   "outputs": [
    {
     "data": {
      "application/vnd.jupyter.widget-view+json": {
       "model_id": "d7757cc205da4f5295bdef433228ce8c",
       "version_major": 2,
       "version_minor": 0
      },
      "text/plain": [
       "  0%|          | 0/119924 [00:00<?, ?it/s]"
      ]
     },
     "metadata": {},
     "output_type": "display_data"
    }
   ],
   "source": [
    "extractive_summaries = df_train.progress_apply(extractive_apply, axis=1)"
   ]
  },
  {
   "cell_type": "code",
   "execution_count": 21,
   "id": "3f7dbd19-8be6-435a-bef6-464990cf5341",
   "metadata": {},
   "outputs": [],
   "source": [
    "na_idx = extractive_summaries[extractive_summaries.isnull()].index"
   ]
  },
  {
   "cell_type": "code",
   "execution_count": 37,
   "id": "5820b6f1-9d70-4e4a-a840-3080e9388b0a",
   "metadata": {},
   "outputs": [],
   "source": [
    "df_comp = pd.DataFrame()\n",
    "df_comp['predictions'] = extractive_summaries[~extractive_summaries.index.isin(na_idx)]\n",
    "df_comp['references'] = df_train['abstract_text'][~df_train.index.isin(na_idx)]"
   ]
  },
  {
   "cell_type": "code",
   "execution_count": 41,
   "id": "0e4e01f4-8a15-454c-8855-01149146ae85",
   "metadata": {},
   "outputs": [
    {
     "data": {
      "application/vnd.jupyter.widget-view+json": {
       "model_id": "cf082ae6d70c4605a03f146216543a8e",
       "version_major": 2,
       "version_minor": 0
      },
      "text/plain": [
       "  0%|          | 0/116155 [00:00<?, ?it/s]"
      ]
     },
     "metadata": {},
     "output_type": "display_data"
    },
    {
     "ename": "KeyboardInterrupt",
     "evalue": "",
     "output_type": "error",
     "traceback": [
      "\u001b[0;31m---------------------------------------------------------------------------\u001b[0m",
      "\u001b[0;31mKeyboardInterrupt\u001b[0m                         Traceback (most recent call last)",
      "\u001b[0;32m/tmp/ipykernel_3125/1879684330.py\u001b[0m in \u001b[0;36m<module>\u001b[0;34m\u001b[0m\n\u001b[0;32m----> 1\u001b[0;31m \u001b[0mdf_comp\u001b[0m\u001b[0;34m.\u001b[0m\u001b[0mprogress_apply\u001b[0m\u001b[0;34m(\u001b[0m\u001b[0;32mlambda\u001b[0m \u001b[0mrow\u001b[0m\u001b[0;34m:\u001b[0m \u001b[0mmetric\u001b[0m\u001b[0;34m.\u001b[0m\u001b[0mcompute\u001b[0m\u001b[0;34m(\u001b[0m\u001b[0mpredictions\u001b[0m\u001b[0;34m=\u001b[0m\u001b[0mrow\u001b[0m\u001b[0;34m[\u001b[0m\u001b[0;34m'predictions'\u001b[0m\u001b[0;34m]\u001b[0m\u001b[0;34m,\u001b[0m \u001b[0mreferences\u001b[0m\u001b[0;34m=\u001b[0m\u001b[0mrow\u001b[0m\u001b[0;34m[\u001b[0m\u001b[0;34m'references'\u001b[0m\u001b[0;34m]\u001b[0m\u001b[0;34m)\u001b[0m\u001b[0;34m,\u001b[0m \u001b[0maxis\u001b[0m\u001b[0;34m=\u001b[0m\u001b[0;36m1\u001b[0m\u001b[0;34m)\u001b[0m\u001b[0;34m\u001b[0m\u001b[0;34m\u001b[0m\u001b[0m\n\u001b[0m",
      "\u001b[0;32m~/Documents/csci-544-project/.jupyter-venv/lib/python3.8/site-packages/tqdm/std.py\u001b[0m in \u001b[0;36minner\u001b[0;34m(df, func, *args, **kwargs)\u001b[0m\n\u001b[1;32m    812\u001b[0m                 \u001b[0;31m# on the df using our wrapper (which provides bar updating)\u001b[0m\u001b[0;34m\u001b[0m\u001b[0;34m\u001b[0m\u001b[0;34m\u001b[0m\u001b[0m\n\u001b[1;32m    813\u001b[0m                 \u001b[0;32mtry\u001b[0m\u001b[0;34m:\u001b[0m\u001b[0;34m\u001b[0m\u001b[0;34m\u001b[0m\u001b[0m\n\u001b[0;32m--> 814\u001b[0;31m                     \u001b[0;32mreturn\u001b[0m \u001b[0mgetattr\u001b[0m\u001b[0;34m(\u001b[0m\u001b[0mdf\u001b[0m\u001b[0;34m,\u001b[0m \u001b[0mdf_function\u001b[0m\u001b[0;34m)\u001b[0m\u001b[0;34m(\u001b[0m\u001b[0mwrapper\u001b[0m\u001b[0;34m,\u001b[0m \u001b[0;34m**\u001b[0m\u001b[0mkwargs\u001b[0m\u001b[0;34m)\u001b[0m\u001b[0;34m\u001b[0m\u001b[0;34m\u001b[0m\u001b[0m\n\u001b[0m\u001b[1;32m    815\u001b[0m                 \u001b[0;32mfinally\u001b[0m\u001b[0;34m:\u001b[0m\u001b[0;34m\u001b[0m\u001b[0;34m\u001b[0m\u001b[0m\n\u001b[1;32m    816\u001b[0m                     \u001b[0mt\u001b[0m\u001b[0;34m.\u001b[0m\u001b[0mclose\u001b[0m\u001b[0;34m(\u001b[0m\u001b[0;34m)\u001b[0m\u001b[0;34m\u001b[0m\u001b[0;34m\u001b[0m\u001b[0m\n",
      "\u001b[0;32m~/Documents/csci-544-project/.jupyter-venv/lib/python3.8/site-packages/pandas/core/frame.py\u001b[0m in \u001b[0;36mapply\u001b[0;34m(self, func, axis, raw, result_type, args, **kwargs)\u001b[0m\n\u001b[1;32m   8738\u001b[0m             \u001b[0mkwargs\u001b[0m\u001b[0;34m=\u001b[0m\u001b[0mkwargs\u001b[0m\u001b[0;34m,\u001b[0m\u001b[0;34m\u001b[0m\u001b[0;34m\u001b[0m\u001b[0m\n\u001b[1;32m   8739\u001b[0m         )\n\u001b[0;32m-> 8740\u001b[0;31m         \u001b[0;32mreturn\u001b[0m \u001b[0mop\u001b[0m\u001b[0;34m.\u001b[0m\u001b[0mapply\u001b[0m\u001b[0;34m(\u001b[0m\u001b[0;34m)\u001b[0m\u001b[0;34m\u001b[0m\u001b[0;34m\u001b[0m\u001b[0m\n\u001b[0m\u001b[1;32m   8741\u001b[0m \u001b[0;34m\u001b[0m\u001b[0m\n\u001b[1;32m   8742\u001b[0m     def applymap(\n",
      "\u001b[0;32m~/Documents/csci-544-project/.jupyter-venv/lib/python3.8/site-packages/pandas/core/apply.py\u001b[0m in \u001b[0;36mapply\u001b[0;34m(self)\u001b[0m\n\u001b[1;32m    686\u001b[0m             \u001b[0;32mreturn\u001b[0m \u001b[0mself\u001b[0m\u001b[0;34m.\u001b[0m\u001b[0mapply_raw\u001b[0m\u001b[0;34m(\u001b[0m\u001b[0;34m)\u001b[0m\u001b[0;34m\u001b[0m\u001b[0;34m\u001b[0m\u001b[0m\n\u001b[1;32m    687\u001b[0m \u001b[0;34m\u001b[0m\u001b[0m\n\u001b[0;32m--> 688\u001b[0;31m         \u001b[0;32mreturn\u001b[0m \u001b[0mself\u001b[0m\u001b[0;34m.\u001b[0m\u001b[0mapply_standard\u001b[0m\u001b[0;34m(\u001b[0m\u001b[0;34m)\u001b[0m\u001b[0;34m\u001b[0m\u001b[0;34m\u001b[0m\u001b[0m\n\u001b[0m\u001b[1;32m    689\u001b[0m \u001b[0;34m\u001b[0m\u001b[0m\n\u001b[1;32m    690\u001b[0m     \u001b[0;32mdef\u001b[0m \u001b[0magg\u001b[0m\u001b[0;34m(\u001b[0m\u001b[0mself\u001b[0m\u001b[0;34m)\u001b[0m\u001b[0;34m:\u001b[0m\u001b[0;34m\u001b[0m\u001b[0;34m\u001b[0m\u001b[0m\n",
      "\u001b[0;32m~/Documents/csci-544-project/.jupyter-venv/lib/python3.8/site-packages/pandas/core/apply.py\u001b[0m in \u001b[0;36mapply_standard\u001b[0;34m(self)\u001b[0m\n\u001b[1;32m    810\u001b[0m \u001b[0;34m\u001b[0m\u001b[0m\n\u001b[1;32m    811\u001b[0m     \u001b[0;32mdef\u001b[0m \u001b[0mapply_standard\u001b[0m\u001b[0;34m(\u001b[0m\u001b[0mself\u001b[0m\u001b[0;34m)\u001b[0m\u001b[0;34m:\u001b[0m\u001b[0;34m\u001b[0m\u001b[0;34m\u001b[0m\u001b[0m\n\u001b[0;32m--> 812\u001b[0;31m         \u001b[0mresults\u001b[0m\u001b[0;34m,\u001b[0m \u001b[0mres_index\u001b[0m \u001b[0;34m=\u001b[0m \u001b[0mself\u001b[0m\u001b[0;34m.\u001b[0m\u001b[0mapply_series_generator\u001b[0m\u001b[0;34m(\u001b[0m\u001b[0;34m)\u001b[0m\u001b[0;34m\u001b[0m\u001b[0;34m\u001b[0m\u001b[0m\n\u001b[0m\u001b[1;32m    813\u001b[0m \u001b[0;34m\u001b[0m\u001b[0m\n\u001b[1;32m    814\u001b[0m         \u001b[0;31m# wrap results\u001b[0m\u001b[0;34m\u001b[0m\u001b[0;34m\u001b[0m\u001b[0;34m\u001b[0m\u001b[0m\n",
      "\u001b[0;32m~/Documents/csci-544-project/.jupyter-venv/lib/python3.8/site-packages/pandas/core/apply.py\u001b[0m in \u001b[0;36mapply_series_generator\u001b[0;34m(self)\u001b[0m\n\u001b[1;32m    826\u001b[0m             \u001b[0;32mfor\u001b[0m \u001b[0mi\u001b[0m\u001b[0;34m,\u001b[0m \u001b[0mv\u001b[0m \u001b[0;32min\u001b[0m \u001b[0menumerate\u001b[0m\u001b[0;34m(\u001b[0m\u001b[0mseries_gen\u001b[0m\u001b[0;34m)\u001b[0m\u001b[0;34m:\u001b[0m\u001b[0;34m\u001b[0m\u001b[0;34m\u001b[0m\u001b[0m\n\u001b[1;32m    827\u001b[0m                 \u001b[0;31m# ignore SettingWithCopy here in case the user mutates\u001b[0m\u001b[0;34m\u001b[0m\u001b[0;34m\u001b[0m\u001b[0;34m\u001b[0m\u001b[0m\n\u001b[0;32m--> 828\u001b[0;31m                 \u001b[0mresults\u001b[0m\u001b[0;34m[\u001b[0m\u001b[0mi\u001b[0m\u001b[0;34m]\u001b[0m \u001b[0;34m=\u001b[0m \u001b[0mself\u001b[0m\u001b[0;34m.\u001b[0m\u001b[0mf\u001b[0m\u001b[0;34m(\u001b[0m\u001b[0mv\u001b[0m\u001b[0;34m)\u001b[0m\u001b[0;34m\u001b[0m\u001b[0;34m\u001b[0m\u001b[0m\n\u001b[0m\u001b[1;32m    829\u001b[0m                 \u001b[0;32mif\u001b[0m \u001b[0misinstance\u001b[0m\u001b[0;34m(\u001b[0m\u001b[0mresults\u001b[0m\u001b[0;34m[\u001b[0m\u001b[0mi\u001b[0m\u001b[0;34m]\u001b[0m\u001b[0;34m,\u001b[0m \u001b[0mABCSeries\u001b[0m\u001b[0;34m)\u001b[0m\u001b[0;34m:\u001b[0m\u001b[0;34m\u001b[0m\u001b[0;34m\u001b[0m\u001b[0m\n\u001b[1;32m    830\u001b[0m                     \u001b[0;31m# If we have a view on v, we need to make a copy because\u001b[0m\u001b[0;34m\u001b[0m\u001b[0;34m\u001b[0m\u001b[0;34m\u001b[0m\u001b[0m\n",
      "\u001b[0;32m~/Documents/csci-544-project/.jupyter-venv/lib/python3.8/site-packages/tqdm/std.py\u001b[0m in \u001b[0;36mwrapper\u001b[0;34m(*args, **kwargs)\u001b[0m\n\u001b[1;32m    807\u001b[0m                     \u001b[0;31m# take a fast or slow code path; so stop when t.total==t.n\u001b[0m\u001b[0;34m\u001b[0m\u001b[0;34m\u001b[0m\u001b[0;34m\u001b[0m\u001b[0m\n\u001b[1;32m    808\u001b[0m                     \u001b[0mt\u001b[0m\u001b[0;34m.\u001b[0m\u001b[0mupdate\u001b[0m\u001b[0;34m(\u001b[0m\u001b[0mn\u001b[0m\u001b[0;34m=\u001b[0m\u001b[0;36m1\u001b[0m \u001b[0;32mif\u001b[0m \u001b[0;32mnot\u001b[0m \u001b[0mt\u001b[0m\u001b[0;34m.\u001b[0m\u001b[0mtotal\u001b[0m \u001b[0;32mor\u001b[0m \u001b[0mt\u001b[0m\u001b[0;34m.\u001b[0m\u001b[0mn\u001b[0m \u001b[0;34m<\u001b[0m \u001b[0mt\u001b[0m\u001b[0;34m.\u001b[0m\u001b[0mtotal\u001b[0m \u001b[0;32melse\u001b[0m \u001b[0;36m0\u001b[0m\u001b[0;34m)\u001b[0m\u001b[0;34m\u001b[0m\u001b[0;34m\u001b[0m\u001b[0m\n\u001b[0;32m--> 809\u001b[0;31m                     \u001b[0;32mreturn\u001b[0m \u001b[0mfunc\u001b[0m\u001b[0;34m(\u001b[0m\u001b[0;34m*\u001b[0m\u001b[0margs\u001b[0m\u001b[0;34m,\u001b[0m \u001b[0;34m**\u001b[0m\u001b[0mkwargs\u001b[0m\u001b[0;34m)\u001b[0m\u001b[0;34m\u001b[0m\u001b[0;34m\u001b[0m\u001b[0m\n\u001b[0m\u001b[1;32m    810\u001b[0m \u001b[0;34m\u001b[0m\u001b[0m\n\u001b[1;32m    811\u001b[0m                 \u001b[0;31m# Apply the provided function (in **kwargs)\u001b[0m\u001b[0;34m\u001b[0m\u001b[0;34m\u001b[0m\u001b[0;34m\u001b[0m\u001b[0m\n",
      "\u001b[0;32m/tmp/ipykernel_3125/1879684330.py\u001b[0m in \u001b[0;36m<lambda>\u001b[0;34m(row)\u001b[0m\n\u001b[0;32m----> 1\u001b[0;31m \u001b[0mdf_comp\u001b[0m\u001b[0;34m.\u001b[0m\u001b[0mprogress_apply\u001b[0m\u001b[0;34m(\u001b[0m\u001b[0;32mlambda\u001b[0m \u001b[0mrow\u001b[0m\u001b[0;34m:\u001b[0m \u001b[0mmetric\u001b[0m\u001b[0;34m.\u001b[0m\u001b[0mcompute\u001b[0m\u001b[0;34m(\u001b[0m\u001b[0mpredictions\u001b[0m\u001b[0;34m=\u001b[0m\u001b[0mrow\u001b[0m\u001b[0;34m[\u001b[0m\u001b[0;34m'predictions'\u001b[0m\u001b[0;34m]\u001b[0m\u001b[0;34m,\u001b[0m \u001b[0mreferences\u001b[0m\u001b[0;34m=\u001b[0m\u001b[0mrow\u001b[0m\u001b[0;34m[\u001b[0m\u001b[0;34m'references'\u001b[0m\u001b[0;34m]\u001b[0m\u001b[0;34m)\u001b[0m\u001b[0;34m,\u001b[0m \u001b[0maxis\u001b[0m\u001b[0;34m=\u001b[0m\u001b[0;36m1\u001b[0m\u001b[0;34m)\u001b[0m\u001b[0;34m\u001b[0m\u001b[0;34m\u001b[0m\u001b[0m\n\u001b[0m",
      "\u001b[0;32m~/Documents/csci-544-project/.jupyter-venv/lib/python3.8/site-packages/datasets/metric.py\u001b[0m in \u001b[0;36mcompute\u001b[0;34m(self, predictions, references, **kwargs)\u001b[0m\n\u001b[1;32m    402\u001b[0m             \u001b[0mreferences\u001b[0m \u001b[0;34m=\u001b[0m \u001b[0mself\u001b[0m\u001b[0;34m.\u001b[0m\u001b[0mdata\u001b[0m\u001b[0;34m[\u001b[0m\u001b[0;34m\"references\"\u001b[0m\u001b[0;34m]\u001b[0m\u001b[0;34m\u001b[0m\u001b[0;34m\u001b[0m\u001b[0m\n\u001b[1;32m    403\u001b[0m             \u001b[0;32mwith\u001b[0m \u001b[0mtemp_seed\u001b[0m\u001b[0;34m(\u001b[0m\u001b[0mself\u001b[0m\u001b[0;34m.\u001b[0m\u001b[0mseed\u001b[0m\u001b[0;34m)\u001b[0m\u001b[0;34m:\u001b[0m\u001b[0;34m\u001b[0m\u001b[0;34m\u001b[0m\u001b[0m\n\u001b[0;32m--> 404\u001b[0;31m                 \u001b[0moutput\u001b[0m \u001b[0;34m=\u001b[0m \u001b[0mself\u001b[0m\u001b[0;34m.\u001b[0m\u001b[0m_compute\u001b[0m\u001b[0;34m(\u001b[0m\u001b[0mpredictions\u001b[0m\u001b[0;34m=\u001b[0m\u001b[0mpredictions\u001b[0m\u001b[0;34m,\u001b[0m \u001b[0mreferences\u001b[0m\u001b[0;34m=\u001b[0m\u001b[0mreferences\u001b[0m\u001b[0;34m,\u001b[0m \u001b[0;34m**\u001b[0m\u001b[0mkwargs\u001b[0m\u001b[0;34m)\u001b[0m\u001b[0;34m\u001b[0m\u001b[0;34m\u001b[0m\u001b[0m\n\u001b[0m\u001b[1;32m    405\u001b[0m \u001b[0;34m\u001b[0m\u001b[0m\n\u001b[1;32m    406\u001b[0m             \u001b[0;32mif\u001b[0m \u001b[0mself\u001b[0m\u001b[0;34m.\u001b[0m\u001b[0mbuf_writer\u001b[0m \u001b[0;32mis\u001b[0m \u001b[0;32mnot\u001b[0m \u001b[0;32mNone\u001b[0m\u001b[0;34m:\u001b[0m\u001b[0;34m\u001b[0m\u001b[0;34m\u001b[0m\u001b[0m\n",
      "\u001b[0;32m~/.cache/huggingface/modules/datasets_modules/metrics/rouge/2b73d5eb463209373e9d21a95decb226d4164bdca4c361b8dfad295ec82bc62e/rouge.py\u001b[0m in \u001b[0;36m_compute\u001b[0;34m(self, predictions, references, rouge_types, use_agregator, use_stemmer)\u001b[0m\n\u001b[1;32m    123\u001b[0m \u001b[0;34m\u001b[0m\u001b[0m\n\u001b[1;32m    124\u001b[0m         \u001b[0;32mif\u001b[0m \u001b[0muse_agregator\u001b[0m\u001b[0;34m:\u001b[0m\u001b[0;34m\u001b[0m\u001b[0;34m\u001b[0m\u001b[0m\n\u001b[0;32m--> 125\u001b[0;31m             \u001b[0mresult\u001b[0m \u001b[0;34m=\u001b[0m \u001b[0maggregator\u001b[0m\u001b[0;34m.\u001b[0m\u001b[0maggregate\u001b[0m\u001b[0;34m(\u001b[0m\u001b[0;34m)\u001b[0m\u001b[0;34m\u001b[0m\u001b[0;34m\u001b[0m\u001b[0m\n\u001b[0m\u001b[1;32m    126\u001b[0m         \u001b[0;32melse\u001b[0m\u001b[0;34m:\u001b[0m\u001b[0;34m\u001b[0m\u001b[0;34m\u001b[0m\u001b[0m\n\u001b[1;32m    127\u001b[0m             \u001b[0mresult\u001b[0m \u001b[0;34m=\u001b[0m \u001b[0;34m{\u001b[0m\u001b[0;34m}\u001b[0m\u001b[0;34m\u001b[0m\u001b[0;34m\u001b[0m\u001b[0m\n",
      "\u001b[0;32m~/Documents/csci-544-project/.jupyter-venv/lib/python3.8/site-packages/rouge_score/scoring.py\u001b[0m in \u001b[0;36maggregate\u001b[0;34m(self)\u001b[0m\n\u001b[1;32m    123\u001b[0m       \u001b[0mscore_matrix\u001b[0m \u001b[0;34m=\u001b[0m \u001b[0mnp\u001b[0m\u001b[0;34m.\u001b[0m\u001b[0mvstack\u001b[0m\u001b[0;34m(\u001b[0m\u001b[0mtuple\u001b[0m\u001b[0;34m(\u001b[0m\u001b[0mscores\u001b[0m\u001b[0;34m)\u001b[0m\u001b[0;34m)\u001b[0m\u001b[0;34m\u001b[0m\u001b[0;34m\u001b[0m\u001b[0m\n\u001b[1;32m    124\u001b[0m       \u001b[0;31m# Percentiles are returned as (interval, measure).\u001b[0m\u001b[0;34m\u001b[0m\u001b[0;34m\u001b[0m\u001b[0;34m\u001b[0m\u001b[0m\n\u001b[0;32m--> 125\u001b[0;31m       \u001b[0mpercentiles\u001b[0m \u001b[0;34m=\u001b[0m \u001b[0mself\u001b[0m\u001b[0;34m.\u001b[0m\u001b[0m_bootstrap_resample\u001b[0m\u001b[0;34m(\u001b[0m\u001b[0mscore_matrix\u001b[0m\u001b[0;34m)\u001b[0m\u001b[0;34m\u001b[0m\u001b[0;34m\u001b[0m\u001b[0m\n\u001b[0m\u001b[1;32m    126\u001b[0m       \u001b[0;31m# Extract the three intervals (low, mid, high).\u001b[0m\u001b[0;34m\u001b[0m\u001b[0;34m\u001b[0m\u001b[0;34m\u001b[0m\u001b[0m\n\u001b[1;32m    127\u001b[0m       intervals = tuple(\n",
      "\u001b[0;32m~/Documents/csci-544-project/.jupyter-venv/lib/python3.8/site-packages/rouge_score/scoring.py\u001b[0m in \u001b[0;36m_bootstrap_resample\u001b[0;34m(self, matrix)\u001b[0m\n\u001b[1;32m    148\u001b[0m     \u001b[0msample_mean\u001b[0m \u001b[0;34m=\u001b[0m \u001b[0mnp\u001b[0m\u001b[0;34m.\u001b[0m\u001b[0mzeros\u001b[0m\u001b[0;34m(\u001b[0m\u001b[0;34m(\u001b[0m\u001b[0mself\u001b[0m\u001b[0;34m.\u001b[0m\u001b[0m_n_samples\u001b[0m\u001b[0;34m,\u001b[0m \u001b[0mmatrix\u001b[0m\u001b[0;34m.\u001b[0m\u001b[0mshape\u001b[0m\u001b[0;34m[\u001b[0m\u001b[0;36m1\u001b[0m\u001b[0;34m]\u001b[0m\u001b[0;34m)\u001b[0m\u001b[0;34m)\u001b[0m\u001b[0;34m\u001b[0m\u001b[0;34m\u001b[0m\u001b[0m\n\u001b[1;32m    149\u001b[0m     \u001b[0;32mfor\u001b[0m \u001b[0mi\u001b[0m \u001b[0;32min\u001b[0m \u001b[0mrange\u001b[0m\u001b[0;34m(\u001b[0m\u001b[0mself\u001b[0m\u001b[0;34m.\u001b[0m\u001b[0m_n_samples\u001b[0m\u001b[0;34m)\u001b[0m\u001b[0;34m:\u001b[0m\u001b[0;34m\u001b[0m\u001b[0;34m\u001b[0m\u001b[0m\n\u001b[0;32m--> 150\u001b[0;31m       sample_idx = np.random.choice(\n\u001b[0m\u001b[1;32m    151\u001b[0m           np.arange(matrix.shape[0]), size=matrix.shape[0])\n\u001b[1;32m    152\u001b[0m       \u001b[0msample\u001b[0m \u001b[0;34m=\u001b[0m \u001b[0mmatrix\u001b[0m\u001b[0;34m[\u001b[0m\u001b[0msample_idx\u001b[0m\u001b[0;34m,\u001b[0m \u001b[0;34m:\u001b[0m\u001b[0;34m]\u001b[0m\u001b[0;34m\u001b[0m\u001b[0;34m\u001b[0m\u001b[0m\n",
      "\u001b[0;31mKeyboardInterrupt\u001b[0m: "
     ]
    }
   ],
   "source": [
    "df_comp.progress_apply(lambda row: metric.compute(predictions=row['predictions'], references=row['references']), axis=1)"
   ]
  },
  {
   "cell_type": "code",
   "execution_count": null,
   "id": "6e0ef307-b6eb-4193-9fb0-eb88e889077f",
   "metadata": {},
   "outputs": [],
   "source": []
  },
  {
   "cell_type": "code",
   "execution_count": 42,
   "id": "991dbd6e-d66e-4d31-81de-8036102d445c",
   "metadata": {},
   "outputs": [
    {
     "data": {
      "text/plain": [
       "{'rouge1': AggregateScore(low=Score(precision=0.2886178861788618, recall=0.3358024691358025, fmeasure=0.3219954648526077), mid=Score(precision=0.34084073499694534, recall=0.34995251661918325, fmeasure=0.342089609922975), high=Score(precision=0.3930635838150289, recall=0.3641025641025641, fmeasure=0.3621837549933422)),\n",
       " 'rouge2': AggregateScore(low=Score(precision=0.05714285714285714, recall=0.06435643564356436, fmeasure=0.06378132118451024), mid=Score(precision=0.06625258799171843, recall=0.0682606920485863, fmeasure=0.06660361119305619), high=Score(precision=0.07536231884057971, recall=0.07216494845360824, fmeasure=0.06942590120160214)),\n",
       " 'rougeL': AggregateScore(low=Score(precision=0.15447154471544716, recall=0.14320987654320988, fmeasure=0.15446071904127828), mid=Score(precision=0.1610508012594577, recall=0.1690408357075024, fmeasure=0.16339815997415386), high=Score(precision=0.1676300578034682, recall=0.19487179487179487, fmeasure=0.17233560090702946)),\n",
       " 'rougeLsum': AggregateScore(low=Score(precision=0.15447154471544716, recall=0.14320987654320988, fmeasure=0.15446071904127828), mid=Score(precision=0.1610508012594577, recall=0.1690408357075024, fmeasure=0.16339815997415386), high=Score(precision=0.1676300578034682, recall=0.19487179487179487, fmeasure=0.17233560090702946))}"
      ]
     },
     "execution_count": 42,
     "metadata": {},
     "output_type": "execute_result"
    }
   ],
   "source": [
    "metric.compute(predictions=df_comp.iloc[:2,1], references=df_comp.iloc[:2,0])"
   ]
  },
  {
   "cell_type": "code",
   "execution_count": null,
   "id": "4f681126-e1d9-4033-957a-a42effc4f1a0",
   "metadata": {},
   "outputs": [],
   "source": []
  }
 ],
 "metadata": {
  "kernelspec": {
   "display_name": "Python 3.8 (csci-544-project)",
   "language": "python",
   "name": "csci-544-project"
  },
  "language_info": {
   "codemirror_mode": {
    "name": "ipython",
    "version": 3
   },
   "file_extension": ".py",
   "mimetype": "text/x-python",
   "name": "python",
   "nbconvert_exporter": "python",
   "pygments_lexer": "ipython3",
   "version": "3.8.10"
  }
 },
 "nbformat": 4,
 "nbformat_minor": 5
}
