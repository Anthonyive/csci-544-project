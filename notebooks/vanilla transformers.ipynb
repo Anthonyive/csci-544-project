{
 "cells": [
  {
   "cell_type": "markdown",
   "id": "e6d09b94-f96b-4b94-a340-68718c6a669b",
   "metadata": {},
   "source": [
    "![](https://miro.medium.com/max/1838/1*BHzGVskWGS_3jEcYYi6miQ.png)"
   ]
  },
  {
   "cell_type": "markdown",
   "id": "60aa3e74-c2dc-4e4c-b9c6-29460c8426e4",
   "metadata": {},
   "source": [
    "https://youtu.be/U0s0f995w14"
   ]
  },
  {
   "cell_type": "code",
   "execution_count": 2,
   "id": "c89b134a-ab1e-4781-b2e4-e2175e64bdca",
   "metadata": {},
   "outputs": [],
   "source": [
    "import torch\n",
    "import torch.nn as nn"
   ]
  },
  {
   "cell_type": "code",
   "execution_count": 4,
   "id": "2a4cf0fc-234f-4de8-9d9f-bf0c3d6e3690",
   "metadata": {},
   "outputs": [],
   "source": [
    "class SelfAttention(nn.Module):\n",
    "    def __init__(self, embed_size, heads):\n",
    "        super().__init__()\n",
    "        self.embed_size = embed_size\n",
    "        self.heads = heads\n",
    "        self.head_dim = embed_size // heads\n",
    "        \n",
    "        assert (self.head_dim * heads == embed_size) # make sure embed_size is divisible by heads\n",
    "        \n",
    "        self.values = nn.Linear(self.head_dim, self.head_dim, bias=False)\n",
    "        self.keys = nn.Linear(self.head_dim, self.head_dim, bias=False)\n",
    "        self.queries = nn.Linear(self.head_dim, self.head_dim, bias=False)\n",
    "        \n",
    "        self.fc_out = nn.Linear(heads * self.head_dim, embed_size)\n",
    "        \n",
    "    def forward(self, values, keys, queries, mask):\n",
    "        N = queries.shape[0]\n",
    "        value_len, key_len, query_len = values.shape[1], keys.shape[1], queries.shape[1]\n",
    "        \n",
    "        values = values.reshape(N, value_len, self.heads, self.head_dim)\n",
    "        keys = keys.reshape(N, key_len, self.heads, self.head_dim)\n",
    "        queries = queries.reshape(N, query_len, self.heads, self.head_dim)\n",
    "        \n",
    "        # QK^T\n",
    "        energy = torch.einsum(\"nqhd,nkhd->nhqk\", [queries, keys])\n",
    "        # query shape:  (N, query_len, heads, heads_dim) -> (n,q,h,d)\n",
    "        # keys shape:   (N, key_len, heads, heads_dim)   -> (n,k,h,d)\n",
    "        # energy shape: (N, heads, query_len, key_len)   -> (n,h,q,k)\n",
    "        \n",
    "        if mask is not None:\n",
    "            energy = energy.masked_fill(mask == 0, float('-1e20'))\n",
    "            \n",
    "        QKT_sqrtd = torch.softmax(energy / (self.embed_size ** (1/2)), dim=3)\n",
    "        \n",
    "        # softmax(...) * V\n",
    "        attention = torch.einsum(\"nhql,nlhd->nqhd\", [QKT_sqrtd, values])\n",
    "        # key_len == value_len\n",
    "        # QKT_sqrtd shape = energy shape: (N, heads, query_len, key_len)   -> (n,h,q,k)\n",
    "        # values shape:                   (N, value_len, heads, heads_dim) -> (n,v,h,d)\n",
    "        # attention shape:                (N, query_len, heads, head_dim)  -> (n,q,h,d)\n",
    "        \n",
    "        # concatenation\n",
    "        attention = attention.reshape(N, query_len, self.heads*self.head_dim)\n",
    "        \n",
    "        return self.fc_out(attention)"
   ]
  },
  {
   "cell_type": "code",
   "execution_count": 5,
   "id": "8f3599f4-e5ac-41dc-82ed-cfc19f8e9ac9",
   "metadata": {},
   "outputs": [],
   "source": [
    "class TransformerBlock(nn.Module):\n",
    "    def __init__(self, embed_size, heads, dropout, forward_expansion):\n",
    "        super().__init__()\n",
    "        self.attention = SelfAttention(embed_size, heads)\n",
    "        self.norm1 = nn.LayerNorm(embed_size)\n",
    "        self.norm2 = nn.LayerNorm(embed_size)\n",
    "        \n",
    "        self.feed_forward = nn.Sequential(\n",
    "            nn.Linear(embed_size, forward_expansion*embed_size),\n",
    "            nn.ReLU(),\n",
    "            nn.Linear(forward_expansion*embed_size, embed_size)\n",
    "        )\n",
    "        self.dropout = nn.Dropout(dropout)\n",
    "        \n",
    "    def forward(sefl, value, key, query, mask):\n",
    "        attention = self.attention(value, key, query, mask)\n",
    "        \n",
    "        x = self.norm1(attention + query)\n",
    "        x = self.dropout(x)\n",
    "        \n",
    "        forward = self.feed_forward(x)\n",
    "        \n",
    "        x = self.norm2(forward + x)\n",
    "        x = self.dropout(x)\n",
    "        return x"
   ]
  },
  {
   "cell_type": "code",
   "execution_count": null,
   "id": "b5122d6c-c8a3-4fd3-91ed-170d632365b2",
   "metadata": {},
   "outputs": [],
   "source": [
    "class Encoder(nn.Module):\n",
    "    def __init__(self, src_vocab_size, embed_size, num_layers, heads, device, forward_expansion, dropout, max_length):\n",
    "        super().__init__()\n",
    "        self.embed_size = embed_size\n"
   ]
  }
 ],
 "metadata": {
  "kernelspec": {
   "display_name": "Python 3.8 (csci-544-project)",
   "language": "python",
   "name": "csci-544-project"
  },
  "language_info": {
   "codemirror_mode": {
    "name": "ipython",
    "version": 3
   },
   "file_extension": ".py",
   "mimetype": "text/x-python",
   "name": "python",
   "nbconvert_exporter": "python",
   "pygments_lexer": "ipython3",
   "version": "3.8.10"
  }
 },
 "nbformat": 4,
 "nbformat_minor": 5
}
