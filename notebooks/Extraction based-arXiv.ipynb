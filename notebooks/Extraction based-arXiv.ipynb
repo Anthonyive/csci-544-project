{
 "cells": [
  {
   "cell_type": "markdown",
   "id": "738af94f-13df-4a43-bfa6-62c6fbad05c0",
   "metadata": {},
   "source": [
    "# Extractive Baseline\n",
    "\n",
    "Data: PubMed"
   ]
  },
  {
   "cell_type": "code",
   "execution_count": 1,
   "id": "0d60ba08-098f-4633-972c-d7a8ae787419",
   "metadata": {},
   "outputs": [],
   "source": [
    "import gdown\n",
    "import json\n",
    "import numpy as np\n",
    "import pandas as pd\n",
    "from nltk.corpus import stopwords\n",
    "from nltk.tokenize import word_tokenize, sent_tokenize\n",
    "from tqdm.auto import tqdm\n",
    "tqdm.pandas()\n",
    "from datasets import load_metric\n",
    "metric = load_metric(\"rouge\")"
   ]
  },
  {
   "cell_type": "code",
   "execution_count": 2,
   "id": "0ff97285-59b3-426a-8889-fb7fad738327",
   "metadata": {},
   "outputs": [
    {
     "name": "stdout",
     "output_type": "stream",
     "text": [
      "File exists: ../csci-544-project/data/arxiv-dataset.zip\n"
     ]
    },
    {
     "data": {
      "text/plain": [
       "'../csci-544-project/data/arxiv-dataset.zip'"
      ]
     },
     "execution_count": 2,
     "metadata": {},
     "output_type": "execute_result"
    }
   ],
   "source": [
    "url = 'https://drive.google.com/u/0/uc?export=download&confirm=OaU2&id=1b3rmCSIoh6VhD4HKWjI4HOW-cSwcwbeC'\n",
    "output = '../csci-544-project/data/arxiv-dataset.zip'\n",
    "gdown.cached_download(url, output, quiet=False)"
   ]
  },
  {
   "cell_type": "code",
   "execution_count": 3,
   "id": "1d606bf7-cfd6-4455-859e-8b774134b565",
   "metadata": {},
   "outputs": [
    {
     "data": {
      "text/plain": [
       "['../csci-544-project/data/arxiv-dataset/',\n",
       " '../csci-544-project/data/__MACOSX/._arxiv-dataset',\n",
       " '../csci-544-project/data/arxiv-dataset/train.txt',\n",
       " '../csci-544-project/data/__MACOSX/arxiv-dataset/._train.txt',\n",
       " '../csci-544-project/data/arxiv-dataset/vocab',\n",
       " '../csci-544-project/data/__MACOSX/arxiv-dataset/._vocab',\n",
       " '../csci-544-project/data/arxiv-dataset/test.txt',\n",
       " '../csci-544-project/data/__MACOSX/arxiv-dataset/._test.txt',\n",
       " '../csci-544-project/data/arxiv-dataset/val.txt',\n",
       " '../csci-544-project/data/__MACOSX/arxiv-dataset/._val.txt']"
      ]
     },
     "execution_count": 3,
     "metadata": {},
     "output_type": "execute_result"
    }
   ],
   "source": [
    "gdown.extractall(output)"
   ]
  },
  {
   "cell_type": "code",
   "execution_count": 4,
   "id": "427e34d7-202e-43ff-801e-907df24d5a5f",
   "metadata": {},
   "outputs": [],
   "source": [
    "def read_arxiv(path: str) -> pd.DataFrame:\n",
    "    with open(path, 'r') as json_file:\n",
    "        json_list = list(json_file)\n",
    "\n",
    "    # read jsonl\n",
    "    result = [json.loads(json_str) for json_str in json_list]\n",
    "\n",
    "    return pd.DataFrame(result)"
   ]
  },
  {
   "cell_type": "code",
   "execution_count": 5,
   "id": "a26edd3b-2e44-47f7-bf52-6011633f3cf4",
   "metadata": {},
   "outputs": [],
   "source": [
    "df_train = read_arxiv('../csci-544-project/data/arxiv-dataset/train.txt')\n",
    "df_test = read_arxiv('../csci-544-project/data/arxiv-dataset/test.txt')\n",
    "df_val = read_arxiv('../csci-544-project/data/arxiv-dataset/val.txt')"
   ]
  },
  {
   "cell_type": "code",
   "execution_count": 6,
   "id": "4fd8dcde-8ad6-4c71-a486-07e0ab8d8e55",
   "metadata": {},
   "outputs": [
    {
     "data": {
      "text/html": [
       "<div>\n",
       "<style scoped>\n",
       "    .dataframe tbody tr th:only-of-type {\n",
       "        vertical-align: middle;\n",
       "    }\n",
       "\n",
       "    .dataframe tbody tr th {\n",
       "        vertical-align: top;\n",
       "    }\n",
       "\n",
       "    .dataframe thead th {\n",
       "        text-align: right;\n",
       "    }\n",
       "</style>\n",
       "<table border=\"1\" class=\"dataframe\">\n",
       "  <thead>\n",
       "    <tr style=\"text-align: right;\">\n",
       "      <th></th>\n",
       "      <th>article_id</th>\n",
       "      <th>article_text</th>\n",
       "      <th>abstract_text</th>\n",
       "      <th>labels</th>\n",
       "      <th>section_names</th>\n",
       "      <th>sections</th>\n",
       "    </tr>\n",
       "  </thead>\n",
       "  <tbody>\n",
       "    <tr>\n",
       "      <th>0</th>\n",
       "      <td>1405.3379</td>\n",
       "      <td>[additive models @xcite provide an important f...</td>\n",
       "      <td>[&lt;S&gt; additive models play an important role in...</td>\n",
       "      <td>None</td>\n",
       "      <td>[introduction, main results on learning rates,...</td>\n",
       "      <td>[[additive models @xcite provide an important ...</td>\n",
       "    </tr>\n",
       "    <tr>\n",
       "      <th>1</th>\n",
       "      <td>0901.1147</td>\n",
       "      <td>[the leptonic decays of a charged pseudoscalar...</td>\n",
       "      <td>[&lt;S&gt; we have studied the leptonic decay @xmath...</td>\n",
       "      <td>None</td>\n",
       "      <td>[[sec:introduction]introduction, [sec:detector...</td>\n",
       "      <td>[[the leptonic decays of a charged pseudoscala...</td>\n",
       "    </tr>\n",
       "    <tr>\n",
       "      <th>2</th>\n",
       "      <td>nlin0608019</td>\n",
       "      <td>[the transport properties of nonlinear non - e...</td>\n",
       "      <td>[&lt;S&gt; in 84 , 258 ( 2000 ) , mateos conjectured...</td>\n",
       "      <td>None</td>\n",
       "      <td>[introduction, regularity and chaos in single-...</td>\n",
       "      <td>[[the transport properties of nonlinear non - ...</td>\n",
       "    </tr>\n",
       "    <tr>\n",
       "      <th>3</th>\n",
       "      <td>0903.5449</td>\n",
       "      <td>[studies of laser beams propagating through tu...</td>\n",
       "      <td>[&lt;S&gt; the effect of a random phase diffuser on ...</td>\n",
       "      <td>None</td>\n",
       "      <td>[introduction, the method of photon distributi...</td>\n",
       "      <td>[[studies of laser beams propagating through t...</td>\n",
       "    </tr>\n",
       "    <tr>\n",
       "      <th>4</th>\n",
       "      <td>hep-ph0605279</td>\n",
       "      <td>[the so - called `` nucleon spin crisis '' rai...</td>\n",
       "      <td>[&lt;S&gt; with a special intention of clarifying th...</td>\n",
       "      <td>None</td>\n",
       "      <td>[introduction, model lagrangian with pion mass...</td>\n",
       "      <td>[[the so - called `` nucleon spin crisis '' ra...</td>\n",
       "    </tr>\n",
       "    <tr>\n",
       "      <th>...</th>\n",
       "      <td>...</td>\n",
       "      <td>...</td>\n",
       "      <td>...</td>\n",
       "      <td>...</td>\n",
       "      <td>...</td>\n",
       "      <td>...</td>\n",
       "    </tr>\n",
       "    <tr>\n",
       "      <th>203032</th>\n",
       "      <td>quant-ph0402038</td>\n",
       "      <td>[e. rasmusen , _ games and information : an in...</td>\n",
       "      <td>[&lt;S&gt; effects of a corrupt source on the dynami...</td>\n",
       "      <td>None</td>\n",
       "      <td>[references]</td>\n",
       "      <td>[[e. rasmusen , _ games and information : an i...</td>\n",
       "    </tr>\n",
       "    <tr>\n",
       "      <th>203033</th>\n",
       "      <td>0907.3736</td>\n",
       "      <td>[the magnetocaloric effect , _, i.e. _ , a tem...</td>\n",
       "      <td>[&lt;S&gt; we compute the entropy of antiferromagnet...</td>\n",
       "      <td>None</td>\n",
       "      <td>[introduction, methods, spin @xmath1 heisenber...</td>\n",
       "      <td>[[the magnetocaloric effect , _, i.e. _ , a te...</td>\n",
       "    </tr>\n",
       "    <tr>\n",
       "      <th>203034</th>\n",
       "      <td>1506.04688</td>\n",
       "      <td>[as expected , the most interesting combinator...</td>\n",
       "      <td>[&lt;S&gt; as a generalization of orbit - polynomial...</td>\n",
       "      <td>None</td>\n",
       "      <td>[introduction and preliminaries, partitions ar...</td>\n",
       "      <td>[[as expected , the most interesting combinato...</td>\n",
       "    </tr>\n",
       "    <tr>\n",
       "      <th>203035</th>\n",
       "      <td>cond-mat0304118</td>\n",
       "      <td>[by numerical study we find that the branch cu...</td>\n",
       "      <td>[&lt;S&gt; within the lowest - order born approximat...</td>\n",
       "      <td>None</td>\n",
       "      <td>[scaling form for branch cut integrals]</td>\n",
       "      <td>[[by numerical study we find that the branch c...</td>\n",
       "    </tr>\n",
       "    <tr>\n",
       "      <th>203036</th>\n",
       "      <td>0801.2228</td>\n",
       "      <td>[small submicron particles are well - suited a...</td>\n",
       "      <td>[&lt;S&gt; conducting submicron particles are well -...</td>\n",
       "      <td>None</td>\n",
       "      <td>[introduction, conductivity in conducting poly...</td>\n",
       "      <td>[[small submicron particles are well - suited ...</td>\n",
       "    </tr>\n",
       "  </tbody>\n",
       "</table>\n",
       "<p>203037 rows × 6 columns</p>\n",
       "</div>"
      ],
      "text/plain": [
       "             article_id                                       article_text  \\\n",
       "0             1405.3379  [additive models @xcite provide an important f...   \n",
       "1             0901.1147  [the leptonic decays of a charged pseudoscalar...   \n",
       "2           nlin0608019  [the transport properties of nonlinear non - e...   \n",
       "3             0903.5449  [studies of laser beams propagating through tu...   \n",
       "4         hep-ph0605279  [the so - called `` nucleon spin crisis '' rai...   \n",
       "...                 ...                                                ...   \n",
       "203032  quant-ph0402038  [e. rasmusen , _ games and information : an in...   \n",
       "203033        0907.3736  [the magnetocaloric effect , _, i.e. _ , a tem...   \n",
       "203034       1506.04688  [as expected , the most interesting combinator...   \n",
       "203035  cond-mat0304118  [by numerical study we find that the branch cu...   \n",
       "203036        0801.2228  [small submicron particles are well - suited a...   \n",
       "\n",
       "                                            abstract_text labels  \\\n",
       "0       [<S> additive models play an important role in...   None   \n",
       "1       [<S> we have studied the leptonic decay @xmath...   None   \n",
       "2       [<S> in 84 , 258 ( 2000 ) , mateos conjectured...   None   \n",
       "3       [<S> the effect of a random phase diffuser on ...   None   \n",
       "4       [<S> with a special intention of clarifying th...   None   \n",
       "...                                                   ...    ...   \n",
       "203032  [<S> effects of a corrupt source on the dynami...   None   \n",
       "203033  [<S> we compute the entropy of antiferromagnet...   None   \n",
       "203034  [<S> as a generalization of orbit - polynomial...   None   \n",
       "203035  [<S> within the lowest - order born approximat...   None   \n",
       "203036  [<S> conducting submicron particles are well -...   None   \n",
       "\n",
       "                                            section_names  \\\n",
       "0       [introduction, main results on learning rates,...   \n",
       "1       [[sec:introduction]introduction, [sec:detector...   \n",
       "2       [introduction, regularity and chaos in single-...   \n",
       "3       [introduction, the method of photon distributi...   \n",
       "4       [introduction, model lagrangian with pion mass...   \n",
       "...                                                   ...   \n",
       "203032                                       [references]   \n",
       "203033  [introduction, methods, spin @xmath1 heisenber...   \n",
       "203034  [introduction and preliminaries, partitions ar...   \n",
       "203035            [scaling form for branch cut integrals]   \n",
       "203036  [introduction, conductivity in conducting poly...   \n",
       "\n",
       "                                                 sections  \n",
       "0       [[additive models @xcite provide an important ...  \n",
       "1       [[the leptonic decays of a charged pseudoscala...  \n",
       "2       [[the transport properties of nonlinear non - ...  \n",
       "3       [[studies of laser beams propagating through t...  \n",
       "4       [[the so - called `` nucleon spin crisis '' ra...  \n",
       "...                                                   ...  \n",
       "203032  [[e. rasmusen , _ games and information : an i...  \n",
       "203033  [[the magnetocaloric effect , _, i.e. _ , a te...  \n",
       "203034  [[as expected , the most interesting combinato...  \n",
       "203035  [[by numerical study we find that the branch c...  \n",
       "203036  [[small submicron particles are well - suited ...  \n",
       "\n",
       "[203037 rows x 6 columns]"
      ]
     },
     "execution_count": 6,
     "metadata": {},
     "output_type": "execute_result"
    }
   ],
   "source": [
    "df_train"
   ]
  },
  {
   "cell_type": "code",
   "execution_count": 7,
   "id": "23c5000a-4ee2-46df-839f-7c9ea72465c5",
   "metadata": {},
   "outputs": [],
   "source": [
    "def extractive_apply(row):\n",
    "    # print(row['article_id'])\n",
    "    sentences = row['article_text']\n",
    "    if not sentences or not sentences[0]:\n",
    "        return np.nan\n",
    "    elif len(sentences) < len(row['abstract_text']):\n",
    "        return np.nan\n",
    "    \n",
    "    \n",
    "    text = ' '.join(sentences)\n",
    "    stopWords = set(stopwords.words('english'))\n",
    "    words = word_tokenize(text)\n",
    "    target_len = len(row['abstract_text'])\n",
    "    \n",
    "    freqTable = dict()\n",
    "    for word in words:\n",
    "        word = word.lower()\n",
    "        if word in stopWords:\n",
    "            continue\n",
    "        if word in freqTable:\n",
    "            freqTable[word] += 1\n",
    "        else:\n",
    "            freqTable[word] = 1\n",
    "            \n",
    "    sentenceValue = dict()\n",
    "    for sentence in sentences:\n",
    "        for word, freq in freqTable.items():\n",
    "            if word in sentence.lower():\n",
    "                if sentence in sentenceValue:\n",
    "                    sentenceValue[sentence] += freq\n",
    "                else:\n",
    "                    sentenceValue[sentence] = freq\n",
    "    # print(len(sentences))\n",
    "    # print(sentenceValue.values())\n",
    "    try:\n",
    "        min_val = sorted(sentenceValue.values(), reverse=True)[target_len-1]\n",
    "    except IndexError: # this case # of sentenceValue < # of sentences, so just leave it 0\n",
    "        return np.nan\n",
    "    \n",
    "    summary = []\n",
    "    for sentence in sentences:\n",
    "        if len(summary) == target_len:\n",
    "            break\n",
    "        if (sentence in sentenceValue) and (sentenceValue[sentence] >= min_val):\n",
    "            if '<S> '+ sentence + ' </S>' not in summary:\n",
    "                summary += ['<S> '+ sentence + ' </S>']\n",
    "            \n",
    "    assert len(summary) == target_len, f\"summary_len={len(summary)}, target_len={target_len}\"\n",
    "    \n",
    "    return summary"
   ]
  },
  {
   "cell_type": "code",
   "execution_count": 8,
   "id": "0808c7bd-2639-4eb7-b922-59ca4caec4bd",
   "metadata": {},
   "outputs": [
    {
     "data": {
      "text/plain": [
       "article_id                                               0912.2266\n",
       "article_text     [is a bright , radio loud quasar that shares m...\n",
       "abstract_text    [<S> we have analysed the first 15 months of _...\n",
       "labels                                                        None\n",
       "section_names    [introduction, from radio to x-rays, the gamma...\n",
       "sections         [[is a bright , radio loud quasar that shares ...\n",
       "Name: 30263, dtype: object"
      ]
     },
     "execution_count": 8,
     "metadata": {},
     "output_type": "execute_result"
    }
   ],
   "source": [
    "df_train.iloc[30263]"
   ]
  },
  {
   "cell_type": "code",
   "execution_count": 9,
   "id": "6a87f6f8-33e3-4ecb-8798-c4a4d8e5dcf1",
   "metadata": {
    "tags": []
   },
   "outputs": [
    {
     "data": {
      "application/vnd.jupyter.widget-view+json": {
       "model_id": "6d296044fa8e463aaed10ed8a2201bdd",
       "version_major": 2,
       "version_minor": 0
      },
      "text/plain": [
       "  0%|          | 0/203037 [00:00<?, ?it/s]"
      ]
     },
     "metadata": {},
     "output_type": "display_data"
    }
   ],
   "source": [
    "extractive_summaries = df_train.progress_apply(extractive_apply, axis=1)"
   ]
  },
  {
   "cell_type": "code",
   "execution_count": 10,
   "id": "3f7dbd19-8be6-435a-bef6-464990cf5341",
   "metadata": {},
   "outputs": [],
   "source": [
    "na_idx = extractive_summaries[extractive_summaries.isnull()].index"
   ]
  },
  {
   "cell_type": "code",
   "execution_count": 11,
   "id": "5820b6f1-9d70-4e4a-a840-3080e9388b0a",
   "metadata": {},
   "outputs": [],
   "source": [
    "df_comp = pd.DataFrame()\n",
    "df_comp['predictions'] = extractive_summaries[~extractive_summaries.index.isin(na_idx)]\n",
    "df_comp['references'] = df_train['abstract_text'][~df_train.index.isin(na_idx)]"
   ]
  },
  {
   "cell_type": "code",
   "execution_count": 12,
   "id": "7942f406-9503-4c77-800d-d4b63a98da6d",
   "metadata": {},
   "outputs": [
    {
     "data": {
      "text/html": [
       "<div>\n",
       "<style scoped>\n",
       "    .dataframe tbody tr th:only-of-type {\n",
       "        vertical-align: middle;\n",
       "    }\n",
       "\n",
       "    .dataframe tbody tr th {\n",
       "        vertical-align: top;\n",
       "    }\n",
       "\n",
       "    .dataframe thead th {\n",
       "        text-align: right;\n",
       "    }\n",
       "</style>\n",
       "<table border=\"1\" class=\"dataframe\">\n",
       "  <thead>\n",
       "    <tr style=\"text-align: right;\">\n",
       "      <th></th>\n",
       "      <th>predictions</th>\n",
       "      <th>references</th>\n",
       "    </tr>\n",
       "  </thead>\n",
       "  <tbody>\n",
       "    <tr>\n",
       "      <th>0</th>\n",
       "      <td>[&lt;S&gt; [ approxerrorthm ] under assumption [ ass...</td>\n",
       "      <td>[&lt;S&gt; additive models play an important role in...</td>\n",
       "    </tr>\n",
       "    <tr>\n",
       "      <th>1</th>\n",
       "      <td>[&lt;S&gt; .[table : data - single ] summary of sing...</td>\n",
       "      <td>[&lt;S&gt; we have studied the leptonic decay @xmath...</td>\n",
       "    </tr>\n",
       "    <tr>\n",
       "      <th>2</th>\n",
       "      <td>[&lt;S&gt; two chaotic attractors emerge with @xmath...</td>\n",
       "      <td>[&lt;S&gt; in 84 , 258 ( 2000 ) , mateos conjectured...</td>\n",
       "    </tr>\n",
       "    <tr>\n",
       "      <th>3</th>\n",
       "      <td>[&lt;S&gt; [ sixteen ] can be replaced by @xmath90 w...</td>\n",
       "      <td>[&lt;S&gt; the effect of a random phase diffuser on ...</td>\n",
       "    </tr>\n",
       "    <tr>\n",
       "      <th>4</th>\n",
       "      <td>[&lt;S&gt; the soliton equation of motion is obtaine...</td>\n",
       "      <td>[&lt;S&gt; with a special intention of clarifying th...</td>\n",
       "    </tr>\n",
       "    <tr>\n",
       "      <th>...</th>\n",
       "      <td>...</td>\n",
       "      <td>...</td>\n",
       "    </tr>\n",
       "    <tr>\n",
       "      <th>203030</th>\n",
       "      <td>[&lt;S&gt; @l@|@c@@c@ source &amp; @xmath45 &amp; @xmath28 +...</td>\n",
       "      <td>[&lt;S&gt; we report the first measurement of the @x...</td>\n",
       "    </tr>\n",
       "    <tr>\n",
       "      <th>203031</th>\n",
       "      <td>[&lt;S&gt; the most important innovation of dft , wh...</td>\n",
       "      <td>[&lt;S&gt; a density functional theory for many - bo...</td>\n",
       "    </tr>\n",
       "    <tr>\n",
       "      <th>203033</th>\n",
       "      <td>[&lt;S&gt; finally , the adiabatic cooling rate has ...</td>\n",
       "      <td>[&lt;S&gt; we compute the entropy of antiferromagnet...</td>\n",
       "    </tr>\n",
       "    <tr>\n",
       "      <th>203034</th>\n",
       "      <td>[&lt;S&gt; also , we show that every quotient - poly...</td>\n",
       "      <td>[&lt;S&gt; as a generalization of orbit - polynomial...</td>\n",
       "    </tr>\n",
       "    <tr>\n",
       "      <th>203036</th>\n",
       "      <td>[&lt;S&gt; the particles touch , the dc conductivity...</td>\n",
       "      <td>[&lt;S&gt; conducting submicron particles are well -...</td>\n",
       "    </tr>\n",
       "  </tbody>\n",
       "</table>\n",
       "<p>197570 rows × 2 columns</p>\n",
       "</div>"
      ],
      "text/plain": [
       "                                              predictions  \\\n",
       "0       [<S> [ approxerrorthm ] under assumption [ ass...   \n",
       "1       [<S> .[table : data - single ] summary of sing...   \n",
       "2       [<S> two chaotic attractors emerge with @xmath...   \n",
       "3       [<S> [ sixteen ] can be replaced by @xmath90 w...   \n",
       "4       [<S> the soliton equation of motion is obtaine...   \n",
       "...                                                   ...   \n",
       "203030  [<S> @l@|@c@@c@ source & @xmath45 & @xmath28 +...   \n",
       "203031  [<S> the most important innovation of dft , wh...   \n",
       "203033  [<S> finally , the adiabatic cooling rate has ...   \n",
       "203034  [<S> also , we show that every quotient - poly...   \n",
       "203036  [<S> the particles touch , the dc conductivity...   \n",
       "\n",
       "                                               references  \n",
       "0       [<S> additive models play an important role in...  \n",
       "1       [<S> we have studied the leptonic decay @xmath...  \n",
       "2       [<S> in 84 , 258 ( 2000 ) , mateos conjectured...  \n",
       "3       [<S> the effect of a random phase diffuser on ...  \n",
       "4       [<S> with a special intention of clarifying th...  \n",
       "...                                                   ...  \n",
       "203030  [<S> we report the first measurement of the @x...  \n",
       "203031  [<S> a density functional theory for many - bo...  \n",
       "203033  [<S> we compute the entropy of antiferromagnet...  \n",
       "203034  [<S> as a generalization of orbit - polynomial...  \n",
       "203036  [<S> conducting submicron particles are well -...  \n",
       "\n",
       "[197570 rows x 2 columns]"
      ]
     },
     "execution_count": 12,
     "metadata": {},
     "output_type": "execute_result"
    }
   ],
   "source": [
    "df_comp"
   ]
  },
  {
   "cell_type": "code",
   "execution_count": 13,
   "id": "b686623b-6d9a-4a9f-b28f-d24bdbe6f422",
   "metadata": {},
   "outputs": [],
   "source": [
    "def join_sent_apply(row):\n",
    "    pred_sents = list(map(lambda x: x[4:-4], row['predictions']))\n",
    "    ref_sents = list(map(lambda x: x[4:-4], row['references']))\n",
    "    return ''.join(pred_sents), ''.join(ref_sents)"
   ]
  },
  {
   "cell_type": "code",
   "execution_count": 14,
   "id": "625ef54f-792d-4e39-995a-b646cbcabf52",
   "metadata": {},
   "outputs": [
    {
     "data": {
      "application/vnd.jupyter.widget-view+json": {
       "model_id": "ba67a8f882e64c1c8d5b0ff29e5af284",
       "version_major": 2,
       "version_minor": 0
      },
      "text/plain": [
       "  0%|          | 0/197570 [00:00<?, ?it/s]"
      ]
     },
     "metadata": {},
     "output_type": "display_data"
    }
   ],
   "source": [
    "df_comp['predictions_joined'], df_comp['references_joined'] = zip(*df_comp.progress_apply(join_sent_apply, axis=1))"
   ]
  },
  {
   "cell_type": "code",
   "execution_count": 15,
   "id": "4f681126-e1d9-4033-957a-a42effc4f1a0",
   "metadata": {},
   "outputs": [],
   "source": [
    "df_comp.to_pickle('output/extraction-arxiv.pkl')"
   ]
  },
  {
   "cell_type": "code",
   "execution_count": 16,
   "id": "0e4e01f4-8a15-454c-8855-01149146ae85",
   "metadata": {},
   "outputs": [
    {
     "data": {
      "text/plain": [
       "{'rouge1': AggregateScore(low=Score(precision=0.19845984227455268, recall=0.49305410444157993, fmeasure=0.2699811906313422), mid=Score(precision=0.1988730690206154, recall=0.49364789827918343, fmeasure=0.2704602352972015), high=Score(precision=0.19928852972149902, recall=0.4942926747461064, fmeasure=0.2709065143147144)),\n",
       " 'rouge2': AggregateScore(low=Score(precision=0.05778413217118419, recall=0.1440189797585834, fmeasure=0.07912415627189733), mid=Score(precision=0.057966521925853914, recall=0.14439902038541141, fmeasure=0.0793573711131341), high=Score(precision=0.058153588645902865, recall=0.14477867332283653, fmeasure=0.07958679485696006)),\n",
       " 'rougeL': AggregateScore(low=Score(precision=0.1019790576602871, recall=0.25529959493410515, fmeasure=0.13848515872459735), mid=Score(precision=0.10221435086429984, recall=0.2556211482203058, fmeasure=0.1387108074869934), high=Score(precision=0.10243490365381765, recall=0.25595296816405216, fmeasure=0.1389294682053559)),\n",
       " 'rougeLsum': AggregateScore(low=Score(precision=0.10199674105044972, recall=0.25528181034483616, fmeasure=0.1384804504638078), mid=Score(precision=0.1022028387471981, recall=0.25560957212147456, fmeasure=0.1387000414976819), high=Score(precision=0.10241937703774669, recall=0.25595072737883195, fmeasure=0.13892954935826596))}"
      ]
     },
     "execution_count": 16,
     "metadata": {},
     "output_type": "execute_result"
    }
   ],
   "source": [
    "metric.compute(predictions=df_comp['predictions_joined'].to_list(), references=df_comp['references_joined'].to_list())"
   ]
  }
 ],
 "metadata": {
  "kernelspec": {
   "display_name": "Python 3.8 (csci-544-project)",
   "language": "python",
   "name": "csci-544-project"
  },
  "language_info": {
   "codemirror_mode": {
    "name": "ipython",
    "version": 3
   },
   "file_extension": ".py",
   "mimetype": "text/x-python",
   "name": "python",
   "nbconvert_exporter": "python",
   "pygments_lexer": "ipython3",
   "version": "3.8.10"
  }
 },
 "nbformat": 4,
 "nbformat_minor": 5
}
