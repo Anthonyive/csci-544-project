{
 "cells": [
  {
   "cell_type": "code",
   "execution_count": 1,
   "id": "e903af62",
   "metadata": {},
   "outputs": [],
   "source": [
    "import torch\n",
    "from longformer.longformer import Longformer, LongformerConfig\n",
    "from longformer.sliding_chunks import pad_to_window_size\n",
    "from transformers import RobertaTokenizer"
   ]
  },
  {
   "cell_type": "code",
   "execution_count": 2,
   "id": "8dd0df9e",
   "metadata": {},
   "outputs": [],
   "source": [
    "config = LongformerConfig.from_pretrained('longformer-base-4096/') \n",
    "# choose the attention mode 'n2', 'tvm' or 'sliding_chunks'\n",
    "# 'n2': for regular n2 attantion\n",
    "# 'tvm': a custom CUDA kernel implementation of our sliding window attention\n",
    "# 'sliding_chunks': a PyTorch implementation of our sliding window attention\n",
    "config.attention_mode = 'sliding_chunks'"
   ]
  },
  {
   "cell_type": "code",
   "execution_count": 3,
   "id": "f1e2cd2a",
   "metadata": {},
   "outputs": [],
   "source": [
    "model = Longformer.from_pretrained('longformer-base-4096/', config=config)"
   ]
  },
  {
   "cell_type": "code",
   "execution_count": 4,
   "id": "3db87d0b",
   "metadata": {},
   "outputs": [],
   "source": [
    "tokenizer = RobertaTokenizer.from_pretrained('roberta-base')\n",
    "tokenizer.model_max_length = model.config.max_position_embeddings"
   ]
  },
  {
   "cell_type": "code",
   "execution_count": 5,
   "id": "2da1706a",
   "metadata": {},
   "outputs": [],
   "source": [
    "SAMPLE_TEXT = ' '.join(['Hello world! '] * 1000)  # long input document"
   ]
  },
  {
   "cell_type": "code",
   "execution_count": 6,
   "id": "15d810ab",
   "metadata": {},
   "outputs": [],
   "source": [
    "input_ids = torch.tensor(tokenizer.encode(SAMPLE_TEXT)).unsqueeze(0)  # batch of size 1"
   ]
  },
  {
   "cell_type": "code",
   "execution_count": 7,
   "id": "da2d3d44",
   "metadata": {},
   "outputs": [],
   "source": [
    "# model = model.cuda(); input_ids = input_ids.cuda()"
   ]
  },
  {
   "cell_type": "code",
   "execution_count": 8,
   "id": "60db2d3b",
   "metadata": {},
   "outputs": [],
   "source": [
    "# Attention mask values -- 0: no attention, 1: local attention, 2: global attention\n",
    "attention_mask = torch.ones(input_ids.shape, dtype=torch.long, device=input_ids.device) # initialize to local attention\n",
    "attention_mask[:, [1, 4, 21,]] =  2  # Set global attention based on the task. For example,\n",
    "                                     # classification: the <s> token\n",
    "                                     # QA: question tokens"
   ]
  },
  {
   "cell_type": "code",
   "execution_count": 9,
   "id": "4495430f",
   "metadata": {},
   "outputs": [],
   "source": [
    "# padding seqlen to the nearest multiple of 512. Needed for the 'sliding_chunks' attention\n",
    "input_ids, attention_mask = pad_to_window_size(\n",
    "        input_ids, attention_mask, config.attention_window[0], tokenizer.pad_token_id)"
   ]
  },
  {
   "cell_type": "code",
   "execution_count": 10,
   "id": "6722f3d5",
   "metadata": {},
   "outputs": [],
   "source": [
    "output = model(input_ids, attention_mask=attention_mask)[0]"
   ]
  },
  {
   "cell_type": "code",
   "execution_count": 11,
   "id": "a29c338c",
   "metadata": {},
   "outputs": [
    {
     "data": {
      "text/plain": [
       "tensor([[[-0.0473, -0.0016,  0.0404,  ..., -0.0328, -0.0960, -0.0306],\n",
       "         [-0.2415,  0.2863,  0.1896,  ...,  0.0980,  0.0838,  0.1481],\n",
       "         [-0.0653,  0.0544,  0.1262,  ..., -0.3759, -0.1101,  0.3571],\n",
       "         ...,\n",
       "         [-0.0124,  0.0684, -0.0095,  ..., -0.1089, -0.0324, -0.0683],\n",
       "         [-0.0124,  0.0684, -0.0095,  ..., -0.1089, -0.0324, -0.0683],\n",
       "         [-0.0124,  0.0684, -0.0095,  ..., -0.1089, -0.0324, -0.0683]]],\n",
       "       grad_fn=<NativeLayerNormBackward>)"
      ]
     },
     "execution_count": 11,
     "metadata": {},
     "output_type": "execute_result"
    }
   ],
   "source": [
    "output"
   ]
  },
  {
   "cell_type": "code",
   "execution_count": null,
   "id": "1365a9f3",
   "metadata": {},
   "outputs": [],
   "source": []
  }
 ],
 "metadata": {
  "kernelspec": {
   "display_name": "longformer",
   "language": "python",
   "name": "longformer"
  },
  "language_info": {
   "codemirror_mode": {
    "name": "ipython",
    "version": 3
   },
   "file_extension": ".py",
   "mimetype": "text/x-python",
   "name": "python",
   "nbconvert_exporter": "python",
   "pygments_lexer": "ipython3",
   "version": "3.7.11"
  }
 },
 "nbformat": 4,
 "nbformat_minor": 5
}
