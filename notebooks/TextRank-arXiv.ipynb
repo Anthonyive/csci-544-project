{
 "cells": [
  {
   "cell_type": "code",
   "execution_count": null,
   "id": "51c99d2c-4584-4f4a-8904-9e352842928f",
   "metadata": {},
   "outputs": [],
   "source": []
  },
  {
   "cell_type": "code",
   "execution_count": 1,
   "id": "6bd03b32-92c2-4761-9a4f-9c476521bda4",
   "metadata": {},
   "outputs": [
    {
     "data": {
      "text/plain": [
       "<pytextrank.base.BaseTextRankFactory at 0x7f4add7a73d0>"
      ]
     },
     "execution_count": 1,
     "metadata": {},
     "output_type": "execute_result"
    }
   ],
   "source": [
    "import gdown\n",
    "import json\n",
    "import numpy as np\n",
    "import pandas as pd\n",
    "from nltk.corpus import stopwords\n",
    "from nltk.tokenize import word_tokenize, sent_tokenize\n",
    "from tqdm.auto import tqdm\n",
    "tqdm.pandas()\n",
    "from datasets import load_metric\n",
    "metric = load_metric(\"rouge\")\n",
    "import spacy\n",
    "import pytextrank\n",
    "\n",
    "# load a spaCy model, depending on language, scale, etc.\n",
    "nlp = spacy.load(\"en_core_web_sm\")\n",
    "\n",
    "# add PyTextRank to the spaCy pipeline\n",
    "nlp.add_pipe(\"textrank\")"
   ]
  },
  {
   "cell_type": "code",
   "execution_count": 2,
   "id": "da6b5dec-3e60-43c6-bf0f-02f7d15d92f1",
   "metadata": {},
   "outputs": [],
   "source": [
    "def read_arxiv(path: str) -> pd.DataFrame:\n",
    "    with open(path, 'r') as json_file:\n",
    "        json_list = list(json_file)\n",
    "\n",
    "    # read jsonl\n",
    "    result = [json.loads(json_str) for json_str in json_list]\n",
    "\n",
    "    return pd.DataFrame(result)"
   ]
  },
  {
   "cell_type": "code",
   "execution_count": 3,
   "id": "2151b95f-84cb-4a68-a72f-cd0c7ff8e08e",
   "metadata": {},
   "outputs": [],
   "source": [
    "df_train = read_arxiv('../csci-544-project/data/arxiv-dataset/train.txt')\n",
    "df_test = read_arxiv('../csci-544-project/data/arxiv-dataset/test.txt')\n",
    "df_val = read_arxiv('../csci-544-project/data/arxiv-dataset/val.txt')"
   ]
  },
  {
   "cell_type": "code",
   "execution_count": 4,
   "id": "63f04a25-44a7-4fae-9dbd-402f453a41f1",
   "metadata": {},
   "outputs": [
    {
     "data": {
      "text/html": [
       "<div>\n",
       "<style scoped>\n",
       "    .dataframe tbody tr th:only-of-type {\n",
       "        vertical-align: middle;\n",
       "    }\n",
       "\n",
       "    .dataframe tbody tr th {\n",
       "        vertical-align: top;\n",
       "    }\n",
       "\n",
       "    .dataframe thead th {\n",
       "        text-align: right;\n",
       "    }\n",
       "</style>\n",
       "<table border=\"1\" class=\"dataframe\">\n",
       "  <thead>\n",
       "    <tr style=\"text-align: right;\">\n",
       "      <th></th>\n",
       "      <th>article_id</th>\n",
       "      <th>article_text</th>\n",
       "      <th>abstract_text</th>\n",
       "      <th>labels</th>\n",
       "      <th>section_names</th>\n",
       "      <th>sections</th>\n",
       "    </tr>\n",
       "  </thead>\n",
       "  <tbody>\n",
       "    <tr>\n",
       "      <th>0</th>\n",
       "      <td>1405.3379</td>\n",
       "      <td>[additive models @xcite provide an important f...</td>\n",
       "      <td>[&lt;S&gt; additive models play an important role in...</td>\n",
       "      <td>None</td>\n",
       "      <td>[introduction, main results on learning rates,...</td>\n",
       "      <td>[[additive models @xcite provide an important ...</td>\n",
       "    </tr>\n",
       "    <tr>\n",
       "      <th>1</th>\n",
       "      <td>0901.1147</td>\n",
       "      <td>[the leptonic decays of a charged pseudoscalar...</td>\n",
       "      <td>[&lt;S&gt; we have studied the leptonic decay @xmath...</td>\n",
       "      <td>None</td>\n",
       "      <td>[[sec:introduction]introduction, [sec:detector...</td>\n",
       "      <td>[[the leptonic decays of a charged pseudoscala...</td>\n",
       "    </tr>\n",
       "    <tr>\n",
       "      <th>2</th>\n",
       "      <td>nlin0608019</td>\n",
       "      <td>[the transport properties of nonlinear non - e...</td>\n",
       "      <td>[&lt;S&gt; in 84 , 258 ( 2000 ) , mateos conjectured...</td>\n",
       "      <td>None</td>\n",
       "      <td>[introduction, regularity and chaos in single-...</td>\n",
       "      <td>[[the transport properties of nonlinear non - ...</td>\n",
       "    </tr>\n",
       "    <tr>\n",
       "      <th>3</th>\n",
       "      <td>0903.5449</td>\n",
       "      <td>[studies of laser beams propagating through tu...</td>\n",
       "      <td>[&lt;S&gt; the effect of a random phase diffuser on ...</td>\n",
       "      <td>None</td>\n",
       "      <td>[introduction, the method of photon distributi...</td>\n",
       "      <td>[[studies of laser beams propagating through t...</td>\n",
       "    </tr>\n",
       "    <tr>\n",
       "      <th>4</th>\n",
       "      <td>hep-ph0605279</td>\n",
       "      <td>[the so - called `` nucleon spin crisis '' rai...</td>\n",
       "      <td>[&lt;S&gt; with a special intention of clarifying th...</td>\n",
       "      <td>None</td>\n",
       "      <td>[introduction, model lagrangian with pion mass...</td>\n",
       "      <td>[[the so - called `` nucleon spin crisis '' ra...</td>\n",
       "    </tr>\n",
       "    <tr>\n",
       "      <th>...</th>\n",
       "      <td>...</td>\n",
       "      <td>...</td>\n",
       "      <td>...</td>\n",
       "      <td>...</td>\n",
       "      <td>...</td>\n",
       "      <td>...</td>\n",
       "    </tr>\n",
       "    <tr>\n",
       "      <th>203032</th>\n",
       "      <td>quant-ph0402038</td>\n",
       "      <td>[e. rasmusen , _ games and information : an in...</td>\n",
       "      <td>[&lt;S&gt; effects of a corrupt source on the dynami...</td>\n",
       "      <td>None</td>\n",
       "      <td>[references]</td>\n",
       "      <td>[[e. rasmusen , _ games and information : an i...</td>\n",
       "    </tr>\n",
       "    <tr>\n",
       "      <th>203033</th>\n",
       "      <td>0907.3736</td>\n",
       "      <td>[the magnetocaloric effect , _, i.e. _ , a tem...</td>\n",
       "      <td>[&lt;S&gt; we compute the entropy of antiferromagnet...</td>\n",
       "      <td>None</td>\n",
       "      <td>[introduction, methods, spin @xmath1 heisenber...</td>\n",
       "      <td>[[the magnetocaloric effect , _, i.e. _ , a te...</td>\n",
       "    </tr>\n",
       "    <tr>\n",
       "      <th>203034</th>\n",
       "      <td>1506.04688</td>\n",
       "      <td>[as expected , the most interesting combinator...</td>\n",
       "      <td>[&lt;S&gt; as a generalization of orbit - polynomial...</td>\n",
       "      <td>None</td>\n",
       "      <td>[introduction and preliminaries, partitions ar...</td>\n",
       "      <td>[[as expected , the most interesting combinato...</td>\n",
       "    </tr>\n",
       "    <tr>\n",
       "      <th>203035</th>\n",
       "      <td>cond-mat0304118</td>\n",
       "      <td>[by numerical study we find that the branch cu...</td>\n",
       "      <td>[&lt;S&gt; within the lowest - order born approximat...</td>\n",
       "      <td>None</td>\n",
       "      <td>[scaling form for branch cut integrals]</td>\n",
       "      <td>[[by numerical study we find that the branch c...</td>\n",
       "    </tr>\n",
       "    <tr>\n",
       "      <th>203036</th>\n",
       "      <td>0801.2228</td>\n",
       "      <td>[small submicron particles are well - suited a...</td>\n",
       "      <td>[&lt;S&gt; conducting submicron particles are well -...</td>\n",
       "      <td>None</td>\n",
       "      <td>[introduction, conductivity in conducting poly...</td>\n",
       "      <td>[[small submicron particles are well - suited ...</td>\n",
       "    </tr>\n",
       "  </tbody>\n",
       "</table>\n",
       "<p>203037 rows × 6 columns</p>\n",
       "</div>"
      ],
      "text/plain": [
       "             article_id                                       article_text  \\\n",
       "0             1405.3379  [additive models @xcite provide an important f...   \n",
       "1             0901.1147  [the leptonic decays of a charged pseudoscalar...   \n",
       "2           nlin0608019  [the transport properties of nonlinear non - e...   \n",
       "3             0903.5449  [studies of laser beams propagating through tu...   \n",
       "4         hep-ph0605279  [the so - called `` nucleon spin crisis '' rai...   \n",
       "...                 ...                                                ...   \n",
       "203032  quant-ph0402038  [e. rasmusen , _ games and information : an in...   \n",
       "203033        0907.3736  [the magnetocaloric effect , _, i.e. _ , a tem...   \n",
       "203034       1506.04688  [as expected , the most interesting combinator...   \n",
       "203035  cond-mat0304118  [by numerical study we find that the branch cu...   \n",
       "203036        0801.2228  [small submicron particles are well - suited a...   \n",
       "\n",
       "                                            abstract_text labels  \\\n",
       "0       [<S> additive models play an important role in...   None   \n",
       "1       [<S> we have studied the leptonic decay @xmath...   None   \n",
       "2       [<S> in 84 , 258 ( 2000 ) , mateos conjectured...   None   \n",
       "3       [<S> the effect of a random phase diffuser on ...   None   \n",
       "4       [<S> with a special intention of clarifying th...   None   \n",
       "...                                                   ...    ...   \n",
       "203032  [<S> effects of a corrupt source on the dynami...   None   \n",
       "203033  [<S> we compute the entropy of antiferromagnet...   None   \n",
       "203034  [<S> as a generalization of orbit - polynomial...   None   \n",
       "203035  [<S> within the lowest - order born approximat...   None   \n",
       "203036  [<S> conducting submicron particles are well -...   None   \n",
       "\n",
       "                                            section_names  \\\n",
       "0       [introduction, main results on learning rates,...   \n",
       "1       [[sec:introduction]introduction, [sec:detector...   \n",
       "2       [introduction, regularity and chaos in single-...   \n",
       "3       [introduction, the method of photon distributi...   \n",
       "4       [introduction, model lagrangian with pion mass...   \n",
       "...                                                   ...   \n",
       "203032                                       [references]   \n",
       "203033  [introduction, methods, spin @xmath1 heisenber...   \n",
       "203034  [introduction and preliminaries, partitions ar...   \n",
       "203035            [scaling form for branch cut integrals]   \n",
       "203036  [introduction, conductivity in conducting poly...   \n",
       "\n",
       "                                                 sections  \n",
       "0       [[additive models @xcite provide an important ...  \n",
       "1       [[the leptonic decays of a charged pseudoscala...  \n",
       "2       [[the transport properties of nonlinear non - ...  \n",
       "3       [[studies of laser beams propagating through t...  \n",
       "4       [[the so - called `` nucleon spin crisis '' ra...  \n",
       "...                                                   ...  \n",
       "203032  [[e. rasmusen , _ games and information : an i...  \n",
       "203033  [[the magnetocaloric effect , _, i.e. _ , a te...  \n",
       "203034  [[as expected , the most interesting combinato...  \n",
       "203035  [[by numerical study we find that the branch c...  \n",
       "203036  [[small submicron particles are well - suited ...  \n",
       "\n",
       "[203037 rows x 6 columns]"
      ]
     },
     "execution_count": 4,
     "metadata": {},
     "output_type": "execute_result"
    }
   ],
   "source": [
    "df_train"
   ]
  },
  {
   "cell_type": "code",
   "execution_count": 5,
   "id": "8f5eb7c1-b2af-435c-a040-b5ca91470379",
   "metadata": {},
   "outputs": [],
   "source": [
    "def text_rank_apply(row):\n",
    "    sent_li = row['article_text']\n",
    "    text = ''.join(sent_li)\n",
    "    \n",
    "    doc = nlp(text)\n",
    "    \n",
    "    tr = doc._.textrank\n",
    "    summary = ''\n",
    "    for sent in tr.summary(limit_phrases=15, limit_sentences=5):\n",
    "        summary += str(sent)\n",
    "    return summary"
   ]
  },
  {
   "cell_type": "code",
   "execution_count": 7,
   "id": "23fef675-d698-4cbe-9aa3-306903a5f64c",
   "metadata": {},
   "outputs": [
    {
     "data": {
      "application/vnd.jupyter.widget-view+json": {
       "model_id": "05a56ce3bdfb4258b4b75c6a00430d3a",
       "version_major": 2,
       "version_minor": 0
      },
      "text/plain": [
       "  0%|          | 0/30000 [00:00<?, ?it/s]"
      ]
     },
     "metadata": {},
     "output_type": "display_data"
    }
   ],
   "source": [
    "extractive_summaries = df_train.iloc[:30000].progress_apply(text_rank_apply, axis=1)"
   ]
  },
  {
   "cell_type": "code",
   "execution_count": 8,
   "id": "df360d6e-5129-4d86-8b91-1ae0f40caedf",
   "metadata": {},
   "outputs": [],
   "source": [
    "df_comp = pd.DataFrame()\n",
    "df_comp['predictions'] = extractive_summaries\n",
    "df_comp['references'] = df_train['abstract_text'].iloc[:30000]\n",
    "df_comp['references_joined'] = df_comp['references'].apply(lambda x: ''.join(list(map(lambda y: y[4:-4], x))))"
   ]
  },
  {
   "cell_type": "code",
   "execution_count": 9,
   "id": "721462cc-9b04-4a89-bce7-2813103d1183",
   "metadata": {},
   "outputs": [],
   "source": [
    "df_comp.to_pickle('output/textrank-arxiv.pkl')"
   ]
  },
  {
   "cell_type": "code",
   "execution_count": 10,
   "id": "46b750ee-8b24-4ef4-b7ec-1f811a460182",
   "metadata": {},
   "outputs": [
    {
     "data": {
      "text/plain": [
       "{'rouge1': AggregateScore(low=Score(precision=0.23600631757902965, recall=0.5316809091375873, fmeasure=0.2933634373795379), mid=Score(precision=0.23750327733455195, recall=0.5334781840444933, fmeasure=0.2944833864902685), high=Score(precision=0.23893499120004164, recall=0.5353431763999145, fmeasure=0.2956113370871592)),\n",
       " 'rouge2': AggregateScore(low=Score(precision=0.07570996577804624, recall=0.17874657996304621, fmeasure=0.0951806730796716), mid=Score(precision=0.07635596044740152, recall=0.1799875018527766, fmeasure=0.09578286291231464), high=Score(precision=0.07703250847515908, recall=0.1813800111759692, fmeasure=0.09636960529006236)),\n",
       " 'rougeL': AggregateScore(low=Score(precision=0.11936211975474546, recall=0.2779645211035484, fmeasure=0.14797977423485398), mid=Score(precision=0.12009637482150218, recall=0.2792157046212337, fmeasure=0.1485622609250979), high=Score(precision=0.12078296548758274, recall=0.2804645827077607, fmeasure=0.14911540913004656)),\n",
       " 'rougeLsum': AggregateScore(low=Score(precision=0.11936014169199662, recall=0.27799175825765216, fmeasure=0.14802163161697676), mid=Score(precision=0.12007051366306234, recall=0.2792326422376342, fmeasure=0.14859180084531473), high=Score(precision=0.12076716304401608, recall=0.28050148482681264, fmeasure=0.1491100082883305))}"
      ]
     },
     "execution_count": 10,
     "metadata": {},
     "output_type": "execute_result"
    }
   ],
   "source": [
    "metric.compute(predictions=df_comp['predictions'].to_list(), references=df_comp['references_joined'].to_list())"
   ]
  },
  {
   "cell_type": "code",
   "execution_count": null,
   "id": "fa443fa3-0ad9-44f9-88ab-a97f76bb50af",
   "metadata": {},
   "outputs": [],
   "source": []
  }
 ],
 "metadata": {
  "kernelspec": {
   "display_name": "Python 3.8 (csci-544-project)",
   "language": "python",
   "name": "csci-544-project"
  },
  "language_info": {
   "codemirror_mode": {
    "name": "ipython",
    "version": 3
   },
   "file_extension": ".py",
   "mimetype": "text/x-python",
   "name": "python",
   "nbconvert_exporter": "python",
   "pygments_lexer": "ipython3",
   "version": "3.8.10"
  }
 },
 "nbformat": 4,
 "nbformat_minor": 5
}
