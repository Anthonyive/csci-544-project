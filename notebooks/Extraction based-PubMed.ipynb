{
 "cells": [
  {
   "cell_type": "markdown",
   "id": "738af94f-13df-4a43-bfa6-62c6fbad05c0",
   "metadata": {},
   "source": [
    "# Extractive Baseline\n",
    "\n",
    "Data: PubMed"
   ]
  },
  {
   "cell_type": "code",
   "execution_count": 1,
   "id": "0d60ba08-098f-4633-972c-d7a8ae787419",
   "metadata": {},
   "outputs": [],
   "source": [
    "import gdown\n",
    "import json\n",
    "import numpy as np\n",
    "import pandas as pd\n",
    "from nltk.corpus import stopwords\n",
    "from nltk.tokenize import word_tokenize, sent_tokenize\n",
    "from tqdm.auto import tqdm\n",
    "tqdm.pandas()\n",
    "from datasets import load_metric\n",
    "metric = load_metric(\"rouge\")"
   ]
  },
  {
   "cell_type": "code",
   "execution_count": 2,
   "id": "0ff97285-59b3-426a-8889-fb7fad738327",
   "metadata": {},
   "outputs": [
    {
     "name": "stdout",
     "output_type": "stream",
     "text": [
      "File exists: ../csci-544-project/data/pubmed-dataset.zip\n"
     ]
    },
    {
     "data": {
      "text/plain": [
       "'../csci-544-project/data/pubmed-dataset.zip'"
      ]
     },
     "execution_count": 2,
     "metadata": {},
     "output_type": "execute_result"
    }
   ],
   "source": [
    "url = 'https://drive.google.com/u/0/uc?export=download&confirm=OaU2&id=1lvsqvsFi3W-pE1SqNZI0s8NR9rC1tsja'\n",
    "output = '../csci-544-project/data/pubmed-dataset.zip'\n",
    "gdown.cached_download(url, output, quiet=False)"
   ]
  },
  {
   "cell_type": "code",
   "execution_count": 3,
   "id": "1d606bf7-cfd6-4455-859e-8b774134b565",
   "metadata": {},
   "outputs": [
    {
     "data": {
      "text/plain": [
       "['../csci-544-project/data/pubmed-dataset/',\n",
       " '../csci-544-project/data/__MACOSX/._pubmed-dataset',\n",
       " '../csci-544-project/data/pubmed-dataset/train.txt',\n",
       " '../csci-544-project/data/__MACOSX/pubmed-dataset/._train.txt',\n",
       " '../csci-544-project/data/pubmed-dataset/vocab',\n",
       " '../csci-544-project/data/__MACOSX/pubmed-dataset/._vocab',\n",
       " '../csci-544-project/data/pubmed-dataset/test.txt',\n",
       " '../csci-544-project/data/__MACOSX/pubmed-dataset/._test.txt',\n",
       " '../csci-544-project/data/pubmed-dataset/val.txt',\n",
       " '../csci-544-project/data/__MACOSX/pubmed-dataset/._val.txt']"
      ]
     },
     "execution_count": 3,
     "metadata": {},
     "output_type": "execute_result"
    }
   ],
   "source": [
    "gdown.extractall(output)"
   ]
  },
  {
   "cell_type": "code",
   "execution_count": 4,
   "id": "427e34d7-202e-43ff-801e-907df24d5a5f",
   "metadata": {
    "tags": []
   },
   "outputs": [],
   "source": [
    "def read_pubmed(path: str) -> pd.DataFrame:\n",
    "    with open(path, 'r') as json_file:\n",
    "        json_list = list(json_file)\n",
    "\n",
    "    # read jsonl\n",
    "    result = [json.loads(json_str) for json_str in json_list]\n",
    "\n",
    "    return pd.DataFrame(result)"
   ]
  },
  {
   "cell_type": "code",
   "execution_count": 5,
   "id": "a26edd3b-2e44-47f7-bf52-6011633f3cf4",
   "metadata": {},
   "outputs": [],
   "source": [
    "df_train = read_pubmed('../csci-544-project/data/pubmed-dataset/train.txt')\n",
    "df_test = read_pubmed('../csci-544-project/data/pubmed-dataset/test.txt')\n",
    "df_val = read_pubmed('../csci-544-project/data/pubmed-dataset/val.txt')"
   ]
  },
  {
   "cell_type": "code",
   "execution_count": 6,
   "id": "4fd8dcde-8ad6-4c71-a486-07e0ab8d8e55",
   "metadata": {},
   "outputs": [
    {
     "data": {
      "text/html": [
       "<div>\n",
       "<style scoped>\n",
       "    .dataframe tbody tr th:only-of-type {\n",
       "        vertical-align: middle;\n",
       "    }\n",
       "\n",
       "    .dataframe tbody tr th {\n",
       "        vertical-align: top;\n",
       "    }\n",
       "\n",
       "    .dataframe thead th {\n",
       "        text-align: right;\n",
       "    }\n",
       "</style>\n",
       "<table border=\"1\" class=\"dataframe\">\n",
       "  <thead>\n",
       "    <tr style=\"text-align: right;\">\n",
       "      <th></th>\n",
       "      <th>article_id</th>\n",
       "      <th>article_text</th>\n",
       "      <th>abstract_text</th>\n",
       "      <th>labels</th>\n",
       "      <th>section_names</th>\n",
       "      <th>sections</th>\n",
       "    </tr>\n",
       "  </thead>\n",
       "  <tbody>\n",
       "    <tr>\n",
       "      <th>0</th>\n",
       "      <td>PMC3872579</td>\n",
       "      <td>[a recent systematic analysis showed that in 2...</td>\n",
       "      <td>[&lt;S&gt; background : the present study was carrie...</td>\n",
       "      <td>None</td>\n",
       "      <td>[INTRODUCTION, MATERIALS AND METHODS, Particip...</td>\n",
       "      <td>[[a recent systematic analysis showed that in ...</td>\n",
       "    </tr>\n",
       "    <tr>\n",
       "      <th>1</th>\n",
       "      <td>PMC3770628</td>\n",
       "      <td>[it occurs in more than 50% of patients and ma...</td>\n",
       "      <td>[&lt;S&gt; backgroundanemia in patients with cancer ...</td>\n",
       "      <td>None</td>\n",
       "      <td>[Introduction, Patients and methods, Study des...</td>\n",
       "      <td>[[it occurs in more than 50% of patients and m...</td>\n",
       "    </tr>\n",
       "    <tr>\n",
       "      <th>2</th>\n",
       "      <td>PMC5330001</td>\n",
       "      <td>[tardive dystonia ( td ) , a rarer side effect...</td>\n",
       "      <td>[&lt;S&gt; tardive dystonia ( td ) is a serious side...</td>\n",
       "      <td>None</td>\n",
       "      <td>[INTRODUCTION, CASE REPORT, DISCUSSION, Declar...</td>\n",
       "      <td>[[tardive dystonia ( td ) , a rarer side effec...</td>\n",
       "    </tr>\n",
       "    <tr>\n",
       "      <th>3</th>\n",
       "      <td>PMC4386667</td>\n",
       "      <td>[lepidoptera include agricultural pests that ,...</td>\n",
       "      <td>[&lt;S&gt; many lepidopteran insects are agricultura...</td>\n",
       "      <td>None</td>\n",
       "      <td>[1. Introduction, 2. Insect Immunity, 3. Signa...</td>\n",
       "      <td>[[lepidoptera include agricultural pests that ...</td>\n",
       "    </tr>\n",
       "    <tr>\n",
       "      <th>4</th>\n",
       "      <td>PMC4307954</td>\n",
       "      <td>[syncope is caused by transient diffuse cerebr...</td>\n",
       "      <td>[&lt;S&gt; we present an unusual case of recurrent c...</td>\n",
       "      <td>None</td>\n",
       "      <td>[Introduction, Case report, Discussion, Confli...</td>\n",
       "      <td>[[syncope is caused by transient diffuse cereb...</td>\n",
       "    </tr>\n",
       "    <tr>\n",
       "      <th>...</th>\n",
       "      <td>...</td>\n",
       "      <td>...</td>\n",
       "      <td>...</td>\n",
       "      <td>...</td>\n",
       "      <td>...</td>\n",
       "      <td>...</td>\n",
       "    </tr>\n",
       "    <tr>\n",
       "      <th>119919</th>\n",
       "      <td>PMC3502213</td>\n",
       "      <td>[eukaryotic cells depend on vesicle - mediated...</td>\n",
       "      <td>[&lt;S&gt; long - distance trafficking of membranous...</td>\n",
       "      <td>None</td>\n",
       "      <td>[Introduction, Motor-Dependent Transport of Ra...</td>\n",
       "      <td>[[eukaryotic cells depend on vesicle - mediate...</td>\n",
       "    </tr>\n",
       "    <tr>\n",
       "      <th>119920</th>\n",
       "      <td>PMC3198562</td>\n",
       "      <td>[as regards the selection criteria of the post...</td>\n",
       "      <td>[&lt;S&gt; aims and objectives : to study the stress...</td>\n",
       "      <td>None</td>\n",
       "      <td>[INTRODUCTION, MATERIALS AND METHODS, Modeling...</td>\n",
       "      <td>[[fiber post systems are routinely used in res...</td>\n",
       "    </tr>\n",
       "    <tr>\n",
       "      <th>119921</th>\n",
       "      <td>PMC4436536</td>\n",
       "      <td>[in most of the peer review publications in th...</td>\n",
       "      <td>[&lt;S&gt; abstractbackgroundthe objective of this s...</td>\n",
       "      <td>None</td>\n",
       "      <td>[Introduction, Methods, Results, Discussion, L...</td>\n",
       "      <td>[[in most of the peer review publications in t...</td>\n",
       "    </tr>\n",
       "    <tr>\n",
       "      <th>119922</th>\n",
       "      <td>PMC4251613</td>\n",
       "      <td>[the reveal registry is a longitudinal registr...</td>\n",
       "      <td>[&lt;S&gt; background : patients with pulmonary arte...</td>\n",
       "      <td>None</td>\n",
       "      <td>[TRIAL REGISTRY:, Materials and Methods, REVEA...</td>\n",
       "      <td>[[], [the reveal registry is a longitudinal re...</td>\n",
       "    </tr>\n",
       "    <tr>\n",
       "      <th>119923</th>\n",
       "      <td>PMC3389695</td>\n",
       "      <td>[cerebral palsy is a nonprogressive central ne...</td>\n",
       "      <td>[&lt;S&gt; \\n objective . to determine &lt;/S&gt;, &lt;S&gt; if ...</td>\n",
       "      <td>None</td>\n",
       "      <td>[1. Introduction, 2. Method, 3. Results, 4. Di...</td>\n",
       "      <td>[[cerebral palsy is a nonprogressive central n...</td>\n",
       "    </tr>\n",
       "  </tbody>\n",
       "</table>\n",
       "<p>119924 rows × 6 columns</p>\n",
       "</div>"
      ],
      "text/plain": [
       "        article_id                                       article_text  \\\n",
       "0       PMC3872579  [a recent systematic analysis showed that in 2...   \n",
       "1       PMC3770628  [it occurs in more than 50% of patients and ma...   \n",
       "2       PMC5330001  [tardive dystonia ( td ) , a rarer side effect...   \n",
       "3       PMC4386667  [lepidoptera include agricultural pests that ,...   \n",
       "4       PMC4307954  [syncope is caused by transient diffuse cerebr...   \n",
       "...            ...                                                ...   \n",
       "119919  PMC3502213  [eukaryotic cells depend on vesicle - mediated...   \n",
       "119920  PMC3198562  [as regards the selection criteria of the post...   \n",
       "119921  PMC4436536  [in most of the peer review publications in th...   \n",
       "119922  PMC4251613  [the reveal registry is a longitudinal registr...   \n",
       "119923  PMC3389695  [cerebral palsy is a nonprogressive central ne...   \n",
       "\n",
       "                                            abstract_text labels  \\\n",
       "0       [<S> background : the present study was carrie...   None   \n",
       "1       [<S> backgroundanemia in patients with cancer ...   None   \n",
       "2       [<S> tardive dystonia ( td ) is a serious side...   None   \n",
       "3       [<S> many lepidopteran insects are agricultura...   None   \n",
       "4       [<S> we present an unusual case of recurrent c...   None   \n",
       "...                                                   ...    ...   \n",
       "119919  [<S> long - distance trafficking of membranous...   None   \n",
       "119920  [<S> aims and objectives : to study the stress...   None   \n",
       "119921  [<S> abstractbackgroundthe objective of this s...   None   \n",
       "119922  [<S> background : patients with pulmonary arte...   None   \n",
       "119923  [<S> \\n objective . to determine </S>, <S> if ...   None   \n",
       "\n",
       "                                            section_names  \\\n",
       "0       [INTRODUCTION, MATERIALS AND METHODS, Particip...   \n",
       "1       [Introduction, Patients and methods, Study des...   \n",
       "2       [INTRODUCTION, CASE REPORT, DISCUSSION, Declar...   \n",
       "3       [1. Introduction, 2. Insect Immunity, 3. Signa...   \n",
       "4       [Introduction, Case report, Discussion, Confli...   \n",
       "...                                                   ...   \n",
       "119919  [Introduction, Motor-Dependent Transport of Ra...   \n",
       "119920  [INTRODUCTION, MATERIALS AND METHODS, Modeling...   \n",
       "119921  [Introduction, Methods, Results, Discussion, L...   \n",
       "119922  [TRIAL REGISTRY:, Materials and Methods, REVEA...   \n",
       "119923  [1. Introduction, 2. Method, 3. Results, 4. Di...   \n",
       "\n",
       "                                                 sections  \n",
       "0       [[a recent systematic analysis showed that in ...  \n",
       "1       [[it occurs in more than 50% of patients and m...  \n",
       "2       [[tardive dystonia ( td ) , a rarer side effec...  \n",
       "3       [[lepidoptera include agricultural pests that ...  \n",
       "4       [[syncope is caused by transient diffuse cereb...  \n",
       "...                                                   ...  \n",
       "119919  [[eukaryotic cells depend on vesicle - mediate...  \n",
       "119920  [[fiber post systems are routinely used in res...  \n",
       "119921  [[in most of the peer review publications in t...  \n",
       "119922  [[], [the reveal registry is a longitudinal re...  \n",
       "119923  [[cerebral palsy is a nonprogressive central n...  \n",
       "\n",
       "[119924 rows x 6 columns]"
      ]
     },
     "execution_count": 6,
     "metadata": {},
     "output_type": "execute_result"
    }
   ],
   "source": [
    "df_train"
   ]
  },
  {
   "cell_type": "code",
   "execution_count": 7,
   "id": "23c5000a-4ee2-46df-839f-7c9ea72465c5",
   "metadata": {},
   "outputs": [],
   "source": [
    "def extractive_apply(row):\n",
    "    # print(row['article_id'])\n",
    "    sentences = row['article_text']\n",
    "    if not sentences or not sentences[0]:\n",
    "        return np.nan\n",
    "    elif len(sentences) < len(row['abstract_text']):\n",
    "        return np.nan\n",
    "    \n",
    "    \n",
    "    text = ' '.join(sentences)\n",
    "    stopWords = set(stopwords.words('english'))\n",
    "    words = word_tokenize(text)\n",
    "    target_len = len(row['abstract_text'])\n",
    "    \n",
    "    freqTable = dict()\n",
    "    for word in words:\n",
    "        word = word.lower()\n",
    "        if word in stopWords:\n",
    "            continue\n",
    "        if word in freqTable:\n",
    "            freqTable[word] += 1\n",
    "        else:\n",
    "            freqTable[word] = 1\n",
    "            \n",
    "    sentenceValue = dict()\n",
    "    for sentence in sentences:\n",
    "        for word, freq in freqTable.items():\n",
    "            if word in sentence.lower():\n",
    "                if sentence in sentenceValue:\n",
    "                    sentenceValue[sentence] += freq\n",
    "                else:\n",
    "                    sentenceValue[sentence] = freq\n",
    "    # print(len(sentences))\n",
    "    # print(sentenceValue.values())\n",
    "    try:\n",
    "        min_val = sorted(sentenceValue.values(), reverse=True)[target_len-1]\n",
    "    except IndexError: # this case # of sentenceValue < # of sentences, so just leave it 0\n",
    "        return np.nan\n",
    "    \n",
    "    summary = []\n",
    "    for sentence in sentences:\n",
    "        if len(summary) == target_len:\n",
    "            break\n",
    "        if (sentence in sentenceValue) and (sentenceValue[sentence] >= min_val):\n",
    "            if '<S> '+ sentence + ' </S>' not in summary:\n",
    "                summary += ['<S> '+ sentence + ' </S>']\n",
    "            \n",
    "    assert len(summary) == target_len, f\"summary_len={len(summary)}, target_len={target_len}\"\n",
    "    \n",
    "    return summary"
   ]
  },
  {
   "cell_type": "code",
   "execution_count": 8,
   "id": "0808c7bd-2639-4eb7-b922-59ca4caec4bd",
   "metadata": {},
   "outputs": [
    {
     "data": {
      "text/plain": [
       "article_id                                              PMC5238359\n",
       "article_text                                                    []\n",
       "abstract_text    [<S> highlightsinflammatory myofibroblastic tu...\n",
       "labels                                                        None\n",
       "section_names    [Conflicts of interest, Funding, Ethical appro...\n",
       "sections                                  [[], [], [], [], [], []]\n",
       "Name: 30263, dtype: object"
      ]
     },
     "execution_count": 8,
     "metadata": {},
     "output_type": "execute_result"
    }
   ],
   "source": [
    "df_train.iloc[30263]"
   ]
  },
  {
   "cell_type": "code",
   "execution_count": 9,
   "id": "6a87f6f8-33e3-4ecb-8798-c4a4d8e5dcf1",
   "metadata": {
    "tags": []
   },
   "outputs": [
    {
     "data": {
      "application/vnd.jupyter.widget-view+json": {
       "model_id": "48232afe2c934359a44f0dd29d780240",
       "version_major": 2,
       "version_minor": 0
      },
      "text/plain": [
       "  0%|          | 0/119924 [00:00<?, ?it/s]"
      ]
     },
     "metadata": {},
     "output_type": "display_data"
    }
   ],
   "source": [
    "extractive_summaries = df_train.progress_apply(extractive_apply, axis=1)"
   ]
  },
  {
   "cell_type": "code",
   "execution_count": 10,
   "id": "3f7dbd19-8be6-435a-bef6-464990cf5341",
   "metadata": {},
   "outputs": [],
   "source": [
    "na_idx = extractive_summaries[extractive_summaries.isnull()].index"
   ]
  },
  {
   "cell_type": "code",
   "execution_count": 11,
   "id": "5820b6f1-9d70-4e4a-a840-3080e9388b0a",
   "metadata": {},
   "outputs": [],
   "source": [
    "df_comp = pd.DataFrame()\n",
    "df_comp['predictions'] = extractive_summaries[~extractive_summaries.index.isin(na_idx)]\n",
    "df_comp['references'] = df_train['abstract_text'][~df_train.index.isin(na_idx)]"
   ]
  },
  {
   "cell_type": "code",
   "execution_count": 12,
   "id": "7942f406-9503-4c77-800d-d4b63a98da6d",
   "metadata": {},
   "outputs": [
    {
     "data": {
      "text/html": [
       "<div>\n",
       "<style scoped>\n",
       "    .dataframe tbody tr th:only-of-type {\n",
       "        vertical-align: middle;\n",
       "    }\n",
       "\n",
       "    .dataframe tbody tr th {\n",
       "        vertical-align: top;\n",
       "    }\n",
       "\n",
       "    .dataframe thead th {\n",
       "        text-align: right;\n",
       "    }\n",
       "</style>\n",
       "<table border=\"1\" class=\"dataframe\">\n",
       "  <thead>\n",
       "    <tr style=\"text-align: right;\">\n",
       "      <th></th>\n",
       "      <th>predictions</th>\n",
       "      <th>references</th>\n",
       "    </tr>\n",
       "  </thead>\n",
       "  <tbody>\n",
       "    <tr>\n",
       "      <th>0</th>\n",
       "      <td>[&lt;S&gt; the team was formed with representatives ...</td>\n",
       "      <td>[&lt;S&gt; background : the present study was carrie...</td>\n",
       "    </tr>\n",
       "    <tr>\n",
       "      <th>1</th>\n",
       "      <td>[&lt;S&gt; eligible patients were at least 18 years ...</td>\n",
       "      <td>[&lt;S&gt; backgroundanemia in patients with cancer ...</td>\n",
       "    </tr>\n",
       "    <tr>\n",
       "      <th>2</th>\n",
       "      <td>[&lt;S&gt; this was interpreted as psychosis with pe...</td>\n",
       "      <td>[&lt;S&gt; tardive dystonia ( td ) is a serious side...</td>\n",
       "    </tr>\n",
       "    <tr>\n",
       "      <th>3</th>\n",
       "      <td>[&lt;S&gt; in d. melanogaster , transcription of amp...</td>\n",
       "      <td>[&lt;S&gt; many lepidopteran insects are agricultura...</td>\n",
       "    </tr>\n",
       "    <tr>\n",
       "      <th>4</th>\n",
       "      <td>[&lt;S&gt; cough syncope , a rare form of syncope , ...</td>\n",
       "      <td>[&lt;S&gt; we present an unusual case of recurrent c...</td>\n",
       "    </tr>\n",
       "    <tr>\n",
       "      <th>...</th>\n",
       "      <td>...</td>\n",
       "      <td>...</td>\n",
       "    </tr>\n",
       "    <tr>\n",
       "      <th>119919</th>\n",
       "      <td>[&lt;S&gt; ( c ) model depicting the motor - depende...</td>\n",
       "      <td>[&lt;S&gt; long - distance trafficking of membranous...</td>\n",
       "    </tr>\n",
       "    <tr>\n",
       "      <th>119920</th>\n",
       "      <td>[&lt;S&gt; a maxillary central incisor was created v...</td>\n",
       "      <td>[&lt;S&gt; aims and objectives : to study the stress...</td>\n",
       "    </tr>\n",
       "    <tr>\n",
       "      <th>119921</th>\n",
       "      <td>[&lt;S&gt; demographic profile of the respondents ( ...</td>\n",
       "      <td>[&lt;S&gt; abstractbackgroundthe objective of this s...</td>\n",
       "    </tr>\n",
       "    <tr>\n",
       "      <th>119922</th>\n",
       "      <td>[&lt;S&gt; we developed an algorithm ( fig 1 ) to ex...</td>\n",
       "      <td>[&lt;S&gt; background : patients with pulmonary arte...</td>\n",
       "    </tr>\n",
       "    <tr>\n",
       "      <th>119923</th>\n",
       "      <td>[&lt;S&gt; cerebral palsy is a nonprogressive centra...</td>\n",
       "      <td>[&lt;S&gt; \\n objective . to determine &lt;/S&gt;, &lt;S&gt; if ...</td>\n",
       "    </tr>\n",
       "  </tbody>\n",
       "</table>\n",
       "<p>116155 rows × 2 columns</p>\n",
       "</div>"
      ],
      "text/plain": [
       "                                              predictions  \\\n",
       "0       [<S> the team was formed with representatives ...   \n",
       "1       [<S> eligible patients were at least 18 years ...   \n",
       "2       [<S> this was interpreted as psychosis with pe...   \n",
       "3       [<S> in d. melanogaster , transcription of amp...   \n",
       "4       [<S> cough syncope , a rare form of syncope , ...   \n",
       "...                                                   ...   \n",
       "119919  [<S> ( c ) model depicting the motor - depende...   \n",
       "119920  [<S> a maxillary central incisor was created v...   \n",
       "119921  [<S> demographic profile of the respondents ( ...   \n",
       "119922  [<S> we developed an algorithm ( fig 1 ) to ex...   \n",
       "119923  [<S> cerebral palsy is a nonprogressive centra...   \n",
       "\n",
       "                                               references  \n",
       "0       [<S> background : the present study was carrie...  \n",
       "1       [<S> backgroundanemia in patients with cancer ...  \n",
       "2       [<S> tardive dystonia ( td ) is a serious side...  \n",
       "3       [<S> many lepidopteran insects are agricultura...  \n",
       "4       [<S> we present an unusual case of recurrent c...  \n",
       "...                                                   ...  \n",
       "119919  [<S> long - distance trafficking of membranous...  \n",
       "119920  [<S> aims and objectives : to study the stress...  \n",
       "119921  [<S> abstractbackgroundthe objective of this s...  \n",
       "119922  [<S> background : patients with pulmonary arte...  \n",
       "119923  [<S> \\n objective . to determine </S>, <S> if ...  \n",
       "\n",
       "[116155 rows x 2 columns]"
      ]
     },
     "execution_count": 12,
     "metadata": {},
     "output_type": "execute_result"
    }
   ],
   "source": [
    "df_comp"
   ]
  },
  {
   "cell_type": "code",
   "execution_count": 13,
   "id": "b686623b-6d9a-4a9f-b28f-d24bdbe6f422",
   "metadata": {},
   "outputs": [],
   "source": [
    "def join_sent_apply(row):\n",
    "    pred_sents = list(map(lambda x: x[4:-4], row['predictions']))\n",
    "    ref_sents = list(map(lambda x: x[4:-4], row['references']))\n",
    "    return ''.join(pred_sents), ''.join(ref_sents)"
   ]
  },
  {
   "cell_type": "code",
   "execution_count": 14,
   "id": "625ef54f-792d-4e39-995a-b646cbcabf52",
   "metadata": {},
   "outputs": [
    {
     "data": {
      "application/vnd.jupyter.widget-view+json": {
       "model_id": "68fa6a21c7ae4778b1d6d73a2a8823df",
       "version_major": 2,
       "version_minor": 0
      },
      "text/plain": [
       "  0%|          | 0/116155 [00:00<?, ?it/s]"
      ]
     },
     "metadata": {},
     "output_type": "display_data"
    }
   ],
   "source": [
    "df_comp['predictions_joined'], df_comp['references_joined'] = zip(*df_comp.progress_apply(join_sent_apply, axis=1))"
   ]
  },
  {
   "cell_type": "code",
   "execution_count": 15,
   "id": "0e4e01f4-8a15-454c-8855-01149146ae85",
   "metadata": {},
   "outputs": [
    {
     "ename": "KeyboardInterrupt",
     "evalue": "",
     "output_type": "error",
     "traceback": [
      "\u001b[0;31m---------------------------------------------------------------------------\u001b[0m",
      "\u001b[0;31mKeyboardInterrupt\u001b[0m                         Traceback (most recent call last)",
      "\u001b[0;32m/tmp/ipykernel_3850/1432101736.py\u001b[0m in \u001b[0;36m<module>\u001b[0;34m\u001b[0m\n\u001b[0;32m----> 1\u001b[0;31m \u001b[0mmetric\u001b[0m\u001b[0;34m.\u001b[0m\u001b[0mcompute\u001b[0m\u001b[0;34m(\u001b[0m\u001b[0mpredictions\u001b[0m\u001b[0;34m=\u001b[0m\u001b[0mdf_comp\u001b[0m\u001b[0;34m[\u001b[0m\u001b[0;34m'predictions_joined'\u001b[0m\u001b[0;34m]\u001b[0m\u001b[0;34m.\u001b[0m\u001b[0mto_list\u001b[0m\u001b[0;34m(\u001b[0m\u001b[0;34m)\u001b[0m\u001b[0;34m,\u001b[0m \u001b[0mreferences\u001b[0m\u001b[0;34m=\u001b[0m\u001b[0mdf_comp\u001b[0m\u001b[0;34m[\u001b[0m\u001b[0;34m'references_joined'\u001b[0m\u001b[0;34m]\u001b[0m\u001b[0;34m.\u001b[0m\u001b[0mto_list\u001b[0m\u001b[0;34m(\u001b[0m\u001b[0;34m)\u001b[0m\u001b[0;34m)\u001b[0m\u001b[0;34m\u001b[0m\u001b[0;34m\u001b[0m\u001b[0m\n\u001b[0m",
      "\u001b[0;32m~/Documents/csci-544-project/.jupyter-venv/lib/python3.8/site-packages/datasets/metric.py\u001b[0m in \u001b[0;36mcompute\u001b[0;34m(self, predictions, references, **kwargs)\u001b[0m\n\u001b[1;32m    402\u001b[0m             \u001b[0mreferences\u001b[0m \u001b[0;34m=\u001b[0m \u001b[0mself\u001b[0m\u001b[0;34m.\u001b[0m\u001b[0mdata\u001b[0m\u001b[0;34m[\u001b[0m\u001b[0;34m\"references\"\u001b[0m\u001b[0;34m]\u001b[0m\u001b[0;34m\u001b[0m\u001b[0;34m\u001b[0m\u001b[0m\n\u001b[1;32m    403\u001b[0m             \u001b[0;32mwith\u001b[0m \u001b[0mtemp_seed\u001b[0m\u001b[0;34m(\u001b[0m\u001b[0mself\u001b[0m\u001b[0;34m.\u001b[0m\u001b[0mseed\u001b[0m\u001b[0;34m)\u001b[0m\u001b[0;34m:\u001b[0m\u001b[0;34m\u001b[0m\u001b[0;34m\u001b[0m\u001b[0m\n\u001b[0;32m--> 404\u001b[0;31m                 \u001b[0moutput\u001b[0m \u001b[0;34m=\u001b[0m \u001b[0mself\u001b[0m\u001b[0;34m.\u001b[0m\u001b[0m_compute\u001b[0m\u001b[0;34m(\u001b[0m\u001b[0mpredictions\u001b[0m\u001b[0;34m=\u001b[0m\u001b[0mpredictions\u001b[0m\u001b[0;34m,\u001b[0m \u001b[0mreferences\u001b[0m\u001b[0;34m=\u001b[0m\u001b[0mreferences\u001b[0m\u001b[0;34m,\u001b[0m \u001b[0;34m**\u001b[0m\u001b[0mkwargs\u001b[0m\u001b[0;34m)\u001b[0m\u001b[0;34m\u001b[0m\u001b[0;34m\u001b[0m\u001b[0m\n\u001b[0m\u001b[1;32m    405\u001b[0m \u001b[0;34m\u001b[0m\u001b[0m\n\u001b[1;32m    406\u001b[0m             \u001b[0;32mif\u001b[0m \u001b[0mself\u001b[0m\u001b[0;34m.\u001b[0m\u001b[0mbuf_writer\u001b[0m \u001b[0;32mis\u001b[0m \u001b[0;32mnot\u001b[0m \u001b[0;32mNone\u001b[0m\u001b[0;34m:\u001b[0m\u001b[0;34m\u001b[0m\u001b[0;34m\u001b[0m\u001b[0m\n",
      "\u001b[0;32m~/.cache/huggingface/modules/datasets_modules/metrics/rouge/2b73d5eb463209373e9d21a95decb226d4164bdca4c361b8dfad295ec82bc62e/rouge.py\u001b[0m in \u001b[0;36m_compute\u001b[0;34m(self, predictions, references, rouge_types, use_agregator, use_stemmer)\u001b[0m\n\u001b[1;32m    116\u001b[0m \u001b[0;34m\u001b[0m\u001b[0m\n\u001b[1;32m    117\u001b[0m         \u001b[0;32mfor\u001b[0m \u001b[0mref\u001b[0m\u001b[0;34m,\u001b[0m \u001b[0mpred\u001b[0m \u001b[0;32min\u001b[0m \u001b[0mzip\u001b[0m\u001b[0;34m(\u001b[0m\u001b[0mreferences\u001b[0m\u001b[0;34m,\u001b[0m \u001b[0mpredictions\u001b[0m\u001b[0;34m)\u001b[0m\u001b[0;34m:\u001b[0m\u001b[0;34m\u001b[0m\u001b[0;34m\u001b[0m\u001b[0m\n\u001b[0;32m--> 118\u001b[0;31m             \u001b[0mscore\u001b[0m \u001b[0;34m=\u001b[0m \u001b[0mscorer\u001b[0m\u001b[0;34m.\u001b[0m\u001b[0mscore\u001b[0m\u001b[0;34m(\u001b[0m\u001b[0mref\u001b[0m\u001b[0;34m,\u001b[0m \u001b[0mpred\u001b[0m\u001b[0;34m)\u001b[0m\u001b[0;34m\u001b[0m\u001b[0;34m\u001b[0m\u001b[0m\n\u001b[0m\u001b[1;32m    119\u001b[0m             \u001b[0;32mif\u001b[0m \u001b[0muse_agregator\u001b[0m\u001b[0;34m:\u001b[0m\u001b[0;34m\u001b[0m\u001b[0;34m\u001b[0m\u001b[0m\n\u001b[1;32m    120\u001b[0m                 \u001b[0maggregator\u001b[0m\u001b[0;34m.\u001b[0m\u001b[0madd_scores\u001b[0m\u001b[0;34m(\u001b[0m\u001b[0mscore\u001b[0m\u001b[0;34m)\u001b[0m\u001b[0;34m\u001b[0m\u001b[0;34m\u001b[0m\u001b[0m\n",
      "\u001b[0;32m~/Documents/csci-544-project/.jupyter-venv/lib/python3.8/site-packages/rouge_score/rouge_scorer.py\u001b[0m in \u001b[0;36mscore\u001b[0;34m(self, target, prediction)\u001b[0m\n\u001b[1;32m     93\u001b[0m       \u001b[0;32mif\u001b[0m \u001b[0mrouge_type\u001b[0m \u001b[0;34m==\u001b[0m \u001b[0;34m\"rougeL\"\u001b[0m\u001b[0;34m:\u001b[0m\u001b[0;34m\u001b[0m\u001b[0;34m\u001b[0m\u001b[0m\n\u001b[1;32m     94\u001b[0m         \u001b[0;31m# Rouge from longest common subsequences.\u001b[0m\u001b[0;34m\u001b[0m\u001b[0;34m\u001b[0m\u001b[0;34m\u001b[0m\u001b[0m\n\u001b[0;32m---> 95\u001b[0;31m         \u001b[0mscores\u001b[0m \u001b[0;34m=\u001b[0m \u001b[0m_score_lcs\u001b[0m\u001b[0;34m(\u001b[0m\u001b[0mtarget_tokens\u001b[0m\u001b[0;34m,\u001b[0m \u001b[0mprediction_tokens\u001b[0m\u001b[0;34m)\u001b[0m\u001b[0;34m\u001b[0m\u001b[0;34m\u001b[0m\u001b[0m\n\u001b[0m\u001b[1;32m     96\u001b[0m       \u001b[0;32melif\u001b[0m \u001b[0mrouge_type\u001b[0m \u001b[0;34m==\u001b[0m \u001b[0;34m\"rougeLsum\"\u001b[0m\u001b[0;34m:\u001b[0m\u001b[0;34m\u001b[0m\u001b[0;34m\u001b[0m\u001b[0m\n\u001b[1;32m     97\u001b[0m         \u001b[0;31m# Note: Does not support multi-line text.\u001b[0m\u001b[0;34m\u001b[0m\u001b[0;34m\u001b[0m\u001b[0;34m\u001b[0m\u001b[0m\n",
      "\u001b[0;32m~/Documents/csci-544-project/.jupyter-venv/lib/python3.8/site-packages/rouge_score/rouge_scorer.py\u001b[0m in \u001b[0;36m_score_lcs\u001b[0;34m(target_tokens, prediction_tokens)\u001b[0m\n\u001b[1;32m    153\u001b[0m \u001b[0;34m\u001b[0m\u001b[0m\n\u001b[1;32m    154\u001b[0m   \u001b[0;31m# Compute length of LCS from the bottom up in a table (DP appproach).\u001b[0m\u001b[0;34m\u001b[0m\u001b[0;34m\u001b[0m\u001b[0;34m\u001b[0m\u001b[0m\n\u001b[0;32m--> 155\u001b[0;31m   \u001b[0mlcs_table\u001b[0m \u001b[0;34m=\u001b[0m \u001b[0m_lcs_table\u001b[0m\u001b[0;34m(\u001b[0m\u001b[0mtarget_tokens\u001b[0m\u001b[0;34m,\u001b[0m \u001b[0mprediction_tokens\u001b[0m\u001b[0;34m)\u001b[0m\u001b[0;34m\u001b[0m\u001b[0;34m\u001b[0m\u001b[0m\n\u001b[0m\u001b[1;32m    156\u001b[0m   \u001b[0mlcs_length\u001b[0m \u001b[0;34m=\u001b[0m \u001b[0mlcs_table\u001b[0m\u001b[0;34m[\u001b[0m\u001b[0;34m-\u001b[0m\u001b[0;36m1\u001b[0m\u001b[0;34m]\u001b[0m\u001b[0;34m[\u001b[0m\u001b[0;34m-\u001b[0m\u001b[0;36m1\u001b[0m\u001b[0;34m]\u001b[0m\u001b[0;34m\u001b[0m\u001b[0;34m\u001b[0m\u001b[0m\n\u001b[1;32m    157\u001b[0m \u001b[0;34m\u001b[0m\u001b[0m\n",
      "\u001b[0;32m~/Documents/csci-544-project/.jupyter-venv/lib/python3.8/site-packages/rouge_score/rouge_scorer.py\u001b[0m in \u001b[0;36m_lcs_table\u001b[0;34m(ref, can)\u001b[0m\n\u001b[1;32m    173\u001b[0m         \u001b[0mlcs_table\u001b[0m\u001b[0;34m[\u001b[0m\u001b[0mi\u001b[0m\u001b[0;34m]\u001b[0m\u001b[0;34m[\u001b[0m\u001b[0mj\u001b[0m\u001b[0;34m]\u001b[0m \u001b[0;34m=\u001b[0m \u001b[0mlcs_table\u001b[0m\u001b[0;34m[\u001b[0m\u001b[0mi\u001b[0m \u001b[0;34m-\u001b[0m \u001b[0;36m1\u001b[0m\u001b[0;34m]\u001b[0m\u001b[0;34m[\u001b[0m\u001b[0mj\u001b[0m \u001b[0;34m-\u001b[0m \u001b[0;36m1\u001b[0m\u001b[0;34m]\u001b[0m \u001b[0;34m+\u001b[0m \u001b[0;36m1\u001b[0m\u001b[0;34m\u001b[0m\u001b[0;34m\u001b[0m\u001b[0m\n\u001b[1;32m    174\u001b[0m       \u001b[0;32melse\u001b[0m\u001b[0;34m:\u001b[0m\u001b[0;34m\u001b[0m\u001b[0;34m\u001b[0m\u001b[0m\n\u001b[0;32m--> 175\u001b[0;31m         \u001b[0mlcs_table\u001b[0m\u001b[0;34m[\u001b[0m\u001b[0mi\u001b[0m\u001b[0;34m]\u001b[0m\u001b[0;34m[\u001b[0m\u001b[0mj\u001b[0m\u001b[0;34m]\u001b[0m \u001b[0;34m=\u001b[0m \u001b[0mmax\u001b[0m\u001b[0;34m(\u001b[0m\u001b[0mlcs_table\u001b[0m\u001b[0;34m[\u001b[0m\u001b[0mi\u001b[0m \u001b[0;34m-\u001b[0m \u001b[0;36m1\u001b[0m\u001b[0;34m]\u001b[0m\u001b[0;34m[\u001b[0m\u001b[0mj\u001b[0m\u001b[0;34m]\u001b[0m\u001b[0;34m,\u001b[0m \u001b[0mlcs_table\u001b[0m\u001b[0;34m[\u001b[0m\u001b[0mi\u001b[0m\u001b[0;34m]\u001b[0m\u001b[0;34m[\u001b[0m\u001b[0mj\u001b[0m \u001b[0;34m-\u001b[0m \u001b[0;36m1\u001b[0m\u001b[0;34m]\u001b[0m\u001b[0;34m)\u001b[0m\u001b[0;34m\u001b[0m\u001b[0;34m\u001b[0m\u001b[0m\n\u001b[0m\u001b[1;32m    176\u001b[0m   \u001b[0;32mreturn\u001b[0m \u001b[0mlcs_table\u001b[0m\u001b[0;34m\u001b[0m\u001b[0;34m\u001b[0m\u001b[0m\n\u001b[1;32m    177\u001b[0m \u001b[0;34m\u001b[0m\u001b[0m\n",
      "\u001b[0;31mKeyboardInterrupt\u001b[0m: "
     ]
    }
   ],
   "source": [
    "metric.compute(predictions=df_comp['predictions_joined'].to_list(), references=df_comp['references_joined'].to_list())"
   ]
  },
  {
   "cell_type": "code",
   "execution_count": 16,
   "id": "4f681126-e1d9-4033-957a-a42effc4f1a0",
   "metadata": {},
   "outputs": [],
   "source": [
    "df_comp.to_pickle('output/extraction-pubmed.pkl')"
   ]
  },
  {
   "cell_type": "code",
   "execution_count": null,
   "id": "0c1d61b7-9a66-422f-a42f-3054062efdbb",
   "metadata": {},
   "outputs": [],
   "source": []
  }
 ],
 "metadata": {
  "kernelspec": {
   "display_name": "Python 3.8 (csci-544-project)",
   "language": "python",
   "name": "csci-544-project"
  },
  "language_info": {
   "codemirror_mode": {
    "name": "ipython",
    "version": 3
   },
   "file_extension": ".py",
   "mimetype": "text/x-python",
   "name": "python",
   "nbconvert_exporter": "python",
   "pygments_lexer": "ipython3",
   "version": "3.8.10"
  }
 },
 "nbformat": 4,
 "nbformat_minor": 5
}
