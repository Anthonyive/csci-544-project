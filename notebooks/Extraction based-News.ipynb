{
 "cells": [
  {
   "cell_type": "markdown",
   "id": "738af94f-13df-4a43-bfa6-62c6fbad05c0",
   "metadata": {},
   "source": [
    "# Extractive Baseline\n",
    "\n",
    "Data: PubMed"
   ]
  },
  {
   "cell_type": "code",
   "execution_count": 1,
   "id": "0d60ba08-098f-4633-972c-d7a8ae787419",
   "metadata": {},
   "outputs": [],
   "source": [
    "import gdown\n",
    "import json\n",
    "import numpy as np\n",
    "import pandas as pd\n",
    "from nltk.corpus import stopwords\n",
    "from nltk.tokenize import word_tokenize, sent_tokenize\n",
    "from tqdm.auto import tqdm\n",
    "tqdm.pandas()\n",
    "from datasets import load_metric\n",
    "metric = load_metric(\"rouge\")"
   ]
  },
  {
   "cell_type": "code",
   "execution_count": 2,
   "id": "6f2594d2-4919-48df-978b-05d8ef783a82",
   "metadata": {},
   "outputs": [
    {
     "data": {
      "text/html": [
       "<div>\n",
       "<style scoped>\n",
       "    .dataframe tbody tr th:only-of-type {\n",
       "        vertical-align: middle;\n",
       "    }\n",
       "\n",
       "    .dataframe tbody tr th {\n",
       "        vertical-align: top;\n",
       "    }\n",
       "\n",
       "    .dataframe thead th {\n",
       "        text-align: right;\n",
       "    }\n",
       "</style>\n",
       "<table border=\"1\" class=\"dataframe\">\n",
       "  <thead>\n",
       "    <tr style=\"text-align: right;\">\n",
       "      <th></th>\n",
       "      <th>headlines</th>\n",
       "      <th>text</th>\n",
       "    </tr>\n",
       "  </thead>\n",
       "  <tbody>\n",
       "    <tr>\n",
       "      <th>0</th>\n",
       "      <td>upGrad learner switches to career in ML &amp; Al w...</td>\n",
       "      <td>Saurav Kant, an alumnus of upGrad and IIIT-B's...</td>\n",
       "    </tr>\n",
       "    <tr>\n",
       "      <th>1</th>\n",
       "      <td>Delhi techie wins free food from Swiggy for on...</td>\n",
       "      <td>Kunal Shah's credit card bill payment platform...</td>\n",
       "    </tr>\n",
       "    <tr>\n",
       "      <th>2</th>\n",
       "      <td>New Zealand end Rohit Sharma-led India's 12-ma...</td>\n",
       "      <td>New Zealand defeated India by 8 wickets in the...</td>\n",
       "    </tr>\n",
       "    <tr>\n",
       "      <th>3</th>\n",
       "      <td>Aegon life iTerm insurance plan helps customer...</td>\n",
       "      <td>With Aegon Life iTerm Insurance plan, customer...</td>\n",
       "    </tr>\n",
       "    <tr>\n",
       "      <th>4</th>\n",
       "      <td>Have known Hirani for yrs, what if MeToo claim...</td>\n",
       "      <td>Speaking about the sexual harassment allegatio...</td>\n",
       "    </tr>\n",
       "  </tbody>\n",
       "</table>\n",
       "</div>"
      ],
      "text/plain": [
       "                                           headlines  \\\n",
       "0  upGrad learner switches to career in ML & Al w...   \n",
       "1  Delhi techie wins free food from Swiggy for on...   \n",
       "2  New Zealand end Rohit Sharma-led India's 12-ma...   \n",
       "3  Aegon life iTerm insurance plan helps customer...   \n",
       "4  Have known Hirani for yrs, what if MeToo claim...   \n",
       "\n",
       "                                                text  \n",
       "0  Saurav Kant, an alumnus of upGrad and IIIT-B's...  \n",
       "1  Kunal Shah's credit card bill payment platform...  \n",
       "2  New Zealand defeated India by 8 wickets in the...  \n",
       "3  With Aegon Life iTerm Insurance plan, customer...  \n",
       "4  Speaking about the sexual harassment allegatio...  "
      ]
     },
     "execution_count": 2,
     "metadata": {},
     "output_type": "execute_result"
    }
   ],
   "source": [
    "df = pd.read_csv('../csci-544-project/data/news_summary_more.csv', encoding='latin-1')\n",
    "df.head()"
   ]
  },
  {
   "cell_type": "code",
   "execution_count": 3,
   "id": "23c5000a-4ee2-46df-839f-7c9ea72465c5",
   "metadata": {},
   "outputs": [],
   "source": [
    "def extractive_apply(row):\n",
    "    # print(row['article_id'])\n",
    "    sentences = sent_tokenize(row['text'])\n",
    "    summary_sentences = sent_tokenize(row['headlines'])\n",
    "\n",
    "    if not sentences or not sentences[0]:\n",
    "        return np.nan\n",
    "    elif len(sentences) < len(summary_sentences):\n",
    "        return np.nan\n",
    "    \n",
    "    \n",
    "    text = ' '.join(sentences)\n",
    "    stopWords = set(stopwords.words('english'))\n",
    "    words = word_tokenize(text)\n",
    "    target_len = len(summary_sentences)\n",
    "    \n",
    "    freqTable = dict()\n",
    "    for word in words:\n",
    "        word = word.lower()\n",
    "        if word in stopWords:\n",
    "            continue\n",
    "        if word in freqTable:\n",
    "            freqTable[word] += 1\n",
    "        else:\n",
    "            freqTable[word] = 1\n",
    "            \n",
    "    sentenceValue = dict()\n",
    "    for sentence in sentences:\n",
    "        for word, freq in freqTable.items():\n",
    "            if word in sentence.lower():\n",
    "                if sentence in sentenceValue:\n",
    "                    sentenceValue[sentence] += freq\n",
    "                else:\n",
    "                    sentenceValue[sentence] = freq\n",
    "    # print(len(sentences))\n",
    "    # print(sentenceValue.values())\n",
    "    try:\n",
    "        min_val = sorted(sentenceValue.values(), reverse=True)[target_len-1]\n",
    "    except IndexError: # this case # of sentenceValue < # of sentences, so just leave it 0\n",
    "        return np.nan\n",
    "    \n",
    "    summary = []\n",
    "    for sentence in sentences:\n",
    "        if len(summary) == target_len:\n",
    "            break\n",
    "        if (sentence in sentenceValue) and (sentenceValue[sentence] >= min_val):\n",
    "            if '<S> '+ sentence + ' </S>' not in summary:\n",
    "                summary += ['<S> '+ sentence + ' </S>']\n",
    "            \n",
    "    assert len(summary) == target_len, f\"summary_len={len(summary)}, target_len={target_len}\"\n",
    "    \n",
    "    return summary"
   ]
  },
  {
   "cell_type": "code",
   "execution_count": 4,
   "id": "0808c7bd-2639-4eb7-b922-59ca4caec4bd",
   "metadata": {},
   "outputs": [
    {
     "data": {
      "text/plain": [
       "headlines    New Zealand end Rohit Sharma-led India's 12-ma...\n",
       "text         New Zealand defeated India by 8 wickets in the...\n",
       "Name: 2, dtype: object"
      ]
     },
     "execution_count": 4,
     "metadata": {},
     "output_type": "execute_result"
    }
   ],
   "source": [
    "df.iloc[2]"
   ]
  },
  {
   "cell_type": "code",
   "execution_count": 5,
   "id": "6a87f6f8-33e3-4ecb-8798-c4a4d8e5dcf1",
   "metadata": {
    "tags": []
   },
   "outputs": [
    {
     "data": {
      "application/vnd.jupyter.widget-view+json": {
       "model_id": "d30920d73e104ec0ab59dd411573ec8a",
       "version_major": 2,
       "version_minor": 0
      },
      "text/plain": [
       "  0%|          | 0/98401 [00:00<?, ?it/s]"
      ]
     },
     "metadata": {},
     "output_type": "display_data"
    }
   ],
   "source": [
    "extractive_summaries = df.progress_apply(extractive_apply, axis=1)"
   ]
  },
  {
   "cell_type": "code",
   "execution_count": 6,
   "id": "3f7dbd19-8be6-435a-bef6-464990cf5341",
   "metadata": {},
   "outputs": [],
   "source": [
    "na_idx = extractive_summaries[extractive_summaries.isnull()].index"
   ]
  },
  {
   "cell_type": "code",
   "execution_count": 7,
   "id": "5820b6f1-9d70-4e4a-a840-3080e9388b0a",
   "metadata": {},
   "outputs": [],
   "source": [
    "df_comp = pd.DataFrame()\n",
    "df_comp['predictions'] = extractive_summaries[~extractive_summaries.index.isin(na_idx)]\n",
    "df_comp['references'] = df['headlines'][~df.index.isin(na_idx)]"
   ]
  },
  {
   "cell_type": "code",
   "execution_count": 8,
   "id": "7942f406-9503-4c77-800d-d4b63a98da6d",
   "metadata": {},
   "outputs": [
    {
     "data": {
      "text/html": [
       "<div>\n",
       "<style scoped>\n",
       "    .dataframe tbody tr th:only-of-type {\n",
       "        vertical-align: middle;\n",
       "    }\n",
       "\n",
       "    .dataframe tbody tr th {\n",
       "        vertical-align: top;\n",
       "    }\n",
       "\n",
       "    .dataframe thead th {\n",
       "        text-align: right;\n",
       "    }\n",
       "</style>\n",
       "<table border=\"1\" class=\"dataframe\">\n",
       "  <thead>\n",
       "    <tr style=\"text-align: right;\">\n",
       "      <th></th>\n",
       "      <th>predictions</th>\n",
       "      <th>references</th>\n",
       "    </tr>\n",
       "  </thead>\n",
       "  <tbody>\n",
       "    <tr>\n",
       "      <th>0</th>\n",
       "      <td>[&lt;S&gt; Saurav Kant, an alumnus of upGrad and III...</td>\n",
       "      <td>upGrad learner switches to career in ML &amp; Al w...</td>\n",
       "    </tr>\n",
       "    <tr>\n",
       "      <th>1</th>\n",
       "      <td>[&lt;S&gt; Users get one CRED coin per rupee of bill...</td>\n",
       "      <td>Delhi techie wins free food from Swiggy for on...</td>\n",
       "    </tr>\n",
       "    <tr>\n",
       "      <th>2</th>\n",
       "      <td>[&lt;S&gt; New Zealand defeated India by 8 wickets i...</td>\n",
       "      <td>New Zealand end Rohit Sharma-led India's 12-ma...</td>\n",
       "    </tr>\n",
       "    <tr>\n",
       "      <th>3</th>\n",
       "      <td>[&lt;S&gt; Also, customers have options to insure ag...</td>\n",
       "      <td>Aegon life iTerm insurance plan helps customer...</td>\n",
       "    </tr>\n",
       "    <tr>\n",
       "      <th>4</th>\n",
       "      <td>[&lt;S&gt; Speaking about the sexual harassment alle...</td>\n",
       "      <td>Have known Hirani for yrs, what if MeToo claim...</td>\n",
       "    </tr>\n",
       "    <tr>\n",
       "      <th>...</th>\n",
       "      <td>...</td>\n",
       "      <td>...</td>\n",
       "    </tr>\n",
       "    <tr>\n",
       "      <th>98396</th>\n",
       "      <td>[&lt;S&gt; As per preliminary information, Maoists a...</td>\n",
       "      <td>CRPF jawan axed to death by Maoists in Chhatti...</td>\n",
       "    </tr>\n",
       "    <tr>\n",
       "      <th>98397</th>\n",
       "      <td>[&lt;S&gt; 'Uff Yeh', the first song from the Sonaks...</td>\n",
       "      <td>First song from Sonakshi Sinha's 'Noor' titled...</td>\n",
       "    </tr>\n",
       "    <tr>\n",
       "      <th>98398</th>\n",
       "      <td>[&lt;S&gt; According to reports, a new version of th...</td>\n",
       "      <td>'The Matrix' film to get a reboot: Reports</td>\n",
       "    </tr>\n",
       "    <tr>\n",
       "      <th>98399</th>\n",
       "      <td>[&lt;S&gt; The video also shows a TV airing a news c...</td>\n",
       "      <td>Snoop Dogg aims gun at clown dressed as Trump ...</td>\n",
       "    </tr>\n",
       "    <tr>\n",
       "      <th>98400</th>\n",
       "      <td>[&lt;S&gt; Madhesi Morcha, an alliance of seven poli...</td>\n",
       "      <td>Madhesi Morcha withdraws support to Nepalese g...</td>\n",
       "    </tr>\n",
       "  </tbody>\n",
       "</table>\n",
       "<p>98397 rows × 2 columns</p>\n",
       "</div>"
      ],
      "text/plain": [
       "                                             predictions  \\\n",
       "0      [<S> Saurav Kant, an alumnus of upGrad and III...   \n",
       "1      [<S> Users get one CRED coin per rupee of bill...   \n",
       "2      [<S> New Zealand defeated India by 8 wickets i...   \n",
       "3      [<S> Also, customers have options to insure ag...   \n",
       "4      [<S> Speaking about the sexual harassment alle...   \n",
       "...                                                  ...   \n",
       "98396  [<S> As per preliminary information, Maoists a...   \n",
       "98397  [<S> 'Uff Yeh', the first song from the Sonaks...   \n",
       "98398  [<S> According to reports, a new version of th...   \n",
       "98399  [<S> The video also shows a TV airing a news c...   \n",
       "98400  [<S> Madhesi Morcha, an alliance of seven poli...   \n",
       "\n",
       "                                              references  \n",
       "0      upGrad learner switches to career in ML & Al w...  \n",
       "1      Delhi techie wins free food from Swiggy for on...  \n",
       "2      New Zealand end Rohit Sharma-led India's 12-ma...  \n",
       "3      Aegon life iTerm insurance plan helps customer...  \n",
       "4      Have known Hirani for yrs, what if MeToo claim...  \n",
       "...                                                  ...  \n",
       "98396  CRPF jawan axed to death by Maoists in Chhatti...  \n",
       "98397  First song from Sonakshi Sinha's 'Noor' titled...  \n",
       "98398         'The Matrix' film to get a reboot: Reports  \n",
       "98399  Snoop Dogg aims gun at clown dressed as Trump ...  \n",
       "98400  Madhesi Morcha withdraws support to Nepalese g...  \n",
       "\n",
       "[98397 rows x 2 columns]"
      ]
     },
     "execution_count": 8,
     "metadata": {},
     "output_type": "execute_result"
    }
   ],
   "source": [
    "df_comp"
   ]
  },
  {
   "cell_type": "code",
   "execution_count": 9,
   "id": "b686623b-6d9a-4a9f-b28f-d24bdbe6f422",
   "metadata": {},
   "outputs": [],
   "source": [
    "def join_sent_apply(row):\n",
    "    pred_sents = list(map(lambda x: x[4:-4], row['predictions']))\n",
    "    return ''.join(pred_sents), row['references']"
   ]
  },
  {
   "cell_type": "code",
   "execution_count": 10,
   "id": "625ef54f-792d-4e39-995a-b646cbcabf52",
   "metadata": {},
   "outputs": [
    {
     "data": {
      "application/vnd.jupyter.widget-view+json": {
       "model_id": "bb4d7b2973264319b02aa3abd61b94ad",
       "version_major": 2,
       "version_minor": 0
      },
      "text/plain": [
       "  0%|          | 0/98397 [00:00<?, ?it/s]"
      ]
     },
     "metadata": {},
     "output_type": "display_data"
    }
   ],
   "source": [
    "df_comp['predictions_joined'], df_comp['references_joined'] = zip(*df_comp.progress_apply(join_sent_apply, axis=1))"
   ]
  },
  {
   "cell_type": "code",
   "execution_count": 13,
   "id": "c8f92d69-dad3-4aee-84c2-99e9607af78d",
   "metadata": {},
   "outputs": [],
   "source": [
    "df_comp.to_pickle('output/extraction-news.pkl')"
   ]
  },
  {
   "cell_type": "code",
   "execution_count": 12,
   "id": "0e4e01f4-8a15-454c-8855-01149146ae85",
   "metadata": {},
   "outputs": [
    {
     "data": {
      "text/plain": [
       "{'rouge1': AggregateScore(low=Score(precision=0.21776343610935106, recall=0.5862797360228751, fmeasure=0.314407219386756), mid=Score(precision=0.21844842987437374, recall=0.5879668743116022, fmeasure=0.3153243359918708), high=Score(precision=0.2191383002443954, recall=0.5895324458572432, fmeasure=0.31624524484732414)),\n",
       " 'rouge2': AggregateScore(low=Score(precision=0.0865993869630295, recall=0.24549666133952514, fmeasure=0.12663054994807632), mid=Score(precision=0.08716613853182378, recall=0.246945718144775, fmeasure=0.12742833686344712), high=Score(precision=0.08760164938922263, recall=0.24817676803616742, fmeasure=0.12804766635390682)),\n",
       " 'rougeL': AggregateScore(low=Score(precision=0.1828095969111098, recall=0.4906118779088201, fmeasure=0.2636874269534128), mid=Score(precision=0.18342449487414403, recall=0.4921718048698779, fmeasure=0.2645352723115651), high=Score(precision=0.18398709458881735, recall=0.4935784267154839, fmeasure=0.26532149016034295)),\n",
       " 'rougeLsum': AggregateScore(low=Score(precision=0.18272474662207108, recall=0.490658535525499, fmeasure=0.2635987024294951), mid=Score(precision=0.18344115546179574, recall=0.4922546124102186, fmeasure=0.2645764025540217), high=Score(precision=0.18410053964347517, recall=0.493814651447477, fmeasure=0.26545476108247035))}"
      ]
     },
     "execution_count": 12,
     "metadata": {},
     "output_type": "execute_result"
    }
   ],
   "source": [
    "metric.compute(predictions=df_comp['predictions_joined'].to_list(), references=df_comp['references_joined'].to_list())"
   ]
  },
  {
   "cell_type": "code",
   "execution_count": null,
   "id": "4f681126-e1d9-4033-957a-a42effc4f1a0",
   "metadata": {},
   "outputs": [],
   "source": []
  }
 ],
 "metadata": {
  "kernelspec": {
   "display_name": "Python 3.8 (csci-544-project)",
   "language": "python",
   "name": "csci-544-project"
  },
  "language_info": {
   "codemirror_mode": {
    "name": "ipython",
    "version": 3
   },
   "file_extension": ".py",
   "mimetype": "text/x-python",
   "name": "python",
   "nbconvert_exporter": "python",
   "pygments_lexer": "ipython3",
   "version": "3.8.10"
  }
 },
 "nbformat": 4,
 "nbformat_minor": 5
}
