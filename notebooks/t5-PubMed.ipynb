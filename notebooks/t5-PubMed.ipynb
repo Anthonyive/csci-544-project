{
 "cells": [
  {
   "cell_type": "markdown",
   "id": "26906688-0fe2-4451-9060-1be3bda61176",
   "metadata": {},
   "source": [
    "# Summarization Baseline using Google T5\n",
    "\n",
    "Data: PubMed"
   ]
  },
  {
   "cell_type": "code",
   "execution_count": 17,
   "id": "37bfd86e-b576-4d94-9568-df7c88dfe0ab",
   "metadata": {},
   "outputs": [],
   "source": [
    "import gdown\n",
    "import json\n",
    "import pandas as pd"
   ]
  },
  {
   "cell_type": "code",
   "execution_count": 9,
   "id": "cdebd644-fd9c-4413-9302-2fac6fc63a4c",
   "metadata": {},
   "outputs": [
    {
     "name": "stderr",
     "output_type": "stream",
     "text": [
      "Downloading...\n",
      "From: https://drive.google.com/u/0/uc?export=download&confirm=OaU2&id=1lvsqvsFi3W-pE1SqNZI0s8NR9rC1tsja\n",
      "To: /home/anthony/Documents/csci-544-project/csci-544-project/data/pubmed-dataset.zip\n",
      "100%|████████████████████████████████████████| 880M/880M [00:17<00:00, 51.3MB/s]\n"
     ]
    },
    {
     "data": {
      "text/plain": [
       "'../csci-544-project/data/pubmed-dataset.zip'"
      ]
     },
     "execution_count": 9,
     "metadata": {},
     "output_type": "execute_result"
    }
   ],
   "source": [
    "url = 'https://drive.google.com/u/0/uc?export=download&confirm=OaU2&id=1lvsqvsFi3W-pE1SqNZI0s8NR9rC1tsja'\n",
    "output = '../csci-544-project/data/pubmed-dataset.zip'\n",
    "gdown.download(url, output, quiet=False)"
   ]
  },
  {
   "cell_type": "code",
   "execution_count": 10,
   "id": "89aeee46-24f0-466f-b6c4-28b8d16eac73",
   "metadata": {},
   "outputs": [
    {
     "data": {
      "text/plain": [
       "['../csci-544-project/data/pubmed-dataset/',\n",
       " '../csci-544-project/data/__MACOSX/._pubmed-dataset',\n",
       " '../csci-544-project/data/pubmed-dataset/train.txt',\n",
       " '../csci-544-project/data/__MACOSX/pubmed-dataset/._train.txt',\n",
       " '../csci-544-project/data/pubmed-dataset/vocab',\n",
       " '../csci-544-project/data/__MACOSX/pubmed-dataset/._vocab',\n",
       " '../csci-544-project/data/pubmed-dataset/test.txt',\n",
       " '../csci-544-project/data/__MACOSX/pubmed-dataset/._test.txt',\n",
       " '../csci-544-project/data/pubmed-dataset/val.txt',\n",
       " '../csci-544-project/data/__MACOSX/pubmed-dataset/._val.txt']"
      ]
     },
     "execution_count": 10,
     "metadata": {},
     "output_type": "execute_result"
    }
   ],
   "source": [
    "gdown.extractall(output)"
   ]
  },
  {
   "cell_type": "code",
   "execution_count": 22,
   "id": "4078b191-97cb-4c64-bc55-4fad7c3d1688",
   "metadata": {},
   "outputs": [],
   "source": [
    "def read_pubmed(path: str) -> pd.DataFrame:\n",
    "    with open(path, 'r') as json_file:\n",
    "        json_list = list(json_file)\n",
    "\n",
    "    # read jsonl\n",
    "    result = [json.loads(json_str) for json_str in json_list]\n",
    "\n",
    "    return pd.DataFrame(result)"
   ]
  },
  {
   "cell_type": "code",
   "execution_count": 24,
   "id": "6a8d5df3-f93d-493b-8554-86a4c114f284",
   "metadata": {},
   "outputs": [],
   "source": [
    "df_train = read_pubmed('../csci-544-project/data/pubmed-dataset/train.txt')\n",
    "df_test = read_pubmed('../csci-544-project/data/pubmed-dataset/test.txt')\n",
    "df_val = read_pubmed('../csci-544-project/data/pubmed-dataset/val.txt')"
   ]
  },
  {
   "cell_type": "code",
   "execution_count": 29,
   "id": "a1c06ea5-7575-4be4-ac3b-e43e210447eb",
   "metadata": {},
   "outputs": [
    {
     "data": {
      "text/plain": [
       "['<S> background : the present study was carried out to assess the effects of community nutrition intervention based on advocacy approach on malnutrition status among school - aged children in shiraz , iran.materials and methods : this case - control nutritional intervention has been done between 2008 and 2009 on 2897 primary and secondary school boys and girls ( 7 - 13 years old ) based on advocacy approach in shiraz , iran . </S>',\n",
       " '<S> the project provided nutritious snacks in public schools over a 2-year period along with advocacy oriented actions in order to implement and promote nutritional intervention . for evaluation of effectiveness of the intervention growth monitoring indices of pre- and post - intervention were statistically compared.results:the frequency of subjects with body mass index lower than 5% decreased significantly after intervention among girls ( p = 0.02 ) . </S>',\n",
       " '<S> however , there were no significant changes among boys or total population . </S>',\n",
       " '<S> the mean of all anthropometric indices changed significantly after intervention both among girls and boys as well as in total population . </S>',\n",
       " \"<S> the pre- and post - test education assessment in both groups showed that the student 's average knowledge score has been significantly increased from 12.5  3.2 to 16.8  4.3 ( p < 0.0001).conclusion : this study demonstrates the potential success and scalability of school feeding programs in iran . </S>\",\n",
       " '<S> community nutrition intervention based on the advocacy process model is effective on reducing the prevalence of underweight specifically among female school aged children . </S>']"
      ]
     },
     "execution_count": 29,
     "metadata": {},
     "output_type": "execute_result"
    }
   ],
   "source": [
    "df_train.iloc[0,2]"
   ]
  },
  {
   "cell_type": "code",
   "execution_count": null,
   "id": "6e996ebe-b925-4fd7-8f05-7b8cc0375032",
   "metadata": {},
   "outputs": [],
   "source": []
  },
  {
   "cell_type": "code",
   "execution_count": null,
   "id": "898f55d7-5bc4-4c7b-96dd-4e3fdcbd2baa",
   "metadata": {},
   "outputs": [],
   "source": []
  }
 ],
 "metadata": {
  "kernelspec": {
   "display_name": "Python 3.8 (csci-544-project)",
   "language": "python",
   "name": "csci-544-project"
  },
  "language_info": {
   "codemirror_mode": {
    "name": "ipython",
    "version": 3
   },
   "file_extension": ".py",
   "mimetype": "text/x-python",
   "name": "python",
   "nbconvert_exporter": "python",
   "pygments_lexer": "ipython3",
   "version": "3.8.10"
  }
 },
 "nbformat": 4,
 "nbformat_minor": 5
}
