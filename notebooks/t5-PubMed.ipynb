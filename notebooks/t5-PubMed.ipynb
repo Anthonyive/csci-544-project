{
 "cells": [
  {
   "cell_type": "markdown",
   "id": "26906688-0fe2-4451-9060-1be3bda61176",
   "metadata": {},
   "source": [
    "# Summarization Baseline using Google T5\n",
    "\n",
    "Data: PubMed"
   ]
  },
  {
   "cell_type": "code",
   "execution_count": 1,
   "id": "37bfd86e-b576-4d94-9568-df7c88dfe0ab",
   "metadata": {},
   "outputs": [],
   "source": [
    "import gdown\n",
    "import json\n",
    "import pandas as pd"
   ]
  },
  {
   "cell_type": "code",
   "execution_count": 2,
   "id": "cdebd644-fd9c-4413-9302-2fac6fc63a4c",
   "metadata": {},
   "outputs": [
    {
     "name": "stderr",
     "output_type": "stream",
     "text": [
      "Downloading...\n",
      "From: https://drive.google.com/u/0/uc?export=download&confirm=OaU2&id=1lvsqvsFi3W-pE1SqNZI0s8NR9rC1tsja\n",
      "To: /home/anthony/Documents/csci-544-project/csci-544-project/data/pubmed-dataset.zip\n",
      "100%|████████████████████████████████████████| 880M/880M [00:25<00:00, 34.3MB/s]\n"
     ]
    },
    {
     "data": {
      "text/plain": [
       "'../csci-544-project/data/pubmed-dataset.zip'"
      ]
     },
     "execution_count": 2,
     "metadata": {},
     "output_type": "execute_result"
    }
   ],
   "source": [
    "url = 'https://drive.google.com/u/0/uc?export=download&confirm=OaU2&id=1lvsqvsFi3W-pE1SqNZI0s8NR9rC1tsja'\n",
    "output = '../csci-544-project/data/pubmed-dataset.zip'\n",
    "gdown.download(url, output, quiet=False)"
   ]
  },
  {
   "cell_type": "code",
   "execution_count": 3,
   "id": "89aeee46-24f0-466f-b6c4-28b8d16eac73",
   "metadata": {},
   "outputs": [
    {
     "data": {
      "text/plain": [
       "['../csci-544-project/data/pubmed-dataset/',\n",
       " '../csci-544-project/data/__MACOSX/._pubmed-dataset',\n",
       " '../csci-544-project/data/pubmed-dataset/train.txt',\n",
       " '../csci-544-project/data/__MACOSX/pubmed-dataset/._train.txt',\n",
       " '../csci-544-project/data/pubmed-dataset/vocab',\n",
       " '../csci-544-project/data/__MACOSX/pubmed-dataset/._vocab',\n",
       " '../csci-544-project/data/pubmed-dataset/test.txt',\n",
       " '../csci-544-project/data/__MACOSX/pubmed-dataset/._test.txt',\n",
       " '../csci-544-project/data/pubmed-dataset/val.txt',\n",
       " '../csci-544-project/data/__MACOSX/pubmed-dataset/._val.txt']"
      ]
     },
     "execution_count": 3,
     "metadata": {},
     "output_type": "execute_result"
    }
   ],
   "source": [
    "gdown.extractall(output)"
   ]
  },
  {
   "cell_type": "code",
   "execution_count": 4,
   "id": "4078b191-97cb-4c64-bc55-4fad7c3d1688",
   "metadata": {},
   "outputs": [],
   "source": [
    "def read_pubmed(path: str) -> pd.DataFrame:\n",
    "    with open(path, 'r') as json_file:\n",
    "        json_list = list(json_file)\n",
    "\n",
    "    # read jsonl\n",
    "    result = [json.loads(json_str) for json_str in json_list]\n",
    "\n",
    "    return pd.DataFrame(result)"
   ]
  },
  {
   "cell_type": "code",
   "execution_count": 5,
   "id": "6a8d5df3-f93d-493b-8554-86a4c114f284",
   "metadata": {},
   "outputs": [],
   "source": [
    "df_train = read_pubmed('../csci-544-project/data/pubmed-dataset/train.txt')\n",
    "df_test = read_pubmed('../csci-544-project/data/pubmed-dataset/test.txt')\n",
    "df_val = read_pubmed('../csci-544-project/data/pubmed-dataset/val.txt')"
   ]
  },
  {
   "cell_type": "code",
   "execution_count": 7,
   "id": "a1c06ea5-7575-4be4-ac3b-e43e210447eb",
   "metadata": {},
   "outputs": [
    {
     "data": {
      "text/html": [
       "<div>\n",
       "<style scoped>\n",
       "    .dataframe tbody tr th:only-of-type {\n",
       "        vertical-align: middle;\n",
       "    }\n",
       "\n",
       "    .dataframe tbody tr th {\n",
       "        vertical-align: top;\n",
       "    }\n",
       "\n",
       "    .dataframe thead th {\n",
       "        text-align: right;\n",
       "    }\n",
       "</style>\n",
       "<table border=\"1\" class=\"dataframe\">\n",
       "  <thead>\n",
       "    <tr style=\"text-align: right;\">\n",
       "      <th></th>\n",
       "      <th>article_id</th>\n",
       "      <th>article_text</th>\n",
       "      <th>abstract_text</th>\n",
       "      <th>labels</th>\n",
       "      <th>section_names</th>\n",
       "      <th>sections</th>\n",
       "    </tr>\n",
       "  </thead>\n",
       "  <tbody>\n",
       "    <tr>\n",
       "      <th>0</th>\n",
       "      <td>PMC3872579</td>\n",
       "      <td>[a recent systematic analysis showed that in 2...</td>\n",
       "      <td>[&lt;S&gt; background : the present study was carrie...</td>\n",
       "      <td>None</td>\n",
       "      <td>[INTRODUCTION, MATERIALS AND METHODS, Particip...</td>\n",
       "      <td>[[a recent systematic analysis showed that in ...</td>\n",
       "    </tr>\n",
       "    <tr>\n",
       "      <th>1</th>\n",
       "      <td>PMC3770628</td>\n",
       "      <td>[it occurs in more than 50% of patients and ma...</td>\n",
       "      <td>[&lt;S&gt; backgroundanemia in patients with cancer ...</td>\n",
       "      <td>None</td>\n",
       "      <td>[Introduction, Patients and methods, Study des...</td>\n",
       "      <td>[[it occurs in more than 50% of patients and m...</td>\n",
       "    </tr>\n",
       "    <tr>\n",
       "      <th>2</th>\n",
       "      <td>PMC5330001</td>\n",
       "      <td>[tardive dystonia ( td ) , a rarer side effect...</td>\n",
       "      <td>[&lt;S&gt; tardive dystonia ( td ) is a serious side...</td>\n",
       "      <td>None</td>\n",
       "      <td>[INTRODUCTION, CASE REPORT, DISCUSSION, Declar...</td>\n",
       "      <td>[[tardive dystonia ( td ) , a rarer side effec...</td>\n",
       "    </tr>\n",
       "    <tr>\n",
       "      <th>3</th>\n",
       "      <td>PMC4386667</td>\n",
       "      <td>[lepidoptera include agricultural pests that ,...</td>\n",
       "      <td>[&lt;S&gt; many lepidopteran insects are agricultura...</td>\n",
       "      <td>None</td>\n",
       "      <td>[1. Introduction, 2. Insect Immunity, 3. Signa...</td>\n",
       "      <td>[[lepidoptera include agricultural pests that ...</td>\n",
       "    </tr>\n",
       "    <tr>\n",
       "      <th>4</th>\n",
       "      <td>PMC4307954</td>\n",
       "      <td>[syncope is caused by transient diffuse cerebr...</td>\n",
       "      <td>[&lt;S&gt; we present an unusual case of recurrent c...</td>\n",
       "      <td>None</td>\n",
       "      <td>[Introduction, Case report, Discussion, Confli...</td>\n",
       "      <td>[[syncope is caused by transient diffuse cereb...</td>\n",
       "    </tr>\n",
       "    <tr>\n",
       "      <th>...</th>\n",
       "      <td>...</td>\n",
       "      <td>...</td>\n",
       "      <td>...</td>\n",
       "      <td>...</td>\n",
       "      <td>...</td>\n",
       "      <td>...</td>\n",
       "    </tr>\n",
       "    <tr>\n",
       "      <th>119919</th>\n",
       "      <td>PMC3502213</td>\n",
       "      <td>[eukaryotic cells depend on vesicle - mediated...</td>\n",
       "      <td>[&lt;S&gt; long - distance trafficking of membranous...</td>\n",
       "      <td>None</td>\n",
       "      <td>[Introduction, Motor-Dependent Transport of Ra...</td>\n",
       "      <td>[[eukaryotic cells depend on vesicle - mediate...</td>\n",
       "    </tr>\n",
       "    <tr>\n",
       "      <th>119920</th>\n",
       "      <td>PMC3198562</td>\n",
       "      <td>[as regards the selection criteria of the post...</td>\n",
       "      <td>[&lt;S&gt; aims and objectives : to study the stress...</td>\n",
       "      <td>None</td>\n",
       "      <td>[INTRODUCTION, MATERIALS AND METHODS, Modeling...</td>\n",
       "      <td>[[fiber post systems are routinely used in res...</td>\n",
       "    </tr>\n",
       "    <tr>\n",
       "      <th>119921</th>\n",
       "      <td>PMC4436536</td>\n",
       "      <td>[in most of the peer review publications in th...</td>\n",
       "      <td>[&lt;S&gt; abstractbackgroundthe objective of this s...</td>\n",
       "      <td>None</td>\n",
       "      <td>[Introduction, Methods, Results, Discussion, L...</td>\n",
       "      <td>[[in most of the peer review publications in t...</td>\n",
       "    </tr>\n",
       "    <tr>\n",
       "      <th>119922</th>\n",
       "      <td>PMC4251613</td>\n",
       "      <td>[the reveal registry is a longitudinal registr...</td>\n",
       "      <td>[&lt;S&gt; background : patients with pulmonary arte...</td>\n",
       "      <td>None</td>\n",
       "      <td>[TRIAL REGISTRY:, Materials and Methods, REVEA...</td>\n",
       "      <td>[[], [the reveal registry is a longitudinal re...</td>\n",
       "    </tr>\n",
       "    <tr>\n",
       "      <th>119923</th>\n",
       "      <td>PMC3389695</td>\n",
       "      <td>[cerebral palsy is a nonprogressive central ne...</td>\n",
       "      <td>[&lt;S&gt; \\n objective . to determine &lt;/S&gt;, &lt;S&gt; if ...</td>\n",
       "      <td>None</td>\n",
       "      <td>[1. Introduction, 2. Method, 3. Results, 4. Di...</td>\n",
       "      <td>[[cerebral palsy is a nonprogressive central n...</td>\n",
       "    </tr>\n",
       "  </tbody>\n",
       "</table>\n",
       "<p>119924 rows × 6 columns</p>\n",
       "</div>"
      ],
      "text/plain": [
       "        article_id                                       article_text  \\\n",
       "0       PMC3872579  [a recent systematic analysis showed that in 2...   \n",
       "1       PMC3770628  [it occurs in more than 50% of patients and ma...   \n",
       "2       PMC5330001  [tardive dystonia ( td ) , a rarer side effect...   \n",
       "3       PMC4386667  [lepidoptera include agricultural pests that ,...   \n",
       "4       PMC4307954  [syncope is caused by transient diffuse cerebr...   \n",
       "...            ...                                                ...   \n",
       "119919  PMC3502213  [eukaryotic cells depend on vesicle - mediated...   \n",
       "119920  PMC3198562  [as regards the selection criteria of the post...   \n",
       "119921  PMC4436536  [in most of the peer review publications in th...   \n",
       "119922  PMC4251613  [the reveal registry is a longitudinal registr...   \n",
       "119923  PMC3389695  [cerebral palsy is a nonprogressive central ne...   \n",
       "\n",
       "                                            abstract_text labels  \\\n",
       "0       [<S> background : the present study was carrie...   None   \n",
       "1       [<S> backgroundanemia in patients with cancer ...   None   \n",
       "2       [<S> tardive dystonia ( td ) is a serious side...   None   \n",
       "3       [<S> many lepidopteran insects are agricultura...   None   \n",
       "4       [<S> we present an unusual case of recurrent c...   None   \n",
       "...                                                   ...    ...   \n",
       "119919  [<S> long - distance trafficking of membranous...   None   \n",
       "119920  [<S> aims and objectives : to study the stress...   None   \n",
       "119921  [<S> abstractbackgroundthe objective of this s...   None   \n",
       "119922  [<S> background : patients with pulmonary arte...   None   \n",
       "119923  [<S> \\n objective . to determine </S>, <S> if ...   None   \n",
       "\n",
       "                                            section_names  \\\n",
       "0       [INTRODUCTION, MATERIALS AND METHODS, Particip...   \n",
       "1       [Introduction, Patients and methods, Study des...   \n",
       "2       [INTRODUCTION, CASE REPORT, DISCUSSION, Declar...   \n",
       "3       [1. Introduction, 2. Insect Immunity, 3. Signa...   \n",
       "4       [Introduction, Case report, Discussion, Confli...   \n",
       "...                                                   ...   \n",
       "119919  [Introduction, Motor-Dependent Transport of Ra...   \n",
       "119920  [INTRODUCTION, MATERIALS AND METHODS, Modeling...   \n",
       "119921  [Introduction, Methods, Results, Discussion, L...   \n",
       "119922  [TRIAL REGISTRY:, Materials and Methods, REVEA...   \n",
       "119923  [1. Introduction, 2. Method, 3. Results, 4. Di...   \n",
       "\n",
       "                                                 sections  \n",
       "0       [[a recent systematic analysis showed that in ...  \n",
       "1       [[it occurs in more than 50% of patients and m...  \n",
       "2       [[tardive dystonia ( td ) , a rarer side effec...  \n",
       "3       [[lepidoptera include agricultural pests that ...  \n",
       "4       [[syncope is caused by transient diffuse cereb...  \n",
       "...                                                   ...  \n",
       "119919  [[eukaryotic cells depend on vesicle - mediate...  \n",
       "119920  [[fiber post systems are routinely used in res...  \n",
       "119921  [[in most of the peer review publications in t...  \n",
       "119922  [[], [the reveal registry is a longitudinal re...  \n",
       "119923  [[cerebral palsy is a nonprogressive central n...  \n",
       "\n",
       "[119924 rows x 6 columns]"
      ]
     },
     "execution_count": 7,
     "metadata": {},
     "output_type": "execute_result"
    }
   ],
   "source": [
    "df_train"
   ]
  },
  {
   "cell_type": "code",
   "execution_count": null,
   "id": "6e996ebe-b925-4fd7-8f05-7b8cc0375032",
   "metadata": {},
   "outputs": [],
   "source": []
  },
  {
   "cell_type": "code",
   "execution_count": null,
   "id": "898f55d7-5bc4-4c7b-96dd-4e3fdcbd2baa",
   "metadata": {},
   "outputs": [],
   "source": []
  }
 ],
 "metadata": {
  "kernelspec": {
   "display_name": "Python 3.8 (csci-544-project)",
   "language": "python",
   "name": "csci-544-project"
  },
  "language_info": {
   "codemirror_mode": {
    "name": "ipython",
    "version": 3
   },
   "file_extension": ".py",
   "mimetype": "text/x-python",
   "name": "python",
   "nbconvert_exporter": "python",
   "pygments_lexer": "ipython3",
   "version": "3.8.10"
  }
 },
 "nbformat": 4,
 "nbformat_minor": 5
}
