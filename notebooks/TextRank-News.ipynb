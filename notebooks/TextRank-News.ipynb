{
 "cells": [
  {
   "cell_type": "code",
   "execution_count": 1,
   "id": "b3361b03-4102-4a34-aef3-e1813b915ae4",
   "metadata": {},
   "outputs": [],
   "source": [
    "import gdown\n",
    "import json\n",
    "import numpy as np\n",
    "import pandas as pd\n",
    "from nltk.corpus import stopwords\n",
    "from nltk.tokenize import word_tokenize, sent_tokenize\n",
    "from tqdm.auto import tqdm\n",
    "tqdm.pandas()\n",
    "from datasets import load_metric\n",
    "metric = load_metric(\"rouge\")"
   ]
  },
  {
   "cell_type": "code",
   "execution_count": 2,
   "id": "5bd32ba4-3039-4ca3-9885-ff115408d742",
   "metadata": {},
   "outputs": [
    {
     "data": {
      "text/html": [
       "<div>\n",
       "<style scoped>\n",
       "    .dataframe tbody tr th:only-of-type {\n",
       "        vertical-align: middle;\n",
       "    }\n",
       "\n",
       "    .dataframe tbody tr th {\n",
       "        vertical-align: top;\n",
       "    }\n",
       "\n",
       "    .dataframe thead th {\n",
       "        text-align: right;\n",
       "    }\n",
       "</style>\n",
       "<table border=\"1\" class=\"dataframe\">\n",
       "  <thead>\n",
       "    <tr style=\"text-align: right;\">\n",
       "      <th></th>\n",
       "      <th>headlines</th>\n",
       "      <th>text</th>\n",
       "    </tr>\n",
       "  </thead>\n",
       "  <tbody>\n",
       "    <tr>\n",
       "      <th>0</th>\n",
       "      <td>upGrad learner switches to career in ML &amp; Al w...</td>\n",
       "      <td>Saurav Kant, an alumnus of upGrad and IIIT-B's...</td>\n",
       "    </tr>\n",
       "    <tr>\n",
       "      <th>1</th>\n",
       "      <td>Delhi techie wins free food from Swiggy for on...</td>\n",
       "      <td>Kunal Shah's credit card bill payment platform...</td>\n",
       "    </tr>\n",
       "    <tr>\n",
       "      <th>2</th>\n",
       "      <td>New Zealand end Rohit Sharma-led India's 12-ma...</td>\n",
       "      <td>New Zealand defeated India by 8 wickets in the...</td>\n",
       "    </tr>\n",
       "    <tr>\n",
       "      <th>3</th>\n",
       "      <td>Aegon life iTerm insurance plan helps customer...</td>\n",
       "      <td>With Aegon Life iTerm Insurance plan, customer...</td>\n",
       "    </tr>\n",
       "    <tr>\n",
       "      <th>4</th>\n",
       "      <td>Have known Hirani for yrs, what if MeToo claim...</td>\n",
       "      <td>Speaking about the sexual harassment allegatio...</td>\n",
       "    </tr>\n",
       "  </tbody>\n",
       "</table>\n",
       "</div>"
      ],
      "text/plain": [
       "                                           headlines  \\\n",
       "0  upGrad learner switches to career in ML & Al w...   \n",
       "1  Delhi techie wins free food from Swiggy for on...   \n",
       "2  New Zealand end Rohit Sharma-led India's 12-ma...   \n",
       "3  Aegon life iTerm insurance plan helps customer...   \n",
       "4  Have known Hirani for yrs, what if MeToo claim...   \n",
       "\n",
       "                                                text  \n",
       "0  Saurav Kant, an alumnus of upGrad and IIIT-B's...  \n",
       "1  Kunal Shah's credit card bill payment platform...  \n",
       "2  New Zealand defeated India by 8 wickets in the...  \n",
       "3  With Aegon Life iTerm Insurance plan, customer...  \n",
       "4  Speaking about the sexual harassment allegatio...  "
      ]
     },
     "execution_count": 2,
     "metadata": {},
     "output_type": "execute_result"
    }
   ],
   "source": [
    "df = pd.read_csv('../csci-544-project/data/news_summary_more.csv', encoding='latin-1')\n",
    "df.head()"
   ]
  },
  {
   "cell_type": "code",
   "execution_count": 3,
   "id": "cd05a968-7d94-4207-aac7-bf5435d981d9",
   "metadata": {
    "tags": []
   },
   "outputs": [],
   "source": [
    "import spacy\n",
    "import pytextrank\n",
    "\n",
    "# load a spaCy model, depending on language, scale, etc.\n",
    "nlp = spacy.load(\"en_core_web_sm\")\n",
    "\n",
    "# add PyTextRank to the spaCy pipeline\n",
    "nlp.add_pipe(\"textrank\")\n",
    "\n",
    "def text_rank_apply(row):\n",
    "    doc = nlp(row['text'])\n",
    "    \n",
    "    tr = doc._.textrank\n",
    "    summary = ''\n",
    "    for sent in tr.summary(limit_phrases=15, limit_sentences=5):\n",
    "        summary += str(sent)\n",
    "    return summary"
   ]
  },
  {
   "cell_type": "code",
   "execution_count": 4,
   "id": "486ae506-0ebe-4c96-823f-7e71906ae009",
   "metadata": {},
   "outputs": [
    {
     "data": {
      "application/vnd.jupyter.widget-view+json": {
       "model_id": "e17c1cf371e2468d94c005952f2fcc3b",
       "version_major": 2,
       "version_minor": 0
      },
      "text/plain": [
       "  0%|          | 0/98401 [00:00<?, ?it/s]"
      ]
     },
     "metadata": {},
     "output_type": "display_data"
    }
   ],
   "source": [
    "extractive_summaries = df.progress_apply(text_rank_apply, axis=1)"
   ]
  },
  {
   "cell_type": "code",
   "execution_count": 5,
   "id": "c57c991b-89ec-483b-8b1e-993fec7357d0",
   "metadata": {},
   "outputs": [],
   "source": [
    "df_comp = pd.DataFrame()\n",
    "df_comp['predictions'] = extractive_summaries\n",
    "df_comp['references'] = df['headlines']"
   ]
  },
  {
   "cell_type": "code",
   "execution_count": 7,
   "id": "6c550d14-ca16-4b54-ac4c-9d86fa457544",
   "metadata": {},
   "outputs": [],
   "source": [
    "df_comp.to_pickle('output/textrank-news.pkl')"
   ]
  },
  {
   "cell_type": "code",
   "execution_count": 8,
   "id": "801d90a8-c906-4d54-bdd4-170ea28ad4c2",
   "metadata": {},
   "outputs": [
    {
     "data": {
      "text/plain": [
       "{'rouge1': AggregateScore(low=Score(precision=0.12526050274659903, recall=0.7538163904220454, fmeasure=0.21420688613138872), mid=Score(precision=0.12545410170809312, recall=0.7547991588201832, fmeasure=0.21453000953169782), high=Score(precision=0.12564711647443483, recall=0.7557934787187115, fmeasure=0.21484591820515053)),\n",
       " 'rouge2': AggregateScore(low=Score(precision=0.05193017388096755, recall=0.3399436995510668, fmeasure=0.08979896701872636), mid=Score(precision=0.052144962448686286, recall=0.34124996662383167, fmeasure=0.09016632387033698), high=Score(precision=0.05234694569506965, recall=0.34252881444874606, fmeasure=0.0905158021766391)),\n",
       " 'rougeL': AggregateScore(low=Score(precision=0.10508546030412694, recall=0.6341546047846929, fmeasure=0.17977954978592156), mid=Score(precision=0.10527401312792445, recall=0.6352261097992662, fmeasure=0.180095099153321), high=Score(precision=0.10547898229433407, recall=0.6364313275078537, fmeasure=0.18043958223838585)),\n",
       " 'rougeLsum': AggregateScore(low=Score(precision=0.10507782980846134, recall=0.6341933734979289, fmeasure=0.17976176700311228), mid=Score(precision=0.10527545537224134, recall=0.6352327000014073, fmeasure=0.18009528184668644), high=Score(precision=0.10548938831418904, recall=0.636325649908004, fmeasure=0.18045298443088215))}"
      ]
     },
     "execution_count": 8,
     "metadata": {},
     "output_type": "execute_result"
    }
   ],
   "source": [
    "metric.compute(predictions=df_comp['predictions'].to_list(), references=df_comp['references'].to_list())"
   ]
  },
  {
   "cell_type": "code",
   "execution_count": null,
   "id": "e6582212-134b-48b3-849a-796380e6682c",
   "metadata": {},
   "outputs": [],
   "source": []
  },
  {
   "cell_type": "code",
   "execution_count": 15,
   "id": "9c454353-b8d5-46e1-adb6-870e0bdd36fb",
   "metadata": {},
   "outputs": [
    {
     "data": {
      "text/plain": [
       "'An MIT study has found Earth harboured a mantle which was 200 Ã\\x82ÂºC hotter 3 billion years ago, while the crust was composed of much denser stuff. The combination of a hotter mantle and denser rocks likely caused tectonic plates to sink to the mantle\\'s bottom, 2,800 km below the surface, forming a \"graveyard\" of slabs atop the Earth\\'s core.'"
      ]
     },
     "execution_count": 15,
     "metadata": {},
     "output_type": "execute_result"
    }
   ],
   "source": [
    "df.sample()['text'].item()"
   ]
  },
  {
   "cell_type": "code",
   "execution_count": 22,
   "id": "ac221388-b770-4ae8-a045-d88751a0e1a9",
   "metadata": {},
   "outputs": [
    {
     "data": {
      "text/html": [
       "\n",
       "<div id=\"altair-viz-e24148654dc74c0bbca23651a2e8acfe\"></div>\n",
       "<script type=\"text/javascript\">\n",
       "  (function(spec, embedOpt){\n",
       "    let outputDiv = document.currentScript.previousElementSibling;\n",
       "    if (outputDiv.id !== \"altair-viz-e24148654dc74c0bbca23651a2e8acfe\") {\n",
       "      outputDiv = document.getElementById(\"altair-viz-e24148654dc74c0bbca23651a2e8acfe\");\n",
       "    }\n",
       "    const paths = {\n",
       "      \"vega\": \"https://cdn.jsdelivr.net/npm//vega@5?noext\",\n",
       "      \"vega-lib\": \"https://cdn.jsdelivr.net/npm//vega-lib?noext\",\n",
       "      \"vega-lite\": \"https://cdn.jsdelivr.net/npm//vega-lite@4.8.1?noext\",\n",
       "      \"vega-embed\": \"https://cdn.jsdelivr.net/npm//vega-embed@6?noext\",\n",
       "    };\n",
       "\n",
       "    function loadScript(lib) {\n",
       "      return new Promise(function(resolve, reject) {\n",
       "        var s = document.createElement('script');\n",
       "        s.src = paths[lib];\n",
       "        s.async = true;\n",
       "        s.onload = () => resolve(paths[lib]);\n",
       "        s.onerror = () => reject(`Error loading script: ${paths[lib]}`);\n",
       "        document.getElementsByTagName(\"head\")[0].appendChild(s);\n",
       "      });\n",
       "    }\n",
       "\n",
       "    function showError(err) {\n",
       "      outputDiv.innerHTML = `<div class=\"error\" style=\"color:red;\">${err}</div>`;\n",
       "      throw err;\n",
       "    }\n",
       "\n",
       "    function displayChart(vegaEmbed) {\n",
       "      vegaEmbed(outputDiv, spec, embedOpt)\n",
       "        .catch(err => showError(`Javascript Error: ${err.message}<br>This usually means there's a typo in your chart specification. See the javascript console for the full traceback.`));\n",
       "    }\n",
       "\n",
       "    if(typeof define === \"function\" && define.amd) {\n",
       "      requirejs.config({paths});\n",
       "      require([\"vega-embed\"], displayChart, err => showError(`Error loading script: ${err.message}`));\n",
       "    } else if (typeof vegaEmbed === \"function\") {\n",
       "      displayChart(vegaEmbed);\n",
       "    } else {\n",
       "      loadScript(\"vega\")\n",
       "        .then(() => loadScript(\"vega-lite\"))\n",
       "        .then(() => loadScript(\"vega-embed\"))\n",
       "        .catch(showError)\n",
       "        .then(() => displayChart(vegaEmbed));\n",
       "    }\n",
       "  })({\"config\": {\"view\": {\"continuousWidth\": 400, \"continuousHeight\": 300}}, \"data\": {\"name\": \"data-a2c81d1542499d08eb24e5515f5f0183\"}, \"mark\": \"bar\", \"encoding\": {\"color\": {\"type\": \"quantitative\", \"field\": \"count\"}, \"tooltip\": [{\"type\": \"nominal\", \"field\": \"text\"}, {\"type\": \"quantitative\", \"field\": \"rank\"}, {\"type\": \"quantitative\", \"field\": \"count\"}], \"x\": {\"type\": \"quantitative\", \"field\": \"index\"}, \"y\": {\"type\": \"quantitative\", \"field\": \"rank\"}}, \"title\": \"Keyphrase profile of the document\", \"$schema\": \"https://vega.github.io/schema/vega-lite/v4.8.1.json\", \"datasets\": {\"data-a2c81d1542499d08eb24e5515f5f0183\": [{\"index\": 0, \"text\": \"US President Donald Trump\", \"count\": 1, \"rank\": 0.14988263238611585}, {\"index\": 1, \"text\": \"next year\", \"count\": 1, \"rank\": 0.1319133678263878}, {\"index\": 2, \"text\": \"Donald Trump\", \"count\": 1, \"rank\": 0.12009411356617078}, {\"index\": 3, \"text\": \"Republic Day celebrations\", \"count\": 1, \"rank\": 0.11900283458243432}, {\"index\": 4, \"text\": \"South African President Cyril Ramaphosa\", \"count\": 1, \"rank\": 0.1157608588730197}, {\"index\": 5, \"text\": \"Mahatma Gandhi\", \"count\": 2, \"rank\": 0.10780556188527096}, {\"index\": 6, \"text\": \"Republic Day\", \"count\": 1, \"rank\": 0.10364654531286319}, {\"index\": 7, \"text\": \"Gandhis 150th birth anniversary\", \"count\": 1, \"rank\": 0.09943244195457518}, {\"index\": 8, \"text\": \"Gandhi\", \"count\": 1, \"rank\": 0.09872511753270237}, {\"index\": 9, \"text\": \"Nelson Mandela\", \"count\": 2, \"rank\": 0.09649956888905764}, {\"index\": 10, \"text\": \"US\", \"count\": 1, \"rank\": 0.09332100196271402}, {\"index\": 11, \"text\": \"Cyril Ramaphosa\", \"count\": 1, \"rank\": 0.09298276650917021}, {\"index\": 12, \"text\": \"weeks\", \"count\": 1, \"rank\": 0.08700899087382101}, {\"index\": 13, \"text\": \"150th\", \"count\": 1, \"rank\": 0.0833728707080826}, {\"index\": 14, \"text\": \"\\\"scheduling constraints\", \"count\": 1, \"rank\": 0.08235283333865405}, {\"index\": 15, \"text\": \"Ramaphosa\", \"count\": 2, \"rank\": 0.07236703218043629}, {\"index\": 16, \"text\": \"the White House\", \"count\": 2, \"rank\": 0.06274171141358185}, {\"index\": 17, \"text\": \"South African\", \"count\": 1, \"rank\": 0.06130066491228127}, {\"index\": 18, \"text\": \"the chief guest\", \"count\": 1, \"rank\": 0.05165852335765932}, {\"index\": 19, \"text\": \"the year\", \"count\": 2, \"rank\": 0.051380695531399324}, {\"index\": 20, \"text\": \"a follower\", \"count\": 1, \"rank\": 0.02352131474782867}]}}, {\"mode\": \"vega-lite\"});\n",
       "</script>"
      ],
      "text/plain": [
       "alt.Chart(...)"
      ]
     },
     "execution_count": 22,
     "metadata": {},
     "output_type": "execute_result"
    }
   ],
   "source": [
    "doc = nlp(df.sample()['text'].item())\n",
    "tr = doc._.textrank\n",
    "tr.plot_keyphrases()"
   ]
  },
  {
   "cell_type": "code",
   "execution_count": 37,
   "id": "73b6c6c3-794d-4e18-8c0d-e94db9e2f5b3",
   "metadata": {},
   "outputs": [
    {
     "data": {
      "text/html": [
       "<div>\n",
       "<style scoped>\n",
       "    .dataframe tbody tr th:only-of-type {\n",
       "        vertical-align: middle;\n",
       "    }\n",
       "\n",
       "    .dataframe tbody tr th {\n",
       "        vertical-align: top;\n",
       "    }\n",
       "\n",
       "    .dataframe thead th {\n",
       "        text-align: right;\n",
       "    }\n",
       "</style>\n",
       "<table border=\"1\" class=\"dataframe\">\n",
       "  <thead>\n",
       "    <tr style=\"text-align: right;\">\n",
       "      <th></th>\n",
       "      <th>index</th>\n",
       "      <th>text</th>\n",
       "      <th>count</th>\n",
       "      <th>rank</th>\n",
       "    </tr>\n",
       "  </thead>\n",
       "  <tbody>\n",
       "    <tr>\n",
       "      <th>0</th>\n",
       "      <td>0</td>\n",
       "      <td>US President Donald Trump</td>\n",
       "      <td>1</td>\n",
       "      <td>0.149883</td>\n",
       "    </tr>\n",
       "    <tr>\n",
       "      <th>1</th>\n",
       "      <td>1</td>\n",
       "      <td>next year</td>\n",
       "      <td>1</td>\n",
       "      <td>0.131913</td>\n",
       "    </tr>\n",
       "    <tr>\n",
       "      <th>2</th>\n",
       "      <td>2</td>\n",
       "      <td>Donald Trump</td>\n",
       "      <td>1</td>\n",
       "      <td>0.120094</td>\n",
       "    </tr>\n",
       "    <tr>\n",
       "      <th>3</th>\n",
       "      <td>3</td>\n",
       "      <td>Republic Day celebrations</td>\n",
       "      <td>1</td>\n",
       "      <td>0.119003</td>\n",
       "    </tr>\n",
       "    <tr>\n",
       "      <th>4</th>\n",
       "      <td>4</td>\n",
       "      <td>South African President Cyril Ramaphosa</td>\n",
       "      <td>1</td>\n",
       "      <td>0.115761</td>\n",
       "    </tr>\n",
       "  </tbody>\n",
       "</table>\n",
       "</div>"
      ],
      "text/plain": [
       "   index                                     text  count      rank\n",
       "0      0                US President Donald Trump      1  0.149883\n",
       "1      1                                next year      1  0.131913\n",
       "2      2                             Donald Trump      1  0.120094\n",
       "3      3                Republic Day celebrations      1  0.119003\n",
       "4      4  South African President Cyril Ramaphosa      1  0.115761"
      ]
     },
     "execution_count": 37,
     "metadata": {},
     "output_type": "execute_result"
    }
   ],
   "source": [
    "pd.DataFrame([p.__dict__ for p in doc._.phrases]).drop(\"chunks\", axis=1).reset_index().head()"
   ]
  },
  {
   "cell_type": "code",
   "execution_count": 36,
   "id": "476024a6-f361-45d4-9634-900a542a72ed",
   "metadata": {},
   "outputs": [
    {
     "data": {
      "text/plain": [
       "South African President Cyril Ramaphosa will reportedly be the chief guest at Republic Day celebrations next year, weeks after the White House confirmed US President Donald Trump will not be able to attend due to \"scheduling constraints\". Ramaphosa, a follower of Mahatma Gandhi and Nelson Mandela, was invited as the year will also mark Gandhi's 150th birth anniversary."
      ]
     },
     "execution_count": 36,
     "metadata": {},
     "output_type": "execute_result"
    }
   ],
   "source": [
    "doc"
   ]
  },
  {
   "cell_type": "code",
   "execution_count": 44,
   "id": "6dfaadf4-6f97-4b49-80fd-b6f532b7da52",
   "metadata": {},
   "outputs": [
    {
     "data": {
      "text/plain": [
       "'South African President Cyril Ramaphosa will reportedly be the chief guest at Republic Day celebrations next year, weeks after the White House confirmed US President Donald Trump will not be able to attend due to \"scheduling constraints\".'"
      ]
     },
     "execution_count": 44,
     "metadata": {},
     "output_type": "execute_result"
    }
   ],
   "source": [
    "summary = ''\n",
    "for sent in tr.summary(limit_phrases=1, limit_sentences=1):\n",
    "    summary += str(sent)\n",
    "summary"
   ]
  },
  {
   "cell_type": "code",
   "execution_count": 41,
   "id": "3b4c5222-735f-4cbf-b4c1-346fbd299c85",
   "metadata": {},
   "outputs": [
    {
     "data": {
      "text/html": [
       "<div>\n",
       "<style scoped>\n",
       "    .dataframe tbody tr th:only-of-type {\n",
       "        vertical-align: middle;\n",
       "    }\n",
       "\n",
       "    .dataframe tbody tr th {\n",
       "        vertical-align: top;\n",
       "    }\n",
       "\n",
       "    .dataframe thead th {\n",
       "        text-align: right;\n",
       "    }\n",
       "</style>\n",
       "<table border=\"1\" class=\"dataframe\">\n",
       "  <thead>\n",
       "    <tr style=\"text-align: right;\">\n",
       "      <th></th>\n",
       "      <th>predictions</th>\n",
       "      <th>references</th>\n",
       "    </tr>\n",
       "  </thead>\n",
       "  <tbody>\n",
       "    <tr>\n",
       "      <th>0</th>\n",
       "      <td>Saurav Kant, an alumnus of upGrad and IIIT-B's...</td>\n",
       "      <td>upGrad learner switches to career in ML &amp; Al w...</td>\n",
       "    </tr>\n",
       "    <tr>\n",
       "      <th>1</th>\n",
       "      <td>Users get one CRED coin per rupee of bill paid...</td>\n",
       "      <td>Delhi techie wins free food from Swiggy for on...</td>\n",
       "    </tr>\n",
       "    <tr>\n",
       "      <th>2</th>\n",
       "      <td>New Zealand defeated India by 8 wickets in the...</td>\n",
       "      <td>New Zealand end Rohit Sharma-led India's 12-ma...</td>\n",
       "    </tr>\n",
       "    <tr>\n",
       "      <th>3</th>\n",
       "      <td>Also, customers have options to insure against...</td>\n",
       "      <td>Aegon life iTerm insurance plan helps customer...</td>\n",
       "    </tr>\n",
       "    <tr>\n",
       "      <th>4</th>\n",
       "      <td>Speaking about the sexual harassment allegatio...</td>\n",
       "      <td>Have known Hirani for yrs, what if MeToo claim...</td>\n",
       "    </tr>\n",
       "    <tr>\n",
       "      <th>...</th>\n",
       "      <td>...</td>\n",
       "      <td>...</td>\n",
       "    </tr>\n",
       "    <tr>\n",
       "      <th>98396</th>\n",
       "      <td>A CRPF jawan was on Tuesday axed to death with...</td>\n",
       "      <td>CRPF jawan axed to death by Maoists in Chhatti...</td>\n",
       "    </tr>\n",
       "    <tr>\n",
       "      <th>98397</th>\n",
       "      <td>The song has been composed by Amaal Mallik wit...</td>\n",
       "      <td>First song from Sonakshi Sinha's 'Noor' titled...</td>\n",
       "    </tr>\n",
       "    <tr>\n",
       "      <th>98398</th>\n",
       "      <td>According to reports, a new version of the 199...</td>\n",
       "      <td>'The Matrix' film to get a reboot: Reports</td>\n",
       "    </tr>\n",
       "    <tr>\n",
       "      <th>98399</th>\n",
       "      <td>A new music video shows rapper Snoop Dogg aimi...</td>\n",
       "      <td>Snoop Dogg aims gun at clown dressed as Trump ...</td>\n",
       "    </tr>\n",
       "    <tr>\n",
       "      <th>98400</th>\n",
       "      <td>Madhesi Morcha, an alliance of seven political...</td>\n",
       "      <td>Madhesi Morcha withdraws support to Nepalese g...</td>\n",
       "    </tr>\n",
       "  </tbody>\n",
       "</table>\n",
       "<p>98401 rows × 2 columns</p>\n",
       "</div>"
      ],
      "text/plain": [
       "                                             predictions  \\\n",
       "0      Saurav Kant, an alumnus of upGrad and IIIT-B's...   \n",
       "1      Users get one CRED coin per rupee of bill paid...   \n",
       "2      New Zealand defeated India by 8 wickets in the...   \n",
       "3      Also, customers have options to insure against...   \n",
       "4      Speaking about the sexual harassment allegatio...   \n",
       "...                                                  ...   \n",
       "98396  A CRPF jawan was on Tuesday axed to death with...   \n",
       "98397  The song has been composed by Amaal Mallik wit...   \n",
       "98398  According to reports, a new version of the 199...   \n",
       "98399  A new music video shows rapper Snoop Dogg aimi...   \n",
       "98400  Madhesi Morcha, an alliance of seven political...   \n",
       "\n",
       "                                              references  \n",
       "0      upGrad learner switches to career in ML & Al w...  \n",
       "1      Delhi techie wins free food from Swiggy for on...  \n",
       "2      New Zealand end Rohit Sharma-led India's 12-ma...  \n",
       "3      Aegon life iTerm insurance plan helps customer...  \n",
       "4      Have known Hirani for yrs, what if MeToo claim...  \n",
       "...                                                  ...  \n",
       "98396  CRPF jawan axed to death by Maoists in Chhatti...  \n",
       "98397  First song from Sonakshi Sinha's 'Noor' titled...  \n",
       "98398         'The Matrix' film to get a reboot: Reports  \n",
       "98399  Snoop Dogg aims gun at clown dressed as Trump ...  \n",
       "98400  Madhesi Morcha withdraws support to Nepalese g...  \n",
       "\n",
       "[98401 rows x 2 columns]"
      ]
     },
     "execution_count": 41,
     "metadata": {},
     "output_type": "execute_result"
    }
   ],
   "source": [
    "df_comp"
   ]
  },
  {
   "cell_type": "code",
   "execution_count": 42,
   "id": "264aa20e-449d-48b8-ae55-27ba58f3a7f4",
   "metadata": {},
   "outputs": [
    {
     "data": {
      "text/html": [
       "<div>\n",
       "<style scoped>\n",
       "    .dataframe tbody tr th:only-of-type {\n",
       "        vertical-align: middle;\n",
       "    }\n",
       "\n",
       "    .dataframe tbody tr th {\n",
       "        vertical-align: top;\n",
       "    }\n",
       "\n",
       "    .dataframe thead th {\n",
       "        text-align: right;\n",
       "    }\n",
       "</style>\n",
       "<table border=\"1\" class=\"dataframe\">\n",
       "  <thead>\n",
       "    <tr style=\"text-align: right;\">\n",
       "      <th></th>\n",
       "      <th>headlines</th>\n",
       "      <th>text</th>\n",
       "    </tr>\n",
       "  </thead>\n",
       "  <tbody>\n",
       "    <tr>\n",
       "      <th>0</th>\n",
       "      <td>upGrad learner switches to career in ML &amp; Al w...</td>\n",
       "      <td>Saurav Kant, an alumnus of upGrad and IIIT-B's...</td>\n",
       "    </tr>\n",
       "    <tr>\n",
       "      <th>1</th>\n",
       "      <td>Delhi techie wins free food from Swiggy for on...</td>\n",
       "      <td>Kunal Shah's credit card bill payment platform...</td>\n",
       "    </tr>\n",
       "    <tr>\n",
       "      <th>2</th>\n",
       "      <td>New Zealand end Rohit Sharma-led India's 12-ma...</td>\n",
       "      <td>New Zealand defeated India by 8 wickets in the...</td>\n",
       "    </tr>\n",
       "    <tr>\n",
       "      <th>3</th>\n",
       "      <td>Aegon life iTerm insurance plan helps customer...</td>\n",
       "      <td>With Aegon Life iTerm Insurance plan, customer...</td>\n",
       "    </tr>\n",
       "    <tr>\n",
       "      <th>4</th>\n",
       "      <td>Have known Hirani for yrs, what if MeToo claim...</td>\n",
       "      <td>Speaking about the sexual harassment allegatio...</td>\n",
       "    </tr>\n",
       "    <tr>\n",
       "      <th>...</th>\n",
       "      <td>...</td>\n",
       "      <td>...</td>\n",
       "    </tr>\n",
       "    <tr>\n",
       "      <th>98396</th>\n",
       "      <td>CRPF jawan axed to death by Maoists in Chhatti...</td>\n",
       "      <td>A CRPF jawan was on Tuesday axed to death with...</td>\n",
       "    </tr>\n",
       "    <tr>\n",
       "      <th>98397</th>\n",
       "      <td>First song from Sonakshi Sinha's 'Noor' titled...</td>\n",
       "      <td>'Uff Yeh', the first song from the Sonakshi Si...</td>\n",
       "    </tr>\n",
       "    <tr>\n",
       "      <th>98398</th>\n",
       "      <td>'The Matrix' film to get a reboot: Reports</td>\n",
       "      <td>According to reports, a new version of the 199...</td>\n",
       "    </tr>\n",
       "    <tr>\n",
       "      <th>98399</th>\n",
       "      <td>Snoop Dogg aims gun at clown dressed as Trump ...</td>\n",
       "      <td>A new music video shows rapper Snoop Dogg aimi...</td>\n",
       "    </tr>\n",
       "    <tr>\n",
       "      <th>98400</th>\n",
       "      <td>Madhesi Morcha withdraws support to Nepalese g...</td>\n",
       "      <td>Madhesi Morcha, an alliance of seven political...</td>\n",
       "    </tr>\n",
       "  </tbody>\n",
       "</table>\n",
       "<p>98401 rows × 2 columns</p>\n",
       "</div>"
      ],
      "text/plain": [
       "                                               headlines  \\\n",
       "0      upGrad learner switches to career in ML & Al w...   \n",
       "1      Delhi techie wins free food from Swiggy for on...   \n",
       "2      New Zealand end Rohit Sharma-led India's 12-ma...   \n",
       "3      Aegon life iTerm insurance plan helps customer...   \n",
       "4      Have known Hirani for yrs, what if MeToo claim...   \n",
       "...                                                  ...   \n",
       "98396  CRPF jawan axed to death by Maoists in Chhatti...   \n",
       "98397  First song from Sonakshi Sinha's 'Noor' titled...   \n",
       "98398         'The Matrix' film to get a reboot: Reports   \n",
       "98399  Snoop Dogg aims gun at clown dressed as Trump ...   \n",
       "98400  Madhesi Morcha withdraws support to Nepalese g...   \n",
       "\n",
       "                                                    text  \n",
       "0      Saurav Kant, an alumnus of upGrad and IIIT-B's...  \n",
       "1      Kunal Shah's credit card bill payment platform...  \n",
       "2      New Zealand defeated India by 8 wickets in the...  \n",
       "3      With Aegon Life iTerm Insurance plan, customer...  \n",
       "4      Speaking about the sexual harassment allegatio...  \n",
       "...                                                  ...  \n",
       "98396  A CRPF jawan was on Tuesday axed to death with...  \n",
       "98397  'Uff Yeh', the first song from the Sonakshi Si...  \n",
       "98398  According to reports, a new version of the 199...  \n",
       "98399  A new music video shows rapper Snoop Dogg aimi...  \n",
       "98400  Madhesi Morcha, an alliance of seven political...  \n",
       "\n",
       "[98401 rows x 2 columns]"
      ]
     },
     "execution_count": 42,
     "metadata": {},
     "output_type": "execute_result"
    }
   ],
   "source": [
    "df"
   ]
  },
  {
   "cell_type": "code",
   "execution_count": null,
   "id": "162238bd-5557-4115-9834-c9bf9f0ad871",
   "metadata": {},
   "outputs": [],
   "source": []
  }
 ],
 "metadata": {
  "kernelspec": {
   "display_name": "Python 3.8 (csci-544-project)",
   "language": "python",
   "name": "csci-544-project"
  },
  "language_info": {
   "codemirror_mode": {
    "name": "ipython",
    "version": 3
   },
   "file_extension": ".py",
   "mimetype": "text/x-python",
   "name": "python",
   "nbconvert_exporter": "python",
   "pygments_lexer": "ipython3",
   "version": "3.8.10"
  }
 },
 "nbformat": 4,
 "nbformat_minor": 5
}
